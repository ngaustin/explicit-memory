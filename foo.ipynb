{
 "cells": [
  {
   "cell_type": "code",
   "execution_count": 1,
   "metadata": {},
   "outputs": [],
   "source": [
    "import logging\n",
    "\n",
    "logger = logging.getLogger()\n",
    "logger.disabled = True"
   ]
  },
  {
   "cell_type": "code",
   "execution_count": 2,
   "metadata": {},
   "outputs": [
    {
     "name": "stdout",
     "output_type": "stream",
     "text": [
      "10\n",
      "7\n",
      "10\n"
     ]
    }
   ],
   "source": [
    "from memory.environment.gym import MemoryEnv\n",
    "from memory import EpisodicMemory, SemanticMemory\n",
    "from memory.utils import seed_everything\n",
    "from itertools import count\n",
    "import numpy as np\n",
    "import random\n",
    "from tqdm.notebook import tqdm\n",
    "\n",
    "\n",
    "def get_diff_episodic(max_step, generator_params, caps, seed):\n",
    "\n",
    "    seed_everything(seed)\n",
    "    env = MemoryEnv(max_step=max_step, generator_params=generator_params)\n",
    "\n",
    "    results = []\n",
    "    for capacity in caps:\n",
    "        rewards = {}\n",
    "        for policy in [\"oldest\", \"random\"]:\n",
    "\n",
    "            rewards[policy] = 0\n",
    "            M_e = EpisodicMemory(capacity)\n",
    "            env.reset()\n",
    "\n",
    "            for t in count():\n",
    "                if M_e.is_kinda_full:\n",
    "                    if policy == \"random\":\n",
    "                        M_e.forget_random()\n",
    "                    else:\n",
    "                        M_e.forget_oldest()\n",
    "\n",
    "                while not M_e.is_full:\n",
    "                    ob, _, _, _ = env.step(mode=\"observation\")\n",
    "                    M_e.add(EpisodicMemory.ob2epi(ob))\n",
    "\n",
    "                question, _, _, _ = env.step(mode=\"question\")\n",
    "\n",
    "                pred = M_e.answer_latest(question)\n",
    "\n",
    "                _, reward, done, _ = env.step(mode=\"answer\", action=pred)\n",
    "\n",
    "                rewards[policy] += reward\n",
    "\n",
    "                ob, _, _, _ = env.step(mode=\"observation\")\n",
    "                M_e.add(EpisodicMemory.ob2epi(ob))\n",
    "                if done:\n",
    "                    print(capacity, policy, rewards[policy])\n",
    "                    break\n",
    "\n",
    "        results.append((rewards[\"oldest\"] - rewards[\"random\"]) / rewards[\"oldest\"])\n",
    "        print((rewards[\"oldest\"] - rewards[\"random\"]) / rewards[\"oldest\"])\n",
    "        print()\n",
    "\n",
    "    return np.mean(results)\n",
    "\n",
    "\n",
    "def get_diff_semantic(max_step, generator_params, caps, seed):\n",
    "\n",
    "    seed_everything(seed)\n",
    "    env = MemoryEnv(max_step=max_step, generator_params=generator_params)\n",
    "\n",
    "    results = []\n",
    "    for capacity in caps:\n",
    "        rewards = {}\n",
    "        for policy in [\"weakest\", \"random\"]:\n",
    "\n",
    "            rewards[policy] = 0\n",
    "            M_s = SemanticMemory(capacity)\n",
    "            env.reset()\n",
    "\n",
    "            for t in count():\n",
    "                if M_s.is_kinda_full:\n",
    "                    if policy == \"random\":\n",
    "                        M_s.forget_random()\n",
    "                    elif policy == \"weakest\":\n",
    "                        M_s.forget_weakest()\n",
    "                    else:\n",
    "                        raise ValueError\n",
    "\n",
    "                while not M_s.is_full:\n",
    "                    ob, _, _, _ = env.step(mode=\"observation\")\n",
    "                    M_s.add(SemanticMemory.ob2sem(ob))\n",
    "\n",
    "                question, _, _, _ = env.step(mode=\"question\")\n",
    "\n",
    "                pred = M_s.answer_strongest(question)\n",
    "\n",
    "                _, reward, done, _ = env.step(mode=\"answer\", action=pred)\n",
    "\n",
    "                rewards[policy] += reward\n",
    "\n",
    "                ob, _, _, _ = env.step(mode=\"observation\")\n",
    "                M_s.add(SemanticMemory.ob2sem(ob))\n",
    "                if done:\n",
    "                    print(capacity, policy, rewards[policy])\n",
    "                    break\n",
    "\n",
    "\n",
    "        results.append((rewards[\"weakest\"] - rewards[\"random\"]) / rewards[\"weakest\"])\n",
    "        print((rewards[\"weakest\"] - rewards[\"random\"]) / rewards[\"weakest\"])\n",
    "        print()\n",
    "\n",
    "    return np.mean(results)\n",
    "\n",
    "\n",
    "def get_diff_es(max_step, generator_params, caps, seed, pretrain):\n",
    "\n",
    "    seed_everything(seed)\n",
    "    env = MemoryEnv(max_step=max_step, generator_params=generator_params)\n",
    "\n",
    "    results = []\n",
    "    for capacity in caps:\n",
    "        rewards = {}\n",
    "        for policy in [\"find_common\", \"random\"]:\n",
    "\n",
    "            rewards[policy] = 0\n",
    "            M_e = EpisodicMemory(capacity // 2)\n",
    "            M_s = SemanticMemory(capacity // 2)\n",
    "\n",
    "            if pretrain:\n",
    "                free_space = M_s.pretrain_semantic(generator_params)\n",
    "                M_e.increase_capacity(free_space)\n",
    "                assert M_e.capacity + M_s.capacity == capacity\n",
    "\n",
    "            ob, question = env.reset()\n",
    "            M_e.add(EpisodicMemory.ob2epi(ob))\n",
    "\n",
    "            for t in count():\n",
    "                if M_e.is_kinda_full:\n",
    "                    if policy == \"random\":\n",
    "                        M_e.forget_random()\n",
    "                    elif policy == \"find_common\":\n",
    "\n",
    "                        if not pretrain:\n",
    "                            mem_epis, mem_sem = M_e.get_similar()\n",
    "                        else:\n",
    "                            mem_epis, mem_sem = None, None\n",
    "\n",
    "                        if mem_epis is not None:\n",
    "                            M_s.add(mem_sem)\n",
    "                            if M_s.is_kinda_full:\n",
    "                                M_s.forget_weakest()\n",
    "                                assert M_s.is_full\n",
    "                            for mem_epi_ in mem_epis:\n",
    "                                M_e.forget(mem_epi_)\n",
    "                        else:\n",
    "                            M_e.forget_oldest()\n",
    "                            assert M_e.is_full\n",
    "\n",
    "                    else:\n",
    "                        raise ValueError\n",
    "\n",
    "                if M_e.is_answerable(question):\n",
    "                    pred = M_e.answer_latest(question)\n",
    "                else:\n",
    "                    pred = M_s.answer_strongest(question)\n",
    "\n",
    "                (ob, question), reward, done, info = env.step(pred)\n",
    "\n",
    "                M_e.add(EpisodicMemory.ob2epi(ob))\n",
    "\n",
    "                rewards[policy] += reward\n",
    "\n",
    "                if done:\n",
    "                    print(capacity, policy, rewards[policy])\n",
    "                    break\n",
    "\n",
    "        results.append(\n",
    "            (rewards[\"find_common\"] - rewards[\"random\"]) / rewards[\"find_common\"]\n",
    "        )\n",
    "        print((rewards[\"find_common\"] - rewards[\"random\"]) / rewards[\"find_common\"])\n",
    "        print()\n",
    "\n",
    "    return np.mean(results)\n",
    "\n",
    "\n",
    "seed = 42\n",
    "max_step = 10000\n",
    "caps = [2, 4, 8, 16, 32]\n",
    "generator_params = {\n",
    "    \"max_history\": 100,\n",
    "    \"semantic_knowledge_path\": \"./data/semantic-knowledge.json\",\n",
    "    \"names_path\": \"./data/top-human-names\",\n",
    "    \"weighting_mode\": \"highest\",\n",
    "    \"commonsense_prob\": 0.5,\n",
    "    \"time_start_at\": 0,\n",
    "    \"limits\": {\n",
    "        \"heads\": 10,\n",
    "        \"tails\": 1,\n",
    "        \"names\": 10,\n",
    "        \"allow_spaces\": False,\n",
    "    },\n",
    "    \"disjoint_entities\": True,\n",
    "}\n",
    "seed_everything(seed)\n",
    "env = MemoryEnv(max_step=max_step, generator_params=generator_params)\n",
    "\n",
    "print(len(env.oqag.heads))\n",
    "print(len(env.oqag.tails))\n",
    "print(len(env.oqag.names))\n"
   ]
  },
  {
   "cell_type": "code",
   "execution_count": 7,
   "metadata": {},
   "outputs": [
    {
     "name": "stdout",
     "output_type": "stream",
     "text": [
      "> \u001b[0;32m/home/tk/repos/explicit-memory/memory/memory.py\u001b[0m(551)\u001b[0;36mget_similar\u001b[0;34m()\u001b[0m\n",
      "\u001b[0;32m    549 \u001b[0;31m        \u001b[0;32mimport\u001b[0m \u001b[0mpdb\u001b[0m\u001b[0;34m;\u001b[0m \u001b[0mpdb\u001b[0m\u001b[0;34m.\u001b[0m\u001b[0mset_trace\u001b[0m\u001b[0;34m(\u001b[0m\u001b[0;34m)\u001b[0m\u001b[0;34m\u001b[0m\u001b[0;34m\u001b[0m\u001b[0m\n",
      "\u001b[0m\u001b[0;32m    550 \u001b[0;31m\u001b[0;34m\u001b[0m\u001b[0m\n",
      "\u001b[0m\u001b[0;32m--> 551 \u001b[0;31m        \u001b[0;32mif\u001b[0m \u001b[0mlen\u001b[0m\u001b[0;34m(\u001b[0m\u001b[0msemantic_possibles\u001b[0m\u001b[0;34m)\u001b[0m \u001b[0;34m==\u001b[0m \u001b[0mlen\u001b[0m\u001b[0;34m(\u001b[0m\u001b[0mentries\u001b[0m\u001b[0;34m)\u001b[0m\u001b[0;34m:\u001b[0m\u001b[0;34m\u001b[0m\u001b[0;34m\u001b[0m\u001b[0m\n",
      "\u001b[0m\u001b[0;32m    552 \u001b[0;31m            \u001b[0mlogging\u001b[0m\u001b[0;34m.\u001b[0m\u001b[0minfo\u001b[0m\u001b[0;34m(\u001b[0m\u001b[0;34m\"no episodic memories found to be compressible.\"\u001b[0m\u001b[0;34m)\u001b[0m\u001b[0;34m\u001b[0m\u001b[0;34m\u001b[0m\u001b[0m\n",
      "\u001b[0m\u001b[0;32m    553 \u001b[0;31m            \u001b[0;32mreturn\u001b[0m \u001b[0;32mNone\u001b[0m\u001b[0;34m,\u001b[0m \u001b[0;32mNone\u001b[0m\u001b[0;34m\u001b[0m\u001b[0;34m\u001b[0m\u001b[0m\n",
      "\u001b[0m\n",
      "{'laptop^AtLocation^desk': [0, 1], 'laptop^AtLocation^kitchen': [3], 'laptop^AtLocation^bar': [2]}\n"
     ]
    },
    {
     "ename": "BdbQuit",
     "evalue": "",
     "output_type": "error",
     "traceback": [
      "\u001b[0;31m---------------------------------------------------------------------------\u001b[0m",
      "\u001b[0;31mBdbQuit\u001b[0m                                   Traceback (most recent call last)",
      "\u001b[0;32m/tmp/ipykernel_59653/4111862006.py\u001b[0m in \u001b[0;36m<module>\u001b[0;34m\u001b[0m\n\u001b[1;32m      6\u001b[0m \u001b[0mM_e\u001b[0m\u001b[0;34m.\u001b[0m\u001b[0madd\u001b[0m\u001b[0;34m(\u001b[0m\u001b[0;34m[\u001b[0m\u001b[0;34m\"Baz's laptop\"\u001b[0m\u001b[0;34m,\u001b[0m \u001b[0;34m\"AtLocation\"\u001b[0m\u001b[0;34m,\u001b[0m \u001b[0;34m\"Baz's kitchen\"\u001b[0m\u001b[0;34m,\u001b[0m \u001b[0;36m3\u001b[0m\u001b[0;34m]\u001b[0m\u001b[0;34m)\u001b[0m\u001b[0;34m\u001b[0m\u001b[0;34m\u001b[0m\u001b[0m\n\u001b[1;32m      7\u001b[0m \u001b[0;34m\u001b[0m\u001b[0m\n\u001b[0;32m----> 8\u001b[0;31m \u001b[0mM_e\u001b[0m\u001b[0;34m.\u001b[0m\u001b[0mget_similar\u001b[0m\u001b[0;34m(\u001b[0m\u001b[0;34m)\u001b[0m\u001b[0;34m\u001b[0m\u001b[0;34m\u001b[0m\u001b[0m\n\u001b[0m",
      "\u001b[0;32m~/repos/explicit-memory/memory/memory.py\u001b[0m in \u001b[0;36mget_similar\u001b[0;34m(self, entries)\u001b[0m\n\u001b[1;32m    549\u001b[0m         \u001b[0;32mimport\u001b[0m \u001b[0mpdb\u001b[0m\u001b[0;34m;\u001b[0m \u001b[0mpdb\u001b[0m\u001b[0;34m.\u001b[0m\u001b[0mset_trace\u001b[0m\u001b[0;34m(\u001b[0m\u001b[0;34m)\u001b[0m\u001b[0;34m\u001b[0m\u001b[0;34m\u001b[0m\u001b[0m\n\u001b[1;32m    550\u001b[0m \u001b[0;34m\u001b[0m\u001b[0m\n\u001b[0;32m--> 551\u001b[0;31m         \u001b[0;32mif\u001b[0m \u001b[0mlen\u001b[0m\u001b[0;34m(\u001b[0m\u001b[0msemantic_possibles\u001b[0m\u001b[0;34m)\u001b[0m \u001b[0;34m==\u001b[0m \u001b[0mlen\u001b[0m\u001b[0;34m(\u001b[0m\u001b[0mentries\u001b[0m\u001b[0;34m)\u001b[0m\u001b[0;34m:\u001b[0m\u001b[0;34m\u001b[0m\u001b[0;34m\u001b[0m\u001b[0m\n\u001b[0m\u001b[1;32m    552\u001b[0m             \u001b[0mlogging\u001b[0m\u001b[0;34m.\u001b[0m\u001b[0minfo\u001b[0m\u001b[0;34m(\u001b[0m\u001b[0;34m\"no episodic memories found to be compressible.\"\u001b[0m\u001b[0;34m)\u001b[0m\u001b[0;34m\u001b[0m\u001b[0;34m\u001b[0m\u001b[0m\n\u001b[1;32m    553\u001b[0m             \u001b[0;32mreturn\u001b[0m \u001b[0;32mNone\u001b[0m\u001b[0;34m,\u001b[0m \u001b[0;32mNone\u001b[0m\u001b[0;34m\u001b[0m\u001b[0;34m\u001b[0m\u001b[0m\n",
      "\u001b[0;32m~/repos/explicit-memory/memory/memory.py\u001b[0m in \u001b[0;36mget_similar\u001b[0;34m(self, entries)\u001b[0m\n\u001b[1;32m    549\u001b[0m         \u001b[0;32mimport\u001b[0m \u001b[0mpdb\u001b[0m\u001b[0;34m;\u001b[0m \u001b[0mpdb\u001b[0m\u001b[0;34m.\u001b[0m\u001b[0mset_trace\u001b[0m\u001b[0;34m(\u001b[0m\u001b[0;34m)\u001b[0m\u001b[0;34m\u001b[0m\u001b[0;34m\u001b[0m\u001b[0m\n\u001b[1;32m    550\u001b[0m \u001b[0;34m\u001b[0m\u001b[0m\n\u001b[0;32m--> 551\u001b[0;31m         \u001b[0;32mif\u001b[0m \u001b[0mlen\u001b[0m\u001b[0;34m(\u001b[0m\u001b[0msemantic_possibles\u001b[0m\u001b[0;34m)\u001b[0m \u001b[0;34m==\u001b[0m \u001b[0mlen\u001b[0m\u001b[0;34m(\u001b[0m\u001b[0mentries\u001b[0m\u001b[0;34m)\u001b[0m\u001b[0;34m:\u001b[0m\u001b[0;34m\u001b[0m\u001b[0;34m\u001b[0m\u001b[0m\n\u001b[0m\u001b[1;32m    552\u001b[0m             \u001b[0mlogging\u001b[0m\u001b[0;34m.\u001b[0m\u001b[0minfo\u001b[0m\u001b[0;34m(\u001b[0m\u001b[0;34m\"no episodic memories found to be compressible.\"\u001b[0m\u001b[0;34m)\u001b[0m\u001b[0;34m\u001b[0m\u001b[0;34m\u001b[0m\u001b[0m\n\u001b[1;32m    553\u001b[0m             \u001b[0;32mreturn\u001b[0m \u001b[0;32mNone\u001b[0m\u001b[0;34m,\u001b[0m \u001b[0;32mNone\u001b[0m\u001b[0;34m\u001b[0m\u001b[0;34m\u001b[0m\u001b[0m\n",
      "\u001b[0;32m/usr/local/lib/python3.7/bdb.py\u001b[0m in \u001b[0;36mtrace_dispatch\u001b[0;34m(self, frame, event, arg)\u001b[0m\n\u001b[1;32m     86\u001b[0m             \u001b[0;32mreturn\u001b[0m \u001b[0;31m# None\u001b[0m\u001b[0;34m\u001b[0m\u001b[0;34m\u001b[0m\u001b[0m\n\u001b[1;32m     87\u001b[0m         \u001b[0;32mif\u001b[0m \u001b[0mevent\u001b[0m \u001b[0;34m==\u001b[0m \u001b[0;34m'line'\u001b[0m\u001b[0;34m:\u001b[0m\u001b[0;34m\u001b[0m\u001b[0;34m\u001b[0m\u001b[0m\n\u001b[0;32m---> 88\u001b[0;31m             \u001b[0;32mreturn\u001b[0m \u001b[0mself\u001b[0m\u001b[0;34m.\u001b[0m\u001b[0mdispatch_line\u001b[0m\u001b[0;34m(\u001b[0m\u001b[0mframe\u001b[0m\u001b[0;34m)\u001b[0m\u001b[0;34m\u001b[0m\u001b[0;34m\u001b[0m\u001b[0m\n\u001b[0m\u001b[1;32m     89\u001b[0m         \u001b[0;32mif\u001b[0m \u001b[0mevent\u001b[0m \u001b[0;34m==\u001b[0m \u001b[0;34m'call'\u001b[0m\u001b[0;34m:\u001b[0m\u001b[0;34m\u001b[0m\u001b[0;34m\u001b[0m\u001b[0m\n\u001b[1;32m     90\u001b[0m             \u001b[0;32mreturn\u001b[0m \u001b[0mself\u001b[0m\u001b[0;34m.\u001b[0m\u001b[0mdispatch_call\u001b[0m\u001b[0;34m(\u001b[0m\u001b[0mframe\u001b[0m\u001b[0;34m,\u001b[0m \u001b[0marg\u001b[0m\u001b[0;34m)\u001b[0m\u001b[0;34m\u001b[0m\u001b[0;34m\u001b[0m\u001b[0m\n",
      "\u001b[0;32m/usr/local/lib/python3.7/bdb.py\u001b[0m in \u001b[0;36mdispatch_line\u001b[0;34m(self, frame)\u001b[0m\n\u001b[1;32m    111\u001b[0m         \u001b[0;32mif\u001b[0m \u001b[0mself\u001b[0m\u001b[0;34m.\u001b[0m\u001b[0mstop_here\u001b[0m\u001b[0;34m(\u001b[0m\u001b[0mframe\u001b[0m\u001b[0;34m)\u001b[0m \u001b[0;32mor\u001b[0m \u001b[0mself\u001b[0m\u001b[0;34m.\u001b[0m\u001b[0mbreak_here\u001b[0m\u001b[0;34m(\u001b[0m\u001b[0mframe\u001b[0m\u001b[0;34m)\u001b[0m\u001b[0;34m:\u001b[0m\u001b[0;34m\u001b[0m\u001b[0;34m\u001b[0m\u001b[0m\n\u001b[1;32m    112\u001b[0m             \u001b[0mself\u001b[0m\u001b[0;34m.\u001b[0m\u001b[0muser_line\u001b[0m\u001b[0;34m(\u001b[0m\u001b[0mframe\u001b[0m\u001b[0;34m)\u001b[0m\u001b[0;34m\u001b[0m\u001b[0;34m\u001b[0m\u001b[0m\n\u001b[0;32m--> 113\u001b[0;31m             \u001b[0;32mif\u001b[0m \u001b[0mself\u001b[0m\u001b[0;34m.\u001b[0m\u001b[0mquitting\u001b[0m\u001b[0;34m:\u001b[0m \u001b[0;32mraise\u001b[0m \u001b[0mBdbQuit\u001b[0m\u001b[0;34m\u001b[0m\u001b[0;34m\u001b[0m\u001b[0m\n\u001b[0m\u001b[1;32m    114\u001b[0m         \u001b[0;32mreturn\u001b[0m \u001b[0mself\u001b[0m\u001b[0;34m.\u001b[0m\u001b[0mtrace_dispatch\u001b[0m\u001b[0;34m\u001b[0m\u001b[0;34m\u001b[0m\u001b[0m\n\u001b[1;32m    115\u001b[0m \u001b[0;34m\u001b[0m\u001b[0m\n",
      "\u001b[0;31mBdbQuit\u001b[0m: "
     ]
    }
   ],
   "source": [
    "M_e = EpisodicMemory(4)\n",
    "\n",
    "M_e.add([\"Tae's laptop\", \"AtLocation\", \"Tae's desk\", 0])\n",
    "M_e.add([\"Foo's laptop\", \"AtLocation\", \"Foo's desk\", 1])\n",
    "M_e.add([\"Bar's laptop\", \"AtLocation\", \"Bar's bar\", 2])\n",
    "M_e.add([\"Baz's laptop\", \"AtLocation\", \"Baz's kitchen\", 3])\n",
    "\n",
    "M_e.get_similar()"
   ]
  },
  {
   "cell_type": "code",
   "execution_count": 14,
   "metadata": {},
   "outputs": [
    {
     "name": "stdout",
     "output_type": "stream",
     "text": [
      "2 oldest 611\n",
      "2 random 595\n",
      "0.02618657937806874\n",
      "\n",
      "4 oldest 1183\n",
      "4 random 1184\n",
      "-0.0008453085376162299\n",
      "\n",
      "8 oldest 2233\n",
      "8 random 2043\n",
      "0.08508732646663682\n",
      "\n",
      "16 oldest 4098\n",
      "16 random 3550\n",
      "0.13372376769155686\n",
      "\n",
      "32 oldest 6660\n",
      "32 random 5452\n",
      "0.18138138138138138\n",
      "\n"
     ]
    },
    {
     "data": {
      "text/plain": [
       "0.0851067492760055"
      ]
     },
     "execution_count": 14,
     "metadata": {},
     "output_type": "execute_result"
    }
   ],
   "source": [
    "diff = get_diff_episodic(max_step, generator_params, caps, seed)\n",
    "diff"
   ]
  },
  {
   "cell_type": "code",
   "execution_count": 16,
   "metadata": {},
   "outputs": [
    {
     "name": "stdout",
     "output_type": "stream",
     "text": [
      "2 weakest 1109\n",
      "2 random 1223\n",
      "-0.10279531109107304\n",
      "\n",
      "4 weakest 1367\n",
      "4 random 2135\n",
      "-0.5618141916605706\n",
      "\n",
      "8 weakest 2491\n",
      "8 random 3276\n",
      "-0.3151344841429145\n",
      "\n",
      "16 weakest 4085\n",
      "16 random 4382\n",
      "-0.07270501835985312\n",
      "\n",
      "32 weakest 5624\n",
      "32 random 4727\n",
      "0.1594950213371266\n",
      "\n"
     ]
    },
    {
     "data": {
      "text/plain": [
       "-0.17859079678345696"
      ]
     },
     "execution_count": 16,
     "metadata": {},
     "output_type": "execute_result"
    }
   ],
   "source": [
    "diff = get_diff_semantic(max_step, generator_params, caps, 40)\n",
    "diff"
   ]
  },
  {
   "cell_type": "code",
   "execution_count": 31,
   "metadata": {},
   "outputs": [
    {
     "ename": "TypeError",
     "evalue": "cannot unpack non-iterable NoneType object",
     "output_type": "error",
     "traceback": [
      "\u001b[0;31m---------------------------------------------------------------------------\u001b[0m",
      "\u001b[0;31mTypeError\u001b[0m                                 Traceback (most recent call last)",
      "\u001b[0;32m/tmp/ipykernel_55691/2115371135.py\u001b[0m in \u001b[0;36m<module>\u001b[0;34m\u001b[0m\n\u001b[0;32m----> 1\u001b[0;31m \u001b[0mdiff\u001b[0m \u001b[0;34m=\u001b[0m \u001b[0mget_diff_es\u001b[0m\u001b[0;34m(\u001b[0m\u001b[0mmax_step\u001b[0m\u001b[0;34m,\u001b[0m \u001b[0mgenerator_params\u001b[0m\u001b[0;34m,\u001b[0m \u001b[0mcaps\u001b[0m\u001b[0;34m,\u001b[0m \u001b[0mseed\u001b[0m\u001b[0;34m,\u001b[0m \u001b[0;32mFalse\u001b[0m\u001b[0;34m)\u001b[0m\u001b[0;34m\u001b[0m\u001b[0;34m\u001b[0m\u001b[0m\n\u001b[0m\u001b[1;32m      2\u001b[0m \u001b[0mdiff\u001b[0m\u001b[0;34m\u001b[0m\u001b[0;34m\u001b[0m\u001b[0m\n",
      "\u001b[0;32m/tmp/ipykernel_55691/1447597218.py\u001b[0m in \u001b[0;36mget_diff_es\u001b[0;34m(max_step, generator_params, caps, seed, pretrain)\u001b[0m\n\u001b[1;32m    122\u001b[0m                 \u001b[0;32massert\u001b[0m \u001b[0mM_e\u001b[0m\u001b[0;34m.\u001b[0m\u001b[0mcapacity\u001b[0m \u001b[0;34m+\u001b[0m \u001b[0mM_s\u001b[0m\u001b[0;34m.\u001b[0m\u001b[0mcapacity\u001b[0m \u001b[0;34m==\u001b[0m \u001b[0mcapacity\u001b[0m\u001b[0;34m\u001b[0m\u001b[0;34m\u001b[0m\u001b[0m\n\u001b[1;32m    123\u001b[0m \u001b[0;34m\u001b[0m\u001b[0m\n\u001b[0;32m--> 124\u001b[0;31m             \u001b[0mob\u001b[0m\u001b[0;34m,\u001b[0m \u001b[0mquestion\u001b[0m \u001b[0;34m=\u001b[0m \u001b[0menv\u001b[0m\u001b[0;34m.\u001b[0m\u001b[0mreset\u001b[0m\u001b[0;34m(\u001b[0m\u001b[0;34m)\u001b[0m\u001b[0;34m\u001b[0m\u001b[0;34m\u001b[0m\u001b[0m\n\u001b[0m\u001b[1;32m    125\u001b[0m             \u001b[0mM_e\u001b[0m\u001b[0;34m.\u001b[0m\u001b[0madd\u001b[0m\u001b[0;34m(\u001b[0m\u001b[0mEpisodicMemory\u001b[0m\u001b[0;34m.\u001b[0m\u001b[0mob2epi\u001b[0m\u001b[0;34m(\u001b[0m\u001b[0mob\u001b[0m\u001b[0;34m)\u001b[0m\u001b[0;34m)\u001b[0m\u001b[0;34m\u001b[0m\u001b[0;34m\u001b[0m\u001b[0m\n\u001b[1;32m    126\u001b[0m \u001b[0;34m\u001b[0m\u001b[0m\n",
      "\u001b[0;31mTypeError\u001b[0m: cannot unpack non-iterable NoneType object"
     ]
    }
   ],
   "source": [
    "diff = get_diff_es(max_step, generator_params, caps, seed, False)\n",
    "diff"
   ]
  },
  {
   "cell_type": "code",
   "execution_count": null,
   "metadata": {},
   "outputs": [],
   "source": [
    "diff = get_diff_es(max_step, generator_params, caps, seed, True)\n",
    "diff"
   ]
  },
  {
   "cell_type": "code",
   "execution_count": null,
   "metadata": {},
   "outputs": [],
   "source": []
  }
 ],
 "metadata": {
  "interpreter": {
   "hash": "7808f786822013b9d5984aa54e12ef6bec326a79c76c0a75cd22ab652610adbd"
  },
  "kernelspec": {
   "display_name": "Python 3.7.12 64-bit ('explicit-memory': virtualenv)",
   "language": "python",
   "name": "python3"
  },
  "language_info": {
   "codemirror_mode": {
    "name": "ipython",
    "version": 3
   },
   "file_extension": ".py",
   "mimetype": "text/x-python",
   "name": "python",
   "nbconvert_exporter": "python",
   "pygments_lexer": "ipython3",
   "version": "3.7.12"
  },
  "orig_nbformat": 4
 },
 "nbformat": 4,
 "nbformat_minor": 2
}
