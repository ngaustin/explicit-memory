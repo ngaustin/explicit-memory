{
 "cells": [
  {
   "cell_type": "code",
   "execution_count": 21,
   "id": "3f51d857-8964-444b-b99e-967b20ba4170",
   "metadata": {},
   "outputs": [],
   "source": [
    "import csv\n",
    "\n",
    "observations_semantic = []\n",
    "with open('./data/observations.csv', newline='') as csvfile:\n",
    "    reader = csv.reader(csvfile, delimiter=',')\n",
    "    for row in reader:\n",
    "        observations_semantic.append(row)"
   ]
  },
  {
   "cell_type": "code",
   "execution_count": 31,
   "id": "217b4876-7f1a-4361-b09f-61ccf57a4bb8",
   "metadata": {},
   "outputs": [],
   "source": [
    "obs_s = observations_semantic[0]"
   ]
  },
  {
   "cell_type": "code",
   "execution_count": 32,
   "id": "a73c09f1-0632-4af0-9641-e240c948559b",
   "metadata": {},
   "outputs": [
    {
     "data": {
      "text/plain": [
       "[\"Michael's car\", 'AtLocation', 'highway']"
      ]
     },
     "execution_count": 32,
     "metadata": {},
     "output_type": "execute_result"
    }
   ],
   "source": [
    "obs_s"
   ]
  },
  {
   "cell_type": "code",
   "execution_count": 35,
   "id": "927ea21f-ebcd-427b-b0e3-9fc2745a0a29",
   "metadata": {},
   "outputs": [
    {
     "data": {
      "text/plain": [
       "'highway'"
      ]
     },
     "execution_count": 35,
     "metadata": {},
     "output_type": "execute_result"
    }
   ],
   "source": [
    "obs_s[2]"
   ]
  },
  {
   "cell_type": "code",
   "execution_count": 30,
   "id": "8177d323-1173-47b0-8406-4fa994148b42",
   "metadata": {},
   "outputs": [
    {
     "data": {
      "text/plain": [
       "[\"Michael's car\", 'AtLocation', 'highway']"
      ]
     },
     "execution_count": 30,
     "metadata": {},
     "output_type": "execute_result"
    }
   ],
   "source": [
    "observations_semantic[0]"
   ]
  }
 ],
 "metadata": {
  "kernelspec": {
   "display_name": "Python 3",
   "language": "python",
   "name": "python3"
  },
  "language_info": {
   "codemirror_mode": {
    "name": "ipython",
    "version": 3
   },
   "file_extension": ".py",
   "mimetype": "text/x-python",
   "name": "python",
   "nbconvert_exporter": "python",
   "pygments_lexer": "ipython3",
   "version": "3.7.12"
  }
 },
 "nbformat": 4,
 "nbformat_minor": 5
}
