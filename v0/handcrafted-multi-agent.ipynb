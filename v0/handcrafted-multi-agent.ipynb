{
 "cells": [
  {
   "cell_type": "code",
   "execution_count": 1,
   "metadata": {},
   "outputs": [],
   "source": [
    "import logging\n",
    "\n",
    "logger = logging.getLogger()\n",
    "logger.disabled = True\n",
    "\n",
    "from memory.agent import HandcraftedAgent\n",
    "import gym\n",
    "import room_env"
   ]
  },
  {
   "cell_type": "code",
   "execution_count": 2,
   "metadata": {},
   "outputs": [
    {
     "data": {
      "application/vnd.jupyter.widget-view+json": {
       "model_id": "3b8ccd34489c4a068e38c3062b8764f6",
       "version_major": 2,
       "version_minor": 0
      },
      "text/plain": [
       "  0%|          | 0/4 [00:00<?, ?it/s]"
      ]
     },
     "metadata": {},
     "output_type": "display_data"
    }
   ],
   "source": [
    "from tqdm.notebook import tqdm\n",
    "import numpy as np\n",
    "\n",
    "env_params = {\n",
    "    \"room_size\": \"small\",\n",
    "    \"weighting_mode\": \"highest\",\n",
    "    \"probs\": {\n",
    "        \"commonsense\": 0.7,\n",
    "        \"new_location\": 0.1,\n",
    "        \"new_object\": 0.1,\n",
    "        \"switch_person\": 0.5,\n",
    "    },\n",
    "    \"limits\": {\n",
    "        \"heads\": None,\n",
    "        \"tails\": None,\n",
    "        \"names\": None,\n",
    "        \"allow_spaces\": False,\n",
    "    },\n",
    "    \"max_step\": 1000,\n",
    "    \"disjoint_entities\": True,\n",
    "    \"num_agents\": 1,\n",
    "}\n",
    "\n",
    "\n",
    "results_all = {}\n",
    "seeds = [0, 1, 2, 3, 4]\n",
    "caps = [16, 32]\n",
    "num_agentss = [1, 2]\n",
    "agent_types = [\n",
    "    \"episodic\",\n",
    "    \"semantic\",\n",
    "    \"episodic_semantic\",\n",
    "    \"episodic_semantic_pretrain\",\n",
    "]\n",
    "\n",
    "for agent_type in tqdm(agent_types):\n",
    "    results_all[agent_type] = {}\n",
    "    strategy_types = []\n",
    "    if agent_type == \"episodic\":\n",
    "        for forget_policy in [\"oldest\", \"random\"]:\n",
    "            for answer_policy in [\"latest\", \"random\"]:\n",
    "                strategy_types.append(f\"{forget_policy}_{answer_policy}\")\n",
    "\n",
    "    elif agent_type == \"semantic\":\n",
    "        for forget_policy in [\"weakest\", \"random\"]:\n",
    "            for answer_policy in [\"strongest\", \"random\"]:\n",
    "                strategy_types.append(f\"{forget_policy}_{answer_policy}\")\n",
    "    elif agent_type == \"episodic_semantic\":\n",
    "        for forget_policy in [\"generalize\", \"random\"]:\n",
    "            for answer_policy in [\"episem\", \"random\"]:\n",
    "                strategy_types.append(f\"{forget_policy}_{answer_policy}\")\n",
    "    else:\n",
    "        for forget_policy in [\"oldest\", \"random\"]:\n",
    "            for answer_policy in [\"episem\", \"random\"]:\n",
    "                strategy_types.append(f\"{forget_policy}_{answer_policy}\")\n",
    "\n",
    "    for capacity in caps:\n",
    "        results_all[agent_type][capacity] = {}\n",
    "        for strategy_type in strategy_types:\n",
    "            results_all[agent_type][capacity][strategy_type] = {}\n",
    "            for num_agents in num_agentss:\n",
    "                stats = []\n",
    "                for seed in seeds:\n",
    "\n",
    "                    forget_policy, answer_policy = strategy_type.split(\"_\")\n",
    "                    if agent_type == \"episodic\":\n",
    "                        episodic_capacity = capacity\n",
    "                        semantic_capacity = 0\n",
    "                    elif agent_type == \"semantic\":\n",
    "                        episodic_capacity = 0\n",
    "                        semantic_capacity = capacity\n",
    "                    else:\n",
    "                        episodic_capacity = capacity // 2\n",
    "                        semantic_capacity = capacity // 2\n",
    "\n",
    "                    env_params[\"num_agents\"] = num_agents\n",
    "                    env = gym.make(\"RoomEnv-v0\", **env_params)\n",
    "                    agent = HandcraftedAgent(\n",
    "                        seed=seed,\n",
    "                        agent_type=agent_type,\n",
    "                        forget_policy=forget_policy,\n",
    "                        answer_policy=answer_policy,\n",
    "                        episodic_capacity=episodic_capacity,\n",
    "                        semantic_capacity=semantic_capacity,\n",
    "                        env=env,\n",
    "                    )\n",
    "                    agent.run()\n",
    "                    stats.append(agent.rewards)\n",
    "                results_all[agent_type][capacity][strategy_type][num_agents] = {\n",
    "                    \"mean\": round(np.mean(stats).item(), 4),\n",
    "                    \"std\": round(np.std(stats).item(), 4),\n",
    "                }"
   ]
  },
  {
   "cell_type": "code",
   "execution_count": 3,
   "metadata": {},
   "outputs": [
    {
     "name": "stdout",
     "output_type": "stream",
     "text": [
      "episodic [602.8]\n",
      "semantic [507.4]\n",
      "episodic_semantic [637.8]\n",
      "episodic_semantic_pretrain [728.6]\n",
      "episodic [489.4]\n",
      "semantic [525.0]\n",
      "episodic_semantic [626.8]\n",
      "episodic_semantic_pretrain [692.2]\n"
     ]
    },
    {
     "data": {
      "image/png": "[encoded data removed]",
      "text/plain": [
       "<Figure size 720x360 with 1 Axes>"
      ]
     },
     "metadata": {
      "needs_background": "light"
     },
     "output_type": "display_data"
    }
   ],
   "source": [
    "import matplotlib.pyplot as plt\n",
    "\n",
    "caps = {1: [32], 2: [16]}\n",
    "\n",
    "fig, ax = plt.subplots(figsize=(10, 5))\n",
    "color_order = {\n",
    "    1: [\"navajowhite\", \"lightskyblue\", \"lightgreen\", \"lightpink\"],\n",
    "    2: [\"orange\", \"dodgerblue\", \"yellowgreen\", \"deeppink\"],\n",
    "}\n",
    "width = {1: 0.1, 2: 0.15}\n",
    "\n",
    "legend_order = [\n",
    "    \"Hand-crafted 1: Only episodic\",\n",
    "    \"Hand-crafted 2: Only semantic\",\n",
    "    \"Hand-crafted 3: Both epi and sem\",\n",
    "    \"Hand-crafted 4: Both epi and pre-sem\",\n",
    "]\n",
    "for num_agents in num_agentss[::-1]:\n",
    "    idx = np.asanyarray([i for i in range(len(caps[num_agents]))])\n",
    "\n",
    "    for agent_type, w, color in zip(\n",
    "        agent_types, [-1.5, -0.5, 0.5, 1.5], color_order[num_agents]\n",
    "    ):\n",
    "        if agent_type == \"episodic\":\n",
    "            strategy_type = \"oldest_latest\"\n",
    "        elif agent_type == \"semantic\":\n",
    "            strategy_type = \"weakest_strongest\"\n",
    "        elif agent_type == \"episodic_semantic\":\n",
    "            strategy_type = \"generalize_episem\"\n",
    "        else:\n",
    "            strategy_type = \"oldest_episem\"\n",
    "\n",
    "        means = [\n",
    "            results_all[agent_type][capacity][strategy_type][num_agents][\"mean\"]\n",
    "            for capacity in caps[num_agents]\n",
    "        ]\n",
    "        stds = [\n",
    "            results_all[agent_type][capacity][strategy_type][num_agents][\"std\"]\n",
    "            for capacity in caps[num_agents]\n",
    "        ]\n",
    "\n",
    "        print(agent_type, means)\n",
    "        ax.bar(\n",
    "            x=idx + w * 0.2,\n",
    "            height=means,\n",
    "            yerr=stds,\n",
    "            width=width[num_agents],\n",
    "            color=color,\n",
    "            capsize=2,\n",
    "        )\n",
    "        ax.set_xticks([])\n",
    "        # ax.set_xticklabels(caps[num_agents])\n",
    "        ax.legend(legend_order, fontsize=10, loc=\"upper left\")\n",
    "        ax.set_xlabel(\"Memory capacity is 32 for both cases.\", fontsize=15)\n",
    "        ax.set_ylabel(f\"total rewards ({len(seeds)} random seeds)\", fontsize=15)\n",
    "\n",
    "        ax.set_ylim([0, env_params[\"max_step\"]])\n",
    "\n",
    "        fig.tight_layout()\n",
    "        plt.title(\n",
    "            f\"Performance gap between a single agent and double agents\",\n",
    "            fontsize=15,\n",
    "        )\n",
    "        plt.savefig(f\"./figures/single-and-double-agents.pdf\", bbox_inches=\"tight\")\n",
    "        # plt.show()"
   ]
  }
 ],
 "metadata": {
  "kernelspec": {
   "display_name": "Python 3.8.14 ('dev-python3.8')",
   "language": "python",
   "name": "python3"
  },
  "language_info": {
   "codemirror_mode": {
    "name": "ipython",
    "version": 3
   },
   "file_extension": ".py",
   "mimetype": "text/x-python",
   "name": "python",
   "nbconvert_exporter": "python",
   "pygments_lexer": "ipython3",
   "version": "3.8.14"
  },
  "orig_nbformat": 4,
  "vscode": {
   "interpreter": {
    "hash": "c7c14ce45c674ffbe7e3a8bc18299264a1035542c780d18c0e8f0c585e044f28"
   }
  }
 },
 "nbformat": 4,
 "nbformat_minor": 2
}
