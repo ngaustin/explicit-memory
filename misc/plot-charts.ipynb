{
 "cells": [
  {
   "cell_type": "code",
   "execution_count": null,
   "source": [
    "%cd ../"
   ],
   "outputs": [],
   "metadata": {}
  },
  {
   "cell_type": "code",
   "execution_count": null,
   "source": [
    "memory_order = ['semantic', 'episodic', 'both']\n",
    "color_order = ['dodgerblue','orange', 'yellowgreen']\n",
    "legend_order = ['(i) Hand-crafted 1: Only semantic, FIFO and NRO', '(ii) Hand-crafted 2: Only episodic, FIFO and NRO', '(iii) Hand-crafted 3: Both episodic and semantic, generalization, FIFO and NRO']\n",
    "\n",
    "from utils import read_yaml\n",
    "from glob import glob\n",
    "import matplotlib.pyplot as plt\n",
    "import numpy as np\n",
    "\n",
    "results = [read_yaml(path) for path in glob('./training-results/*/results.yaml')]\n",
    "results = {memory_type: [result for result in results if result['memory_type'] == memory_type] \n",
    "           for memory_type in memory_order}\n",
    "\n",
    "for memory_type in memory_order:\n",
    "    results[memory_type] = sorted(results[memory_type], key= lambda x:x['capacity']['episodic'] + x['capacity']['semantic'])\n",
    "    \n",
    "    \n",
    "for split in ['train', 'val', 'test']:\n",
    "    capacity = [sum(foo['capacity'].values()) for foo in results['episodic']]\n",
    "\n",
    "    data = {memory_type: {cap: reward for cap, reward in zip(capacity, [foo[split]['rewards'] for foo in results[memory_type]])}\n",
    "            for memory_type in memory_order}\n",
    "\n",
    "    fig, ax = plt.subplots(figsize=(10,5))\n",
    "\n",
    "    idx = np.asanyarray([i for i in range(len(capacity))])\n",
    "\n",
    "    width = 0.2\n",
    "    \n",
    "    for memory_type, w, color in zip(memory_order, [-1,0,1], color_order):\n",
    "        ax.bar(idx+w*width, [val for key, val in sorted(data[memory_type].items())], width=width, color=color)\n",
    "\n",
    "    ax.set_xticks(idx)\n",
    "    ax.set_xticklabels(capacity)\n",
    "    ax.legend(legend_order, fontsize=10)\n",
    "    ax.set_xlabel('memory capacity', fontsize=15)\n",
    "    ax.set_ylabel('total rewards', fontsize=15)\n",
    "\n",
    "    fig.tight_layout()\n",
    "    plt.title(split, fontsize=15)\n",
    "    plt.savefig('./figures/' + split + '-bar.pdf',bbox_inches='tight')\n",
    "    plt.show()"
   ],
   "outputs": [],
   "metadata": {}
  }
 ],
 "metadata": {
  "kernelspec": {
   "name": "python3",
   "display_name": "Python 3.7.12 64-bit ('dev-python3.7': virtualenv)"
  },
  "language_info": {
   "codemirror_mode": {
    "name": "ipython",
    "version": 3
   },
   "file_extension": ".py",
   "mimetype": "text/x-python",
   "name": "python",
   "nbconvert_exporter": "python",
   "pygments_lexer": "ipython3",
   "version": "3.7.12"
  },
  "interpreter": {
   "hash": "d5b36006495443554c8f0b17d9dc9f4d7cde294ee6cd3212b90a3ec2903a7e92"
  }
 },
 "nbformat": 4,
 "nbformat_minor": 5
}