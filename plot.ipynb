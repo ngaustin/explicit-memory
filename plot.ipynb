{
 "cells": [
  {
   "cell_type": "markdown",
   "metadata": {},
   "source": [
    "# Plotting\n"
   ]
  },
  {
   "cell_type": "markdown",
   "metadata": {},
   "source": [
    "## Average sum of rewards per episode, validation (5 random runs)\n"
   ]
  },
  {
   "cell_type": "code",
   "execution_count": null,
   "metadata": {},
   "outputs": [],
   "source": [
    "from plotting import plot_training_validation_results\n",
    "\n",
    "plot_training_validation_results(\n",
    "    data_dir=\"./data/\",\n",
    "    kind=\"val_total_reward_mean\",\n",
    "    capacity=32,\n",
    "    save_dir=\"./figures/\",\n",
    "    ymin=64,\n",
    "    ymax=128,\n",
    "    ylog=False,\n",
    "    xlabel=\"Step\",\n",
    "    figsize=(10, 10),\n",
    "    legend_loc=\"lower right\",\n",
    ")"
   ]
  },
  {
   "cell_type": "markdown",
   "metadata": {},
   "source": [
    "## Average training loss (5 random runs)\n"
   ]
  },
  {
   "cell_type": "code",
   "execution_count": null,
   "metadata": {},
   "outputs": [],
   "source": [
    "plot_training_validation_results(\n",
    "    data_dir=\"./data/\",\n",
    "    kind=\"train_loss\",\n",
    "    capacity=32,\n",
    "    save_dir=\"./figures/\",\n",
    "    ymin=None,\n",
    "    ymax=None,\n",
    "    ylog=True,\n",
    "    xlabel=\"Step\",\n",
    "    figsize=(10, 10),\n",
    "    legend_loc=\"upper right\",\n",
    ")"
   ]
  },
  {
   "cell_type": "markdown",
   "metadata": {},
   "source": [
    "## Average sum of rewards per episode, test (5 random runs), capacity=32\n"
   ]
  },
  {
   "cell_type": "code",
   "execution_count": null,
   "metadata": {},
   "outputs": [],
   "source": [
    "from plotting import plot_test_results\n",
    "\n",
    "plot_test_results()"
   ]
  },
  {
   "cell_type": "markdown",
   "metadata": {},
   "source": [
    "## Average sum of rewards per episode, test (5 random runs), capacity=32, all sizes\n"
   ]
  },
  {
   "cell_type": "code",
   "execution_count": null,
   "metadata": {},
   "outputs": [],
   "source": [
    "from plotting import plot_test_results_all_capacities\n",
    "import matplotlib.pyplot as plt\n",
    "\n",
    "plot_test_results_all_capacities()"
   ]
  },
  {
   "cell_type": "markdown",
   "metadata": {},
   "source": [
    "## Load the q values\n"
   ]
  },
  {
   "cell_type": "code",
   "execution_count": null,
   "metadata": {},
   "outputs": [],
   "source": [
    "from utils import read_json\n",
    "\n",
    "test_debug_scratch_path = \"./models/des_size=l-capacity=32-pretrain=False-gpus=0-seed=1/test_debug-mean=115.0-std=3.225.json\"\n",
    "\n",
    "test_debug_scratch = read_json(test_debug_scratch_path)[\"0\"]\n",
    "\n",
    "test_debug_pretrained_path = \"./models/des_size=l-capacity=32-pretrain=True-gpus=0-seed=2/test_debug-mean=117.5-std=2.54.json\"\n",
    "test_debug_pretrained = read_json(test_debug_pretrained_path)[\"0\"]\n",
    "\n",
    "for step in [86]:\n",
    "    print(f\"STEP: {step}\")\n",
    "    print()\n",
    "    print(f\"SCRATCH: {test_debug_scratch[step]}\")\n",
    "    print()\n",
    "    print(f\"PRETRAINED: {test_debug_pretrained[step]}\")\n",
    "    print()\n",
    "    print(\n",
    "        \"----------------------------------------------------------------------------\"\n",
    "    )"
   ]
  },
  {
   "cell_type": "markdown",
   "metadata": {},
   "source": [
    "## Load the trained models and visualize the t-SNE-reduced embeddings.\n"
   ]
  },
  {
   "cell_type": "code",
   "execution_count": null,
   "metadata": {},
   "outputs": [],
   "source": [
    "from plotting import UnderstandModel\n",
    "\n",
    "um = UnderstandModel()\n",
    "\n",
    "um.compute_reduction(\n",
    "    tsne_params={\n",
    "        \"n_components\": 2,\n",
    "        \"perplexity\": 5,\n",
    "        \"init\": \"pca\",\n",
    "        \"learning_rate\": \"auto\",\n",
    "    }\n",
    ")\n",
    "\n",
    "print(\n",
    "    len(um.indices[\"humans\"]),\n",
    "    len(um.indices[\"objects\"]),\n",
    "    len(um.indices[\"object_locations\"]),\n",
    ")\n",
    "\n",
    "for semantic in [\"scratch\", \"pretrained\"]:\n",
    "    for interest in [\"humans\", \"objects\", \"object_locations\"]:\n",
    "        um.plot_embeddings(semantic=semantic, interest=interest)"
   ]
  }
 ],
 "metadata": {
  "interpreter": {
   "hash": "c7c14ce45c674ffbe7e3a8bc18299264a1035542c780d18c0e8f0c585e044f28"
  },
  "kernelspec": {
   "display_name": "Python 3.8.12 ('dev-python3.8')",
   "language": "python",
   "name": "python3"
  },
  "language_info": {
   "codemirror_mode": {
    "name": "ipython",
    "version": 3
   },
   "file_extension": ".py",
   "mimetype": "text/x-python",
   "name": "python",
   "nbconvert_exporter": "python",
   "pygments_lexer": "ipython3",
   "version": "3.8.14"
  },
  "orig_nbformat": 4
 },
 "nbformat": 4,
 "nbformat_minor": 2
}
