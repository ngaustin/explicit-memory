{
 "cells": [
  {
   "cell_type": "markdown",
   "metadata": {},
   "source": [
    "# Plotting\n"
   ]
  },
  {
   "cell_type": "markdown",
   "metadata": {},
   "source": [
    "## Average sum of rewards per episode, validation (5 random runs)\n"
   ]
  },
  {
   "cell_type": "code",
   "execution_count": null,
   "metadata": {},
   "outputs": [],
   "source": [
    "from plotting import plot_training_validation_results\n",
    "\n",
    "plot_training_validation_results(\n",
    "    data_dir=\"./data/\",\n",
    "    kind=\"val_total_reward_mean\",\n",
    "    capacity=32,\n",
    "    save_dir=\"./figures/\",\n",
    "    ymin=64,\n",
    "    ymax=128,\n",
    "    ylog=False,\n",
    "    xlabel=\"Step\",\n",
    "    figsize=(10, 10),\n",
    "    legend_loc=\"lower right\",\n",
    ")"
   ]
  },
  {
   "cell_type": "markdown",
   "metadata": {},
   "source": [
    "## Average training loss (5 random runs)\n"
   ]
  },
  {
   "cell_type": "code",
   "execution_count": null,
   "metadata": {},
   "outputs": [],
   "source": [
    "plot_training_validation_results(\n",
    "    data_dir=\"./data/\",\n",
    "    kind=\"train_loss\",\n",
    "    capacity=32,\n",
    "    save_dir=\"./figures/\",\n",
    "    ymin=None,\n",
    "    ymax=None,\n",
    "    ylog=True,\n",
    "    xlabel=\"Step\",\n",
    "    figsize=(10, 10),\n",
    "    legend_loc=\"upper right\",\n",
    ")"
   ]
  },
  {
   "cell_type": "markdown",
   "metadata": {},
   "source": [
    "## Average sum of rewards per episode, test (5 random runs), capacity=32\n"
   ]
  },
  {
   "cell_type": "code",
   "execution_count": null,
   "metadata": {},
   "outputs": [],
   "source": [
    "from plotting import plot_test_results\n",
    "\n",
    "plot_test_results()"
   ]
  },
  {
   "cell_type": "markdown",
   "metadata": {},
   "source": [
    "## Average sum of rewards per episode, test (5 random runs), capacity=32, all sizes\n"
   ]
  },
  {
   "cell_type": "code",
   "execution_count": 4,
   "metadata": {},
   "outputs": [
    {
     "name": "stderr",
     "output_type": "stream",
     "text": [
      "/home/tk/.virtualenvs/dev-python3.8/lib/python3.8/site-packages/gym/envs/registration.py:555: UserWarning: \u001b[33mWARN: The environment RoomEnv-v1 is out of date. You should consider upgrading to version `v2`.\u001b[0m\n",
      "  logger.warn(\n"
     ]
    },
    {
     "ename": "NameError",
     "evalue": "name 'HandcraftedAgent' is not defined",
     "output_type": "error",
     "traceback": [
      "\u001b[0;31m---------------------------------------------------------------------------\u001b[0m",
      "\u001b[0;31mNameError\u001b[0m                                 Traceback (most recent call last)",
      "\u001b[1;32m/home/tk/repos/explicit-memory/plot.ipynb Cell 9\u001b[0m in \u001b[0;36m<cell line: 4>\u001b[0;34m()\u001b[0m\n\u001b[1;32m      <a href='vscode-notebook-cell:/home/tk/repos/explicit-memory/plot.ipynb#X21sZmlsZQ%3D%3D?line=0'>1</a>\u001b[0m \u001b[39mfrom\u001b[39;00m \u001b[39mplotting\u001b[39;00m \u001b[39mimport\u001b[39;00m plot_test_results_all_capacities\n\u001b[1;32m      <a href='vscode-notebook-cell:/home/tk/repos/explicit-memory/plot.ipynb#X21sZmlsZQ%3D%3D?line=1'>2</a>\u001b[0m \u001b[39mimport\u001b[39;00m \u001b[39mmatplotlib\u001b[39;00m\u001b[39m.\u001b[39;00m\u001b[39mpyplot\u001b[39;00m \u001b[39mas\u001b[39;00m \u001b[39mplt\u001b[39;00m\n\u001b[0;32m----> <a href='vscode-notebook-cell:/home/tk/repos/explicit-memory/plot.ipynb#X21sZmlsZQ%3D%3D?line=3'>4</a>\u001b[0m plot_test_results_all_capacities()\n",
      "File \u001b[0;32m~/repos/explicit-memory/plotting.py:1036\u001b[0m, in \u001b[0;36mplot_test_results_all_capacities\u001b[0;34m(data_dir, capacity, save_dir, ymin, ymax, des_size, figsize, legend_loc)\u001b[0m\n\u001b[1;32m   1034\u001b[0m results \u001b[39m=\u001b[39m {}\n\u001b[1;32m   1035\u001b[0m \u001b[39mfor\u001b[39;00m capacity \u001b[39min\u001b[39;00m capacities:\n\u001b[0;32m-> 1036\u001b[0m     results_ \u001b[39m=\u001b[39m load_episodic_semantic_random_scratch_pretrained(\n\u001b[1;32m   1037\u001b[0m         data_dir\u001b[39m=\u001b[39;49mdata_dir,\n\u001b[1;32m   1038\u001b[0m         kind\u001b[39m=\u001b[39;49m\u001b[39m\"\u001b[39;49m\u001b[39mtest_total_reward_mean\u001b[39;49m\u001b[39m\"\u001b[39;49m,\n\u001b[1;32m   1039\u001b[0m         capacity\u001b[39m=\u001b[39;49mcapacity,\n\u001b[1;32m   1040\u001b[0m         des_size\u001b[39m=\u001b[39;49mdes_size,\n\u001b[1;32m   1041\u001b[0m     )\n\u001b[1;32m   1042\u001b[0m     results[capacity] \u001b[39m=\u001b[39m results_\n\u001b[1;32m   1044\u001b[0m idx \u001b[39m=\u001b[39m np\u001b[39m.\u001b[39masanyarray([i \u001b[39mfor\u001b[39;00m i \u001b[39min\u001b[39;00m \u001b[39mrange\u001b[39m(\u001b[39mlen\u001b[39m(results))])\n",
      "File \u001b[0;32m~/repos/explicit-memory/plotting.py:103\u001b[0m, in \u001b[0;36mload_episodic_semantic_random_scratch_pretrained\u001b[0;34m(data_dir, kind, capacity, des_size)\u001b[0m\n\u001b[1;32m     88\u001b[0m results[\u001b[39m\"\u001b[39m\u001b[39mscratch\u001b[39m\u001b[39m\"\u001b[39m] \u001b[39m=\u001b[39m load_training_val_test_results(\n\u001b[1;32m     89\u001b[0m     data_dir\u001b[39m=\u001b[39mdata_dir,\n\u001b[1;32m     90\u001b[0m     kind\u001b[39m=\u001b[39mkind,\n\u001b[0;32m   (...)\u001b[0m\n\u001b[1;32m     93\u001b[0m     des_size\u001b[39m=\u001b[39mdes_size,\n\u001b[1;32m     94\u001b[0m )\n\u001b[1;32m     95\u001b[0m results[\u001b[39m\"\u001b[39m\u001b[39mpretrained\u001b[39m\u001b[39m\"\u001b[39m] \u001b[39m=\u001b[39m load_training_val_test_results(\n\u001b[1;32m     96\u001b[0m     data_dir\u001b[39m=\u001b[39mdata_dir,\n\u001b[1;32m     97\u001b[0m     kind\u001b[39m=\u001b[39mkind,\n\u001b[0;32m   (...)\u001b[0m\n\u001b[1;32m    100\u001b[0m     des_size\u001b[39m=\u001b[39mdes_size,\n\u001b[1;32m    101\u001b[0m )\n\u001b[0;32m--> 103\u001b[0m results[\u001b[39m\"\u001b[39m\u001b[39mrandom\u001b[39m\u001b[39m\"\u001b[39m] \u001b[39m=\u001b[39m run_seeds(\n\u001b[1;32m    104\u001b[0m     agent_config\u001b[39m=\u001b[39;49m{\n\u001b[1;32m    105\u001b[0m         \u001b[39m\"\u001b[39;49m\u001b[39mforget_policy\u001b[39;49m\u001b[39m\"\u001b[39;49m: {\n\u001b[1;32m    106\u001b[0m             \u001b[39m\"\u001b[39;49m\u001b[39mepisodic\u001b[39;49m\u001b[39m\"\u001b[39;49m: \u001b[39m\"\u001b[39;49m\u001b[39moldest\u001b[39;49m\u001b[39m\"\u001b[39;49m,\n\u001b[1;32m    107\u001b[0m             \u001b[39m\"\u001b[39;49m\u001b[39msemantic\u001b[39;49m\u001b[39m\"\u001b[39;49m: \u001b[39m\"\u001b[39;49m\u001b[39mweakest\u001b[39;49m\u001b[39m\"\u001b[39;49m,\n\u001b[1;32m    108\u001b[0m             \u001b[39m\"\u001b[39;49m\u001b[39mshort\u001b[39;49m\u001b[39m\"\u001b[39;49m: \u001b[39m\"\u001b[39;49m\u001b[39mrandom\u001b[39;49m\u001b[39m\"\u001b[39;49m,\n\u001b[1;32m    109\u001b[0m         },\n\u001b[1;32m    110\u001b[0m         \u001b[39m\"\u001b[39;49m\u001b[39manswer_policy\u001b[39;49m\u001b[39m\"\u001b[39;49m: {\n\u001b[1;32m    111\u001b[0m             \u001b[39m\"\u001b[39;49m\u001b[39mepisodic\u001b[39;49m\u001b[39m\"\u001b[39;49m: \u001b[39m\"\u001b[39;49m\u001b[39mlatest\u001b[39;49m\u001b[39m\"\u001b[39;49m,\n\u001b[1;32m    112\u001b[0m             \u001b[39m\"\u001b[39;49m\u001b[39msemantic\u001b[39;49m\u001b[39m\"\u001b[39;49m: \u001b[39m\"\u001b[39;49m\u001b[39mstrongest\u001b[39;49m\u001b[39m\"\u001b[39;49m,\n\u001b[1;32m    113\u001b[0m         },\n\u001b[1;32m    114\u001b[0m         \u001b[39m\"\u001b[39;49m\u001b[39mpretrain_semantic\u001b[39;49m\u001b[39m\"\u001b[39;49m: \u001b[39mFalse\u001b[39;49;00m,\n\u001b[1;32m    115\u001b[0m     },\n\u001b[1;32m    116\u001b[0m     des_size\u001b[39m=\u001b[39;49mdes_size,\n\u001b[1;32m    117\u001b[0m     capacity\u001b[39m=\u001b[39;49mcapacity,\n\u001b[1;32m    118\u001b[0m     allow_random_human\u001b[39m=\u001b[39;49m\u001b[39mFalse\u001b[39;49;00m,\n\u001b[1;32m    119\u001b[0m     allow_random_question\u001b[39m=\u001b[39;49m\u001b[39mFalse\u001b[39;49;00m,\n\u001b[1;32m    120\u001b[0m     episodic_replace_old\u001b[39m=\u001b[39;49m\u001b[39mFalse\u001b[39;49;00m,\n\u001b[1;32m    121\u001b[0m     semantic_replace_old\u001b[39m=\u001b[39;49m\u001b[39mFalse\u001b[39;49;00m,\n\u001b[1;32m    122\u001b[0m     seeds\u001b[39m=\u001b[39;49m[\u001b[39m0\u001b[39;49m, \u001b[39m1\u001b[39;49m, \u001b[39m2\u001b[39;49m, \u001b[39m3\u001b[39;49m, \u001b[39m4\u001b[39;49m],\n\u001b[1;32m    123\u001b[0m )\n\u001b[1;32m    125\u001b[0m results[\u001b[39m\"\u001b[39m\u001b[39mepisodic\u001b[39m\u001b[39m\"\u001b[39m] \u001b[39m=\u001b[39m run_seeds(\n\u001b[1;32m    126\u001b[0m     agent_config\u001b[39m=\u001b[39m{\n\u001b[1;32m    127\u001b[0m         \u001b[39m\"\u001b[39m\u001b[39mforget_policy\u001b[39m\u001b[39m\"\u001b[39m: {\n\u001b[0;32m   (...)\u001b[0m\n\u001b[1;32m    144\u001b[0m     seeds\u001b[39m=\u001b[39m[\u001b[39m0\u001b[39m, \u001b[39m1\u001b[39m, \u001b[39m2\u001b[39m, \u001b[39m3\u001b[39m, \u001b[39m4\u001b[39m],\n\u001b[1;32m    145\u001b[0m )\n\u001b[1;32m    147\u001b[0m results[\u001b[39m\"\u001b[39m\u001b[39msemantic\u001b[39m\u001b[39m\"\u001b[39m] \u001b[39m=\u001b[39m run_seeds(\n\u001b[1;32m    148\u001b[0m     agent_config\u001b[39m=\u001b[39m{\n\u001b[1;32m    149\u001b[0m         \u001b[39m\"\u001b[39m\u001b[39mforget_policy\u001b[39m\u001b[39m\"\u001b[39m: {\n\u001b[0;32m   (...)\u001b[0m\n\u001b[1;32m    166\u001b[0m     seeds\u001b[39m=\u001b[39m[\u001b[39m0\u001b[39m, \u001b[39m1\u001b[39m, \u001b[39m2\u001b[39m, \u001b[39m3\u001b[39m, \u001b[39m4\u001b[39m],\n\u001b[1;32m    167\u001b[0m )\n",
      "File \u001b[0;32m~/repos/explicit-memory/plotting.py:186\u001b[0m, in \u001b[0;36mrun_seeds\u001b[0;34m(agent_config, des_size, capacity, allow_random_human, allow_random_question, episodic_replace_old, semantic_replace_old, seeds)\u001b[0m\n\u001b[1;32m    183\u001b[0m rewards \u001b[39m=\u001b[39m []\n\u001b[1;32m    185\u001b[0m \u001b[39mfor\u001b[39;00m seed \u001b[39min\u001b[39;00m seeds:\n\u001b[0;32m--> 186\u001b[0m     rewards_ \u001b[39m=\u001b[39m run_seed(\n\u001b[1;32m    187\u001b[0m         seed\u001b[39m=\u001b[39;49mseed,\n\u001b[1;32m    188\u001b[0m         agent_config\u001b[39m=\u001b[39;49magent_config,\n\u001b[1;32m    189\u001b[0m         des_size\u001b[39m=\u001b[39;49mdes_size,\n\u001b[1;32m    190\u001b[0m         capacity\u001b[39m=\u001b[39;49mcapacity,\n\u001b[1;32m    191\u001b[0m         allow_random_human\u001b[39m=\u001b[39;49mallow_random_human,\n\u001b[1;32m    192\u001b[0m         allow_random_question\u001b[39m=\u001b[39;49mallow_random_question,\n\u001b[1;32m    193\u001b[0m         episodic_replace_old\u001b[39m=\u001b[39;49mepisodic_replace_old,\n\u001b[1;32m    194\u001b[0m         semantic_replace_old\u001b[39m=\u001b[39;49msemantic_replace_old,\n\u001b[1;32m    195\u001b[0m     )\n\u001b[1;32m    196\u001b[0m     rewards\u001b[39m.\u001b[39mappend(rewards_)\n\u001b[1;32m    198\u001b[0m mean_rewards, std_rewards \u001b[39m=\u001b[39m np\u001b[39m.\u001b[39mmean(rewards), np\u001b[39m.\u001b[39mstd(rewards)\n",
      "File \u001b[0;32m~/repos/explicit-memory/plotting.py:73\u001b[0m, in \u001b[0;36mrun_seed\u001b[0;34m(seed, agent_config, des_size, capacity, allow_random_human, allow_random_question, episodic_replace_old, semantic_replace_old)\u001b[0m\n\u001b[1;32m     64\u001b[0m \u001b[39mif\u001b[39;00m (agent_config[\u001b[39m\"\u001b[39m\u001b[39mforget_policy\u001b[39m\u001b[39m\"\u001b[39m][\u001b[39m\"\u001b[39m\u001b[39mepisodic\u001b[39m\u001b[39m\"\u001b[39m] \u001b[39mis\u001b[39;00m \u001b[39mnot\u001b[39;00m \u001b[39mNone\u001b[39;00m) \u001b[39mand\u001b[39;00m (\n\u001b[1;32m     65\u001b[0m     agent_config[\u001b[39m\"\u001b[39m\u001b[39mforget_policy\u001b[39m\u001b[39m\"\u001b[39m][\u001b[39m\"\u001b[39m\u001b[39msemantic\u001b[39m\u001b[39m\"\u001b[39m] \u001b[39mis\u001b[39;00m \u001b[39mnot\u001b[39;00m \u001b[39mNone\u001b[39;00m\n\u001b[1;32m     66\u001b[0m ):\n\u001b[1;32m     67\u001b[0m     agent_config[\u001b[39m\"\u001b[39m\u001b[39mcapacity\u001b[39m\u001b[39m\"\u001b[39m] \u001b[39m=\u001b[39m {\n\u001b[1;32m     68\u001b[0m         \u001b[39m\"\u001b[39m\u001b[39mepisodic\u001b[39m\u001b[39m\"\u001b[39m: capacity \u001b[39m/\u001b[39m\u001b[39m/\u001b[39m \u001b[39m2\u001b[39m,\n\u001b[1;32m     69\u001b[0m         \u001b[39m\"\u001b[39m\u001b[39msemantic\u001b[39m\u001b[39m\"\u001b[39m: capacity \u001b[39m/\u001b[39m\u001b[39m/\u001b[39m \u001b[39m2\u001b[39m,\n\u001b[1;32m     70\u001b[0m         \u001b[39m\"\u001b[39m\u001b[39mshort\u001b[39m\u001b[39m\"\u001b[39m: \u001b[39m1\u001b[39m,\n\u001b[1;32m     71\u001b[0m     }\n\u001b[0;32m---> 73\u001b[0m agent \u001b[39m=\u001b[39m HandcraftedAgent(\u001b[39m*\u001b[39m\u001b[39m*\u001b[39magent_config)\n\u001b[1;32m     74\u001b[0m agent\u001b[39m.\u001b[39mrun()\n\u001b[1;32m     75\u001b[0m rewards \u001b[39m=\u001b[39m agent\u001b[39m.\u001b[39mrewards\n",
      "\u001b[0;31mNameError\u001b[0m: name 'HandcraftedAgent' is not defined"
     ]
    }
   ],
   "source": [
    "from plotting import plot_test_results_all_capacities\n",
    "import matplotlib.pyplot as plt\n",
    "\n",
    "plot_test_results_all_capacities()"
   ]
  },
  {
   "cell_type": "markdown",
   "metadata": {},
   "source": [
    "## Load the q values\n"
   ]
  },
  {
   "cell_type": "code",
   "execution_count": 5,
   "metadata": {},
   "outputs": [
    {
     "name": "stdout",
     "output_type": "stream",
     "text": [
      "STEP: 86\n",
      "\n",
      "SCRATCH: {'state': [\"[{'human': 'Gloria', 'object': 'sheep', 'object_location': 'lap', 'timestamp': 23}, {'human': 'James', 'object': 'bicycle', 'object_location': 'nursery', 'timestamp': 28}, {'human': 'Jean', 'object': 'sandwich', 'object_location': 'lunchbox', 'timestamp': 29}, {'human': 'Jose', 'object': 'dog', 'object_location': 'kennel', 'timestamp': 33}, {'human': 'Judith', 'object': 'bird', 'object_location': 'kitchen', 'timestamp': 34}, {'human': 'Keith', 'object': 'sheep', 'object_location': 'cupboard', 'timestamp': 38}, {'human': 'Lauren', 'object': 'bird', 'object_location': 'countryside', 'timestamp': 41}, {'human': 'Lisa', 'object': 'car', 'object_location': 'lunchbox', 'timestamp': 43}, {'human': 'Matthew', 'object': 'car', 'object_location': 'apartment', 'timestamp': 47}, {'human': 'Roger', 'object': 'train', 'object_location': 'farm', 'timestamp': 57}, {'human': 'Alexander', 'object': 'keyboard', 'object_location': 'desk', 'timestamp': 64}, {'human': 'Anthony', 'object': 'sheep', 'object_location': 'farm', 'timestamp': 67}, {'human': 'Arthur', 'object': 'donut', 'object_location': 'bakery', 'timestamp': 68}, {'human': 'Barbara', 'object': 'donut', 'object_location': 'lap', 'timestamp': 69}, {'human': 'Brenda', 'object': 'bird', 'object_location': 'sky', 'timestamp': 72}, {'human': 'Donald', 'object': 'car', 'object_location': 'home', 'timestamp': 81}]\", \"[{'object': 'train', 'object_location': 'kitchen', 'num_generalized': 1}, {'object': 'airplane', 'object_location': 'sky', 'num_generalized': 1}, {'object': 'bird', 'object_location': 'tree', 'num_generalized': 1}, {'object': 'boat', 'object_location': 'bathroom', 'num_generalized': 1}, {'object': 'airplane', 'object_location': 'cupboard', 'num_generalized': 1}, {'object': 'boat', 'object_location': 'store', 'num_generalized': 1}, {'object': 'boat', 'object_location': 'lunchbox', 'num_generalized': 1}, {'object': 'sandwich', 'object_location': 'lunchbox', 'num_generalized': 2}, {'object': 'elephant', 'object_location': 'circus', 'num_generalized': 2}, {'object': 'keyboard', 'object_location': 'desk', 'num_generalized': 3}, {'object': 'oven', 'object_location': 'home', 'num_generalized': 3}, {'object': 'bowl', 'object_location': 'cupboard', 'num_generalized': 4}, {'object': 'handbag', 'object_location': 'store', 'num_generalized': 4}, {'object': 'car', 'object_location': 'city', 'num_generalized': 4}, {'object': 'kite', 'object_location': 'air', 'num_generalized': 4}, {'object': 'train', 'object_location': 'zoo', 'num_generalized': 6}]\", \"[{'human': 'Frank', 'object': 'train', 'object_location': 'circus', 'timestamp': 86}]\"], 'q_values': [[2.264272689819336, 2.227465867996216, 2.2614409923553467]], 'step': 86}\n",
      "\n",
      "PRETRAINED: {'state': [\"[{'human': 'Keith', 'object': 'sheep', 'object_location': 'cupboard', 'timestamp': 38}, {'human': 'Larry', 'object': 'airplane', 'object_location': 'cupboard', 'timestamp': 39}, {'human': 'Lauren', 'object': 'bird', 'object_location': 'countryside', 'timestamp': 41}, {'human': 'Lisa', 'object': 'car', 'object_location': 'lunchbox', 'timestamp': 43}, {'human': 'Martha', 'object': 'elephant', 'object_location': 'circus', 'timestamp': 46}, {'human': 'Matthew', 'object': 'car', 'object_location': 'apartment', 'timestamp': 47}, {'human': 'Raymond', 'object': 'handbag', 'object_location': 'movie', 'timestamp': 55}, {'human': 'Rebecca', 'object': 'keyboard', 'object_location': 'lunchbox', 'timestamp': 56}, {'human': 'Roger', 'object': 'train', 'object_location': 'farm', 'timestamp': 57}, {'human': 'Ann', 'object': 'boat', 'object_location': 'bathroom', 'timestamp': 66}, {'human': 'Arthur', 'object': 'donut', 'object_location': 'bakery', 'timestamp': 68}, {'human': 'Barbara', 'object': 'donut', 'object_location': 'lap', 'timestamp': 69}, {'human': 'Catherine', 'object': 'bicycle', 'object_location': 'home', 'timestamp': 76}, {'human': 'David', 'object': 'boat', 'object_location': 'water', 'timestamp': 79}, {'human': 'Donald', 'object': 'car', 'object_location': 'home', 'timestamp': 81}, {'human': 'Evelyn', 'object': 'donut', 'object_location': 'sky', 'timestamp': 85}]\", \"[{'object': 'bowl', 'object_location': 'cupboard', 'num_generalized': 1}, {'object': 'boat', 'object_location': 'water', 'num_generalized': 1}, {'object': 'airplane', 'object_location': 'sky', 'num_generalized': 1}, {'object': 'sandwich', 'object_location': 'lunchbox', 'num_generalized': 1}, {'object': 'bicycle', 'object_location': 'garage', 'num_generalized': 1}, {'object': 'elephant', 'object_location': 'circus', 'num_generalized': 1}, {'object': 'train', 'object_location': 'zoo', 'num_generalized': 1}, {'object': 'dog', 'object_location': 'kennel', 'num_generalized': 1}, {'object': 'bird', 'object_location': 'tree', 'num_generalized': 1}, {'object': 'oven', 'object_location': 'home', 'num_generalized': 1}, {'object': 'donut', 'object_location': 'bakery', 'num_generalized': 1}, {'object': 'sheep', 'object_location': 'farm', 'num_generalized': 1}, {'object': 'kite', 'object_location': 'air', 'num_generalized': 1}, {'object': 'keyboard', 'object_location': 'desk', 'num_generalized': 1}, {'object': 'car', 'object_location': 'city', 'num_generalized': 1}, {'object': 'handbag', 'object_location': 'store', 'num_generalized': 1}]\", \"[{'human': 'Frank', 'object': 'train', 'object_location': 'circus', 'timestamp': 86}]\"], 'q_values': [[2.6036458015441895, 2.4551939964294434, 2.509805679321289]], 'step': 86}\n",
      "\n",
      "----------------------------------------------------------------------------\n"
     ]
    }
   ],
   "source": [
    "from utils import read_json\n",
    "\n",
    "test_debug_scratch_path = \"./models/des_size=l-capacity=32-pretrain=False-gpus=0-seed=1/test_debug-mean=115.0-std=3.225.json\"\n",
    "\n",
    "test_debug_scratch = read_json(test_debug_scratch_path)[\"0\"]\n",
    "\n",
    "test_debug_pretrained_path = \"./models/des_size=l-capacity=32-pretrain=True-gpus=0-seed=2/test_debug-mean=117.5-std=2.54.json\"\n",
    "test_debug_pretrained = read_json(test_debug_pretrained_path)[\"0\"]\n",
    "\n",
    "for step in [86]:\n",
    "    print(f\"STEP: {step}\")\n",
    "    print()\n",
    "    print(f\"SCRATCH: {test_debug_scratch[step]}\")\n",
    "    print()\n",
    "    print(f\"PRETRAINED: {test_debug_pretrained[step]}\")\n",
    "    print()\n",
    "    print(\n",
    "        \"----------------------------------------------------------------------------\"\n",
    "    )"
   ]
  },
  {
   "cell_type": "markdown",
   "metadata": {},
   "source": [
    "## Load the trained models and visualize the t-SNE-reduced embeddings.\n"
   ]
  },
  {
   "cell_type": "code",
   "execution_count": 6,
   "metadata": {},
   "outputs": [
    {
     "name": "stderr",
     "output_type": "stream",
     "text": [
      "/home/tk/.virtualenvs/dev-python3.8/lib/python3.8/site-packages/gym/utils/passive_env_checker.py:174: UserWarning: \u001b[33mWARN: Future gym versions will require that `Env.reset` can be passed a `seed` instead of using `Env.seed` for resetting the environment random number generator.\u001b[0m\n",
      "  logger.warn(\n",
      "/home/tk/.virtualenvs/dev-python3.8/lib/python3.8/site-packages/gym/utils/passive_env_checker.py:187: UserWarning: \u001b[33mWARN: Future gym versions will require that `Env.reset` can be passed `options` to allow the environment initialisation to be passed additional information.\u001b[0m\n",
      "  logger.warn(\n"
     ]
    },
    {
     "ename": "NotImplementedError",
     "evalue": "",
     "output_type": "error",
     "traceback": [
      "\u001b[0;31m---------------------------------------------------------------------------\u001b[0m",
      "\u001b[0;31mNotImplementedError\u001b[0m                       Traceback (most recent call last)",
      "\u001b[1;32m/home/tk/repos/explicit-memory/plot.ipynb Cell 13\u001b[0m in \u001b[0;36m<cell line: 3>\u001b[0;34m()\u001b[0m\n\u001b[1;32m      <a href='vscode-notebook-cell:/home/tk/repos/explicit-memory/plot.ipynb#X25sZmlsZQ%3D%3D?line=0'>1</a>\u001b[0m \u001b[39mfrom\u001b[39;00m \u001b[39mplotting\u001b[39;00m \u001b[39mimport\u001b[39;00m UnderstandModel\n\u001b[0;32m----> <a href='vscode-notebook-cell:/home/tk/repos/explicit-memory/plot.ipynb#X25sZmlsZQ%3D%3D?line=2'>3</a>\u001b[0m um \u001b[39m=\u001b[39m UnderstandModel()\n\u001b[1;32m      <a href='vscode-notebook-cell:/home/tk/repos/explicit-memory/plot.ipynb#X25sZmlsZQ%3D%3D?line=4'>5</a>\u001b[0m um\u001b[39m.\u001b[39mcompute_reduction(\n\u001b[1;32m      <a href='vscode-notebook-cell:/home/tk/repos/explicit-memory/plot.ipynb#X25sZmlsZQ%3D%3D?line=5'>6</a>\u001b[0m     tsne_params\u001b[39m=\u001b[39m{\n\u001b[1;32m      <a href='vscode-notebook-cell:/home/tk/repos/explicit-memory/plot.ipynb#X25sZmlsZQ%3D%3D?line=6'>7</a>\u001b[0m         \u001b[39m\"\u001b[39m\u001b[39mn_components\u001b[39m\u001b[39m\"\u001b[39m: \u001b[39m2\u001b[39m,\n\u001b[0;32m   (...)\u001b[0m\n\u001b[1;32m     <a href='vscode-notebook-cell:/home/tk/repos/explicit-memory/plot.ipynb#X25sZmlsZQ%3D%3D?line=10'>11</a>\u001b[0m     }\n\u001b[1;32m     <a href='vscode-notebook-cell:/home/tk/repos/explicit-memory/plot.ipynb#X25sZmlsZQ%3D%3D?line=11'>12</a>\u001b[0m )\n\u001b[1;32m     <a href='vscode-notebook-cell:/home/tk/repos/explicit-memory/plot.ipynb#X25sZmlsZQ%3D%3D?line=13'>14</a>\u001b[0m \u001b[39mprint\u001b[39m(\n\u001b[1;32m     <a href='vscode-notebook-cell:/home/tk/repos/explicit-memory/plot.ipynb#X25sZmlsZQ%3D%3D?line=14'>15</a>\u001b[0m     \u001b[39mlen\u001b[39m(um\u001b[39m.\u001b[39mindices[\u001b[39m\"\u001b[39m\u001b[39mhumans\u001b[39m\u001b[39m\"\u001b[39m]),\n\u001b[1;32m     <a href='vscode-notebook-cell:/home/tk/repos/explicit-memory/plot.ipynb#X25sZmlsZQ%3D%3D?line=15'>16</a>\u001b[0m     \u001b[39mlen\u001b[39m(um\u001b[39m.\u001b[39mindices[\u001b[39m\"\u001b[39m\u001b[39mobjects\u001b[39m\u001b[39m\"\u001b[39m]),\n\u001b[1;32m     <a href='vscode-notebook-cell:/home/tk/repos/explicit-memory/plot.ipynb#X25sZmlsZQ%3D%3D?line=16'>17</a>\u001b[0m     \u001b[39mlen\u001b[39m(um\u001b[39m.\u001b[39mindices[\u001b[39m\"\u001b[39m\u001b[39mobject_locations\u001b[39m\u001b[39m\"\u001b[39m]),\n\u001b[1;32m     <a href='vscode-notebook-cell:/home/tk/repos/explicit-memory/plot.ipynb#X25sZmlsZQ%3D%3D?line=17'>18</a>\u001b[0m )\n",
      "File \u001b[0;32m~/repos/explicit-memory/plotting.py:1101\u001b[0m, in \u001b[0;36mUnderstandModel.__init__\u001b[0;34m(self, model_scratch_path, model_pretrained_path)\u001b[0m\n\u001b[1;32m   1098\u001b[0m \u001b[39mself\u001b[39m\u001b[39m.\u001b[39mmodel_scratch_path \u001b[39m=\u001b[39m model_scratch_path\n\u001b[1;32m   1099\u001b[0m \u001b[39mself\u001b[39m\u001b[39m.\u001b[39mmodel_pretrained_path \u001b[39m=\u001b[39m model_pretrained_path\n\u001b[0;32m-> 1101\u001b[0m \u001b[39mself\u001b[39;49m\u001b[39m.\u001b[39;49m_load_models()\n\u001b[1;32m   1103\u001b[0m \u001b[39mself\u001b[39m\u001b[39m.\u001b[39mindices \u001b[39m=\u001b[39m {\n\u001b[1;32m   1104\u001b[0m     interest: {\n\u001b[1;32m   1105\u001b[0m         i: key\n\u001b[0;32m   (...)\u001b[0m\n\u001b[1;32m   1110\u001b[0m     \u001b[39mfor\u001b[39;00m interest \u001b[39min\u001b[39;00m [\u001b[39m\"\u001b[39m\u001b[39mhumans\u001b[39m\u001b[39m\"\u001b[39m, \u001b[39m\"\u001b[39m\u001b[39mobjects\u001b[39m\u001b[39m\"\u001b[39m, \u001b[39m\"\u001b[39m\u001b[39mobject_locations\u001b[39m\u001b[39m\"\u001b[39m]\n\u001b[1;32m   1111\u001b[0m }\n",
      "File \u001b[0;32m~/repos/explicit-memory/plotting.py:1126\u001b[0m, in \u001b[0;36mUnderstandModel._load_models\u001b[0;34m(self)\u001b[0m\n\u001b[1;32m   1123\u001b[0m \u001b[39melse\u001b[39;00m:\n\u001b[1;32m   1124\u001b[0m     model_path \u001b[39m=\u001b[39m \u001b[39mself\u001b[39m\u001b[39m.\u001b[39mmodel_pretrained_path\n\u001b[0;32m-> 1126\u001b[0m \u001b[39mself\u001b[39m\u001b[39m.\u001b[39mmodels[semantic] \u001b[39m=\u001b[39m DQNLightning\u001b[39m.\u001b[39;49mload_from_checkpoint(model_path)\n\u001b[1;32m   1127\u001b[0m \u001b[39mself\u001b[39m\u001b[39m.\u001b[39mmodels[semantic]\u001b[39m.\u001b[39meval()\n\u001b[1;32m   1129\u001b[0m \u001b[39mself\u001b[39m\u001b[39m.\u001b[39mword2idx \u001b[39m=\u001b[39m \u001b[39mself\u001b[39m\u001b[39m.\u001b[39mmodels[semantic]\u001b[39m.\u001b[39mnet\u001b[39m.\u001b[39mword2idx\n",
      "File \u001b[0;32m~/.virtualenvs/dev-python3.8/lib/python3.8/site-packages/pytorch_lightning/core/saving.py:137\u001b[0m, in \u001b[0;36mModelIO.load_from_checkpoint\u001b[0;34m(cls, checkpoint_path, map_location, hparams_file, strict, **kwargs)\u001b[0m\n\u001b[1;32m     57\u001b[0m \u001b[39m@classmethod\u001b[39m\n\u001b[1;32m     58\u001b[0m \u001b[39mdef\u001b[39;00m \u001b[39mload_from_checkpoint\u001b[39m(\n\u001b[1;32m     59\u001b[0m     \u001b[39mcls\u001b[39m,\n\u001b[0;32m   (...)\u001b[0m\n\u001b[1;32m     64\u001b[0m     \u001b[39m*\u001b[39m\u001b[39m*\u001b[39mkwargs,\n\u001b[1;32m     65\u001b[0m ):\n\u001b[1;32m     66\u001b[0m     \u001b[39mr\u001b[39m\u001b[39m\"\"\"\u001b[39;00m\n\u001b[1;32m     67\u001b[0m \u001b[39m    Primary way of loading a model from a checkpoint. When Lightning saves a checkpoint\u001b[39;00m\n\u001b[1;32m     68\u001b[0m \u001b[39m    it stores the arguments passed to ``__init__``  in the checkpoint under ``\"hyper_parameters\"``.\u001b[39;00m\n\u001b[0;32m   (...)\u001b[0m\n\u001b[1;32m    135\u001b[0m \u001b[39m        y_hat = pretrained_model(x)\u001b[39;00m\n\u001b[1;32m    136\u001b[0m \u001b[39m    \"\"\"\u001b[39;00m\n\u001b[0;32m--> 137\u001b[0m     \u001b[39mreturn\u001b[39;00m _load_from_checkpoint(\n\u001b[1;32m    138\u001b[0m         \u001b[39mcls\u001b[39;49m,\n\u001b[1;32m    139\u001b[0m         checkpoint_path,\n\u001b[1;32m    140\u001b[0m         map_location,\n\u001b[1;32m    141\u001b[0m         hparams_file,\n\u001b[1;32m    142\u001b[0m         strict,\n\u001b[1;32m    143\u001b[0m         \u001b[39m*\u001b[39;49m\u001b[39m*\u001b[39;49mkwargs,\n\u001b[1;32m    144\u001b[0m     )\n",
      "File \u001b[0;32m~/.virtualenvs/dev-python3.8/lib/python3.8/site-packages/pytorch_lightning/core/saving.py:205\u001b[0m, in \u001b[0;36m_load_from_checkpoint\u001b[0;34m(cls, checkpoint_path, map_location, hparams_file, strict, **kwargs)\u001b[0m\n\u001b[1;32m    203\u001b[0m \u001b[39mif\u001b[39;00m \u001b[39missubclass\u001b[39m(\u001b[39mcls\u001b[39m, pl\u001b[39m.\u001b[39mLightningDataModule):\n\u001b[1;32m    204\u001b[0m     \u001b[39mreturn\u001b[39;00m _load_state(\u001b[39mcls\u001b[39m, checkpoint, \u001b[39m*\u001b[39m\u001b[39m*\u001b[39mkwargs)\n\u001b[0;32m--> 205\u001b[0m \u001b[39mreturn\u001b[39;00m _load_state(\u001b[39mcls\u001b[39;49m, checkpoint, strict\u001b[39m=\u001b[39;49mstrict, \u001b[39m*\u001b[39;49m\u001b[39m*\u001b[39;49mkwargs)\n",
      "File \u001b[0;32m~/.virtualenvs/dev-python3.8/lib/python3.8/site-packages/pytorch_lightning/core/saving.py:250\u001b[0m, in \u001b[0;36m_load_state\u001b[0;34m(cls, checkpoint, strict, **cls_kwargs_new)\u001b[0m\n\u001b[1;32m    246\u001b[0m \u001b[39mif\u001b[39;00m \u001b[39mnot\u001b[39;00m cls_spec\u001b[39m.\u001b[39mvarkw:\n\u001b[1;32m    247\u001b[0m     \u001b[39m# filter kwargs according to class init unless it allows any argument via kwargs\u001b[39;00m\n\u001b[1;32m    248\u001b[0m     _cls_kwargs \u001b[39m=\u001b[39m {k: v \u001b[39mfor\u001b[39;00m k, v \u001b[39min\u001b[39;00m _cls_kwargs\u001b[39m.\u001b[39mitems() \u001b[39mif\u001b[39;00m k \u001b[39min\u001b[39;00m cls_init_args_name}\n\u001b[0;32m--> 250\u001b[0m obj \u001b[39m=\u001b[39m \u001b[39mcls\u001b[39;49m(\u001b[39m*\u001b[39;49m\u001b[39m*\u001b[39;49m_cls_kwargs)\n\u001b[1;32m    252\u001b[0m \u001b[39m# give model a chance to load something\u001b[39;00m\n\u001b[1;32m    253\u001b[0m obj\u001b[39m.\u001b[39mon_load_checkpoint(checkpoint)\n",
      "File \u001b[0;32m~/repos/explicit-memory/train.py:352\u001b[0m, in \u001b[0;36mDQNLightning.__init__\u001b[0;34m(self, batch_size, lr, gamma, sync_rate, replay_size, warm_start_size, eps_last_step, eps_start, eps_end, epoch_length, des_size, seed, capacity, policies, question_prob, observation_params, nn_params, gpus, allow_random_human, allow_random_question, loss_function, optimizer, pretrain_semantic, num_eval_iter, varying_rewards, **kwargs)\u001b[0m\n\u001b[1;32m    337\u001b[0m \u001b[39mself\u001b[39m\u001b[39m.\u001b[39menv \u001b[39m=\u001b[39m gym\u001b[39m.\u001b[39mmake(\n\u001b[1;32m    338\u001b[0m     \u001b[39m\"\u001b[39m\u001b[39mRoomEnv-v2\u001b[39m\u001b[39m\"\u001b[39m,\n\u001b[1;32m    339\u001b[0m     des_size\u001b[39m=\u001b[39m\u001b[39mself\u001b[39m\u001b[39m.\u001b[39mhparams\u001b[39m.\u001b[39mdes_size,\n\u001b[0;32m   (...)\u001b[0m\n\u001b[1;32m    349\u001b[0m     varying_rewards\u001b[39m=\u001b[39m\u001b[39mself\u001b[39m\u001b[39m.\u001b[39mhparams\u001b[39m.\u001b[39mvarying_rewards,\n\u001b[1;32m    350\u001b[0m )\n\u001b[1;32m    351\u001b[0m \u001b[39mself\u001b[39m\u001b[39m.\u001b[39mreplay_buffer \u001b[39m=\u001b[39m ReplayBuffer(\u001b[39mself\u001b[39m\u001b[39m.\u001b[39mhparams\u001b[39m.\u001b[39mreplay_size)\n\u001b[0;32m--> 352\u001b[0m \u001b[39mself\u001b[39m\u001b[39m.\u001b[39magent \u001b[39m=\u001b[39m RLAgent(\n\u001b[1;32m    353\u001b[0m     env\u001b[39m=\u001b[39;49m\u001b[39mself\u001b[39;49m\u001b[39m.\u001b[39;49menv,\n\u001b[1;32m    354\u001b[0m     replay_buffer\u001b[39m=\u001b[39;49m\u001b[39mself\u001b[39;49m\u001b[39m.\u001b[39;49mreplay_buffer,\n\u001b[1;32m    355\u001b[0m     capacity\u001b[39m=\u001b[39;49m\u001b[39mself\u001b[39;49m\u001b[39m.\u001b[39;49mhparams\u001b[39m.\u001b[39;49mcapacity,\n\u001b[1;32m    356\u001b[0m     pretrain_semantic\u001b[39m=\u001b[39;49m\u001b[39mself\u001b[39;49m\u001b[39m.\u001b[39;49mhparams\u001b[39m.\u001b[39;49mpretrain_semantic,\n\u001b[1;32m    357\u001b[0m     policies\u001b[39m=\u001b[39;49m\u001b[39mself\u001b[39;49m\u001b[39m.\u001b[39;49mhparams\u001b[39m.\u001b[39;49mpolicies,\n\u001b[1;32m    358\u001b[0m )\n\u001b[1;32m    360\u001b[0m \u001b[39mif\u001b[39;00m \u001b[39mself\u001b[39m\u001b[39m.\u001b[39mhparams\u001b[39m.\u001b[39mnn_params[\u001b[39m\"\u001b[39m\u001b[39marchitecture\u001b[39m\u001b[39m\"\u001b[39m]\u001b[39m.\u001b[39mlower() \u001b[39m==\u001b[39m \u001b[39m\"\u001b[39m\u001b[39mlstm\u001b[39m\u001b[39m\"\u001b[39m:\n\u001b[1;32m    361\u001b[0m     \u001b[39mfrom\u001b[39;00m \u001b[39mmodel\u001b[39;00m \u001b[39mimport\u001b[39;00m LSTM \u001b[39mas\u001b[39;00m DQN\n",
      "File \u001b[0;32m~/repos/explicit-memory/train.py:154\u001b[0m, in \u001b[0;36mRLAgent.__init__\u001b[0;34m(self, env, replay_buffer, capacity, pretrain_semantic, policies)\u001b[0m\n\u001b[1;32m    152\u001b[0m \u001b[39mself\u001b[39m\u001b[39m.\u001b[39mcreate_spaces()\n\u001b[1;32m    153\u001b[0m \u001b[39mself\u001b[39m\u001b[39m.\u001b[39mdebug_dump \u001b[39m=\u001b[39m []\n\u001b[0;32m--> 154\u001b[0m \u001b[39mself\u001b[39;49m\u001b[39m.\u001b[39;49mreset()\n",
      "File \u001b[0;32m~/repos/explicit-memory/train.py:169\u001b[0m, in \u001b[0;36mRLAgent.reset\u001b[0;34m(self)\u001b[0m\n\u001b[1;32m    167\u001b[0m \u001b[39m\"\"\"Reset the environment and update the state.\"\"\"\u001b[39;00m\n\u001b[1;32m    168\u001b[0m \u001b[39mself\u001b[39m\u001b[39m.\u001b[39mdebug_dump \u001b[39m=\u001b[39m []\n\u001b[0;32m--> 169\u001b[0m \u001b[39mself\u001b[39m\u001b[39m.\u001b[39mstate, info \u001b[39m=\u001b[39m \u001b[39mself\u001b[39;49m\u001b[39m.\u001b[39;49menv\u001b[39m.\u001b[39;49mreset()\n\u001b[1;32m    171\u001b[0m \u001b[39m# The lists will be converted to str temporarily ...\u001b[39;00m\n\u001b[1;32m    172\u001b[0m \u001b[39mself\u001b[39m\u001b[39m.\u001b[39mstate \u001b[39m=\u001b[39m [\n\u001b[1;32m    173\u001b[0m     \u001b[39mstr\u001b[39m(\u001b[39mself\u001b[39m\u001b[39m.\u001b[39mstate[\u001b[39m\"\u001b[39m\u001b[39mepisodic\u001b[39m\u001b[39m\"\u001b[39m]),\n\u001b[1;32m    174\u001b[0m     \u001b[39mstr\u001b[39m(\u001b[39mself\u001b[39m\u001b[39m.\u001b[39mstate[\u001b[39m\"\u001b[39m\u001b[39msemantic\u001b[39m\u001b[39m\"\u001b[39m]),\n\u001b[1;32m    175\u001b[0m     \u001b[39mstr\u001b[39m(\u001b[39mself\u001b[39m\u001b[39m.\u001b[39mstate[\u001b[39m\"\u001b[39m\u001b[39mshort\u001b[39m\u001b[39m\"\u001b[39m]),\n\u001b[1;32m    176\u001b[0m ]\n",
      "File \u001b[0;32m~/.virtualenvs/dev-python3.8/lib/python3.8/site-packages/gym/wrappers/order_enforcing.py:42\u001b[0m, in \u001b[0;36mOrderEnforcing.reset\u001b[0;34m(self, **kwargs)\u001b[0m\n\u001b[1;32m     40\u001b[0m \u001b[39m\"\"\"Resets the environment with `kwargs`.\"\"\"\u001b[39;00m\n\u001b[1;32m     41\u001b[0m \u001b[39mself\u001b[39m\u001b[39m.\u001b[39m_has_reset \u001b[39m=\u001b[39m \u001b[39mTrue\u001b[39;00m\n\u001b[0;32m---> 42\u001b[0m \u001b[39mreturn\u001b[39;00m \u001b[39mself\u001b[39;49m\u001b[39m.\u001b[39;49menv\u001b[39m.\u001b[39;49mreset(\u001b[39m*\u001b[39;49m\u001b[39m*\u001b[39;49mkwargs)\n",
      "File \u001b[0;32m~/.virtualenvs/dev-python3.8/lib/python3.8/site-packages/gym/wrappers/env_checker.py:45\u001b[0m, in \u001b[0;36mPassiveEnvChecker.reset\u001b[0;34m(self, **kwargs)\u001b[0m\n\u001b[1;32m     43\u001b[0m \u001b[39mif\u001b[39;00m \u001b[39mself\u001b[39m\u001b[39m.\u001b[39mchecked_reset \u001b[39mis\u001b[39;00m \u001b[39mFalse\u001b[39;00m:\n\u001b[1;32m     44\u001b[0m     \u001b[39mself\u001b[39m\u001b[39m.\u001b[39mchecked_reset \u001b[39m=\u001b[39m \u001b[39mTrue\u001b[39;00m\n\u001b[0;32m---> 45\u001b[0m     \u001b[39mreturn\u001b[39;00m env_reset_passive_checker(\u001b[39mself\u001b[39;49m\u001b[39m.\u001b[39;49menv, \u001b[39m*\u001b[39;49m\u001b[39m*\u001b[39;49mkwargs)\n\u001b[1;32m     46\u001b[0m \u001b[39melse\u001b[39;00m:\n\u001b[1;32m     47\u001b[0m     \u001b[39mreturn\u001b[39;00m \u001b[39mself\u001b[39m\u001b[39m.\u001b[39menv\u001b[39m.\u001b[39mreset(\u001b[39m*\u001b[39m\u001b[39m*\u001b[39mkwargs)\n",
      "File \u001b[0;32m~/.virtualenvs/dev-python3.8/lib/python3.8/site-packages/gym/utils/passive_env_checker.py:192\u001b[0m, in \u001b[0;36menv_reset_passive_checker\u001b[0;34m(env, **kwargs)\u001b[0m\n\u001b[1;32m    187\u001b[0m     logger\u001b[39m.\u001b[39mwarn(\n\u001b[1;32m    188\u001b[0m         \u001b[39m\"\u001b[39m\u001b[39mFuture gym versions will require that `Env.reset` can be passed `options` to allow the environment initialisation to be passed additional information.\u001b[39m\u001b[39m\"\u001b[39m\n\u001b[1;32m    189\u001b[0m     )\n\u001b[1;32m    191\u001b[0m \u001b[39m# Checks the result of env.reset with kwargs\u001b[39;00m\n\u001b[0;32m--> 192\u001b[0m result \u001b[39m=\u001b[39m env\u001b[39m.\u001b[39;49mreset(\u001b[39m*\u001b[39;49m\u001b[39m*\u001b[39;49mkwargs)\n\u001b[1;32m    194\u001b[0m \u001b[39mif\u001b[39;00m \u001b[39mnot\u001b[39;00m \u001b[39misinstance\u001b[39m(result, \u001b[39mtuple\u001b[39m):\n\u001b[1;32m    195\u001b[0m     logger\u001b[39m.\u001b[39mwarn(\n\u001b[1;32m    196\u001b[0m         \u001b[39mf\u001b[39m\u001b[39m\"\u001b[39m\u001b[39mThe result returned by `env.reset()` was not a tuple of the form `(obs, info)`, where `obs` is a observation and `info` is a dictionary containing additional information. Actual type: `\u001b[39m\u001b[39m{\u001b[39;00m\u001b[39mtype\u001b[39m(result)\u001b[39m}\u001b[39;00m\u001b[39m`\u001b[39m\u001b[39m\"\u001b[39m\n\u001b[1;32m    197\u001b[0m     )\n",
      "File \u001b[0;32m~/.virtualenvs/dev-python3.8/lib/python3.8/site-packages/room_env/envs/room2.py:330\u001b[0m, in \u001b[0;36mRoomEnv2.reset\u001b[0;34m(self)\u001b[0m\n\u001b[1;32m    321\u001b[0m \u001b[39m\"\"\"Reset the environment.\u001b[39;00m\n\u001b[1;32m    322\u001b[0m \n\u001b[1;32m    323\u001b[0m \n\u001b[0;32m   (...)\u001b[0m\n\u001b[1;32m    327\u001b[0m \n\u001b[1;32m    328\u001b[0m \u001b[39m\"\"\"\u001b[39;00m\n\u001b[1;32m    329\u001b[0m \u001b[39mself\u001b[39m\u001b[39m.\u001b[39mdes\u001b[39m.\u001b[39m_initialize()\n\u001b[0;32m--> 330\u001b[0m \u001b[39mself\u001b[39;49m\u001b[39m.\u001b[39;49mgenerate_sequences()\n\u001b[1;32m    331\u001b[0m \u001b[39mself\u001b[39m\u001b[39m.\u001b[39minit_memory_systems()\n\u001b[1;32m    332\u001b[0m info \u001b[39m=\u001b[39m {}\n",
      "File \u001b[0;32m~/.virtualenvs/dev-python3.8/lib/python3.8/site-packages/room_env/envs/room2.py:184\u001b[0m, in \u001b[0;36mRoomEnv2.generate_sequences\u001b[0;34m(self)\u001b[0m\n\u001b[1;32m    180\u001b[0m         \u001b[39mself\u001b[39m\u001b[39m.\u001b[39mhuman_sequence \u001b[39m=\u001b[39m (\n\u001b[1;32m    181\u001b[0m             \u001b[39mself\u001b[39m\u001b[39m.\u001b[39mdes\u001b[39m.\u001b[39mhumans \u001b[39m*\u001b[39m (\u001b[39mself\u001b[39m\u001b[39m.\u001b[39mdes\u001b[39m.\u001b[39muntil \u001b[39m/\u001b[39m\u001b[39m/\u001b[39m \u001b[39mlen\u001b[39m(\u001b[39mself\u001b[39m\u001b[39m.\u001b[39mdes\u001b[39m.\u001b[39mhumans) \u001b[39m+\u001b[39m \u001b[39m1\u001b[39m)\n\u001b[1;32m    182\u001b[0m         )[: \u001b[39mself\u001b[39m\u001b[39m.\u001b[39mdes\u001b[39m.\u001b[39muntil \u001b[39m+\u001b[39m \u001b[39m1\u001b[39m]\n\u001b[1;32m    183\u001b[0m \u001b[39melse\u001b[39;00m:\n\u001b[0;32m--> 184\u001b[0m     \u001b[39mraise\u001b[39;00m \u001b[39mNotImplementedError\u001b[39;00m\n\u001b[1;32m    186\u001b[0m \u001b[39mif\u001b[39;00m \u001b[39mself\u001b[39m\u001b[39m.\u001b[39mallow_random_question:\n\u001b[1;32m    187\u001b[0m     \u001b[39mself\u001b[39m\u001b[39m.\u001b[39mquestion_sequence \u001b[39m=\u001b[39m [\n\u001b[1;32m    188\u001b[0m         random\u001b[39m.\u001b[39mchoice(\u001b[39mself\u001b[39m\u001b[39m.\u001b[39mhuman_sequence[: i \u001b[39m+\u001b[39m \u001b[39m1\u001b[39m])\n\u001b[1;32m    189\u001b[0m         \u001b[39mfor\u001b[39;00m i \u001b[39min\u001b[39;00m \u001b[39mrange\u001b[39m(\u001b[39mlen\u001b[39m(\u001b[39mself\u001b[39m\u001b[39m.\u001b[39mhuman_sequence))\n\u001b[1;32m    190\u001b[0m     ]\n",
      "\u001b[0;31mNotImplementedError\u001b[0m: "
     ]
    }
   ],
   "source": [
    "from plotting import UnderstandModel\n",
    "\n",
    "um = UnderstandModel()\n",
    "\n",
    "um.compute_reduction(\n",
    "    tsne_params={\n",
    "        \"n_components\": 2,\n",
    "        \"perplexity\": 5,\n",
    "        \"init\": \"pca\",\n",
    "        \"learning_rate\": \"auto\",\n",
    "    }\n",
    ")\n",
    "\n",
    "print(\n",
    "    len(um.indices[\"humans\"]),\n",
    "    len(um.indices[\"objects\"]),\n",
    "    len(um.indices[\"object_locations\"]),\n",
    ")\n",
    "\n",
    "for semantic in [\"scratch\", \"pretrained\"]:\n",
    "    for interest in [\"humans\", \"objects\", \"object_locations\"]:\n",
    "        um.plot_embeddings(semantic=semantic, interest=interest)"
   ]
  },
  {
   "cell_type": "code",
   "execution_count": null,
   "metadata": {},
   "outputs": [],
   "source": []
  }
 ],
 "metadata": {
  "interpreter": {
   "hash": "c7c14ce45c674ffbe7e3a8bc18299264a1035542c780d18c0e8f0c585e044f28"
  },
  "kernelspec": {
   "display_name": "Python 3.8.12 ('dev-python3.8')",
   "language": "python",
   "name": "python3"
  },
  "language_info": {
   "codemirror_mode": {
    "name": "ipython",
    "version": 3
   },
   "file_extension": ".py",
   "mimetype": "text/x-python",
   "name": "python",
   "nbconvert_exporter": "python",
   "pygments_lexer": "ipython3",
   "version": "3.8.14"
  },
  "orig_nbformat": 4
 },
 "nbformat": 4,
 "nbformat_minor": 2
}
