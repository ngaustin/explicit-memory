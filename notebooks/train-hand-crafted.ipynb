{
 "cells": [
  {
   "cell_type": "code",
   "execution_count": null,
   "metadata": {},
   "outputs": [],
   "source": [
    "%cd .."
   ]
  },
  {
   "cell_type": "code",
   "execution_count": null,
   "metadata": {},
   "outputs": [],
   "source": [
    "!rm -rf training-results/*"
   ]
  },
  {
   "cell_type": "code",
   "execution_count": null,
   "metadata": {},
   "outputs": [],
   "source": [
    "import subprocess\n",
    "from utils import read_yaml, write_yaml\n",
    "from tqdm.notebook import tqdm\n",
    "\n",
    "config = {'memory_type': 'episodic',\n",
    "          'policy': {'FIFO': True, 'NRO': True},\n",
    "          'save_at': 'training-results',\n",
    "          'data_path': './data/data.json',\n",
    "          'capacity': {'episodic': 0, 'semantic': 0},\n",
    "          'pretrained_semantic': None,\n",
    "          'question_path': './data/questions.json',\n",
    "          'creation_time': 1556382939}\n",
    "\n",
    "for capacity in [(2,0), (4,0), (8,0), (16,0), (32,0), (64,0), (128,0), (256,0), (512,0), (1024,0)]:\n",
    "    config['memory_type'] = 'episodic'\n",
    "    config['capacity']['episodic'] = capacity[0]\n",
    "    config['capacity']['semantic'] = capacity[1]\n",
    "    config['pretrained_semantic'] = None\n",
    "    write_yaml(config, './train-hand-crafted.yaml')\n",
    "    subprocess.run(['python', 'train-hand-crafted.py'])\n",
    "            \n",
    "for capacity in [(2,0), (4,0), (8,0), (16,0), (32,0), (64,0), (128,0), (256,0), (512,0), (1024,0)]:\n",
    "    config['memory_type'] = 'semantic'\n",
    "    config['capacity']['episodic'] = capacity[1]\n",
    "    config['capacity']['semantic'] = capacity[0]\n",
    "    config['pretrained_semantic'] = None\n",
    "    write_yaml(config, './train-hand-crafted.yaml')\n",
    "    subprocess.run(['python', 'train-hand-crafted.py'])\n",
    "            \n",
    "for capacity in [(1,1), (2,2), (4,4), (8,8), (16,16), (32,32), (64,64), (128,128), (256,256), (512,512)]:\n",
    "    config['memory_type'] = 'both'\n",
    "    config['capacity']['episodic'] = capacity[1]\n",
    "    config['capacity']['semantic'] = capacity[1]\n",
    "    config['pretrained_semantic'] = None\n",
    "    write_yaml(config, './train-hand-crafted.yaml')\n",
    "    subprocess.run(['python', 'train-hand-crafted.py'])\n",
    "\n",
    "for capacity in [(1,1), (2,2), (4,4), (8,8), (16,16), (32,32), (64,64), (128,128), (256,256), (512,512)]:\n",
    "    config['memory_type'] = 'both'\n",
    "    config['capacity']['episodic'] = capacity[1]\n",
    "    config['capacity']['semantic'] = capacity[1]\n",
    "    config['pretrained_semantic'] = './data/semantic-knowledge.json'\n",
    "    write_yaml(config, './train-hand-crafted.yaml')\n",
    "    subprocess.run(['python', 'train-hand-crafted.py'])"
   ]
  },
  {
   "cell_type": "code",
   "execution_count": null,
   "metadata": {},
   "outputs": [],
   "source": []
  }
 ],
 "metadata": {
  "interpreter": {
   "hash": "7808f786822013b9d5984aa54e12ef6bec326a79c76c0a75cd22ab652610adbd"
  },
  "kernelspec": {
   "display_name": "Python 3.7.12 64-bit ('explicit-memory': virtualenv)",
   "name": "python3"
  },
  "language_info": {
   "codemirror_mode": {
    "name": "ipython",
    "version": 3
   },
   "file_extension": ".py",
   "mimetype": "text/x-python",
   "name": "python",
   "nbconvert_exporter": "python",
   "pygments_lexer": "ipython3",
   "version": "3.7.12"
  }
 },
 "nbformat": 4,
 "nbformat_minor": 4
}
