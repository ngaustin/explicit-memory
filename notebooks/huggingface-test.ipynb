{
 "cells": [
  {
   "cell_type": "code",
   "execution_count": null,
   "metadata": {},
   "outputs": [],
   "source": [
    "%cd .."
   ]
  },
  {
   "cell_type": "code",
   "execution_count": null,
   "metadata": {},
   "outputs": [],
   "source": [
    "from transformers import RobertaTokenizer\n",
    "tokenizer = RobertaTokenizer.from_pretrained(\"roberta-base\")\n",
    "tokenizer(\"Hello world\")['input_ids']\n",
    "tokenizer(\" Hello world\")['input_ids']"
   ]
  },
  {
   "cell_type": "code",
   "execution_count": null,
   "metadata": {},
   "outputs": [],
   "source": [
    "from transformers import RobertaTokenizer, RobertaModel\n",
    "import torch\n",
    "\n",
    "tokenizer = RobertaTokenizer.from_pretrained(\"roberta-base\")\n",
    "model = RobertaModel.from_pretrained('roberta-base')\n",
    "\n",
    "memories = []\n",
    "\n",
    "memories.append(\"Tae's laptop is located at Tae's desk.\")\n",
    "memories.append(\"Vincent's laptop is located at Vincent's desk.\")\n",
    "memories.append(\"Michael's laptop is located at Michael's desk.\")\n",
    "memories.append(\"Tae's laptop is located at Tae's kitchen.\")\n",
    "\n",
    "inputs = tokenizer(\" \".join(memories), return_tensors='pt')\n",
    "outputs = model(**inputs)"
   ]
  },
  {
   "cell_type": "code",
   "execution_count": 41,
   "metadata": {},
   "outputs": [
    {
     "data": {
      "text/plain": [
       "torch.Size([1, 46])"
      ]
     },
     "execution_count": 41,
     "metadata": {},
     "output_type": "execute_result"
    }
   ],
   "source": [
    "inputs['input_ids'].shape"
   ]
  },
  {
   "cell_type": "code",
   "execution_count": 44,
   "metadata": {},
   "outputs": [
    {
     "data": {
      "text/plain": [
       "tensor([[   0,  565, 4791,   18, 9972,   16, 2034,   23,  255, 4791,   18, 8429,\n",
       "            4, 9431,   18, 9972,   16, 2034,   23, 9431,   18, 8429,    4,  988,\n",
       "           18, 9972,   16, 2034,   23,  988,   18, 8429,    4,  255, 4791,   18,\n",
       "         9972,   16, 2034,   23,  255, 4791,   18, 4647,    4,    2]])"
      ]
     },
     "execution_count": 44,
     "metadata": {},
     "output_type": "execute_result"
    }
   ],
   "source": [
    "inputs['input_ids']"
   ]
  },
  {
   "cell_type": "code",
   "execution_count": 45,
   "metadata": {},
   "outputs": [
    {
     "data": {
      "text/plain": [
       "torch.Size([1, 46, 768])"
      ]
     },
     "execution_count": 45,
     "metadata": {},
     "output_type": "execute_result"
    }
   ],
   "source": [
    "outputs.last_hidden_state.shape"
   ]
  },
  {
   "cell_type": "code",
   "execution_count": 46,
   "metadata": {},
   "outputs": [
    {
     "data": {
      "text/plain": [
       "tensor([[[-0.0969,  0.1179, -0.0176,  ..., -0.0779, -0.0247, -0.0403],\n",
       "         [-0.0661,  0.0669, -0.0609,  ...,  0.2496,  0.0897,  0.0425],\n",
       "         [ 0.2101,  0.3346, -0.4177,  ..., -0.0437,  0.0570,  0.0636],\n",
       "         ...,\n",
       "         [-0.2727,  0.3985, -0.0540,  ..., -0.3354,  0.1850, -0.0184],\n",
       "         [-0.0950,  0.1183, -0.0539,  ..., -0.1219, -0.0211, -0.0744],\n",
       "         [-0.1242,  0.0411,  0.0313,  ..., -0.0717,  0.0777, -0.0339]]],\n",
       "       grad_fn=<NativeLayerNormBackward>)"
      ]
     },
     "execution_count": 46,
     "metadata": {},
     "output_type": "execute_result"
    }
   ],
   "source": [
    "outputs.last_hidden_state"
   ]
  }
 ],
 "metadata": {
  "interpreter": {
   "hash": "7808f786822013b9d5984aa54e12ef6bec326a79c76c0a75cd22ab652610adbd"
  },
  "kernelspec": {
   "display_name": "Python 3.7.12 64-bit ('explicit-memory': virtualenv)",
   "language": "python",
   "name": "python3"
  },
  "language_info": {
   "codemirror_mode": {
    "name": "ipython",
    "version": 3
   },
   "file_extension": ".py",
   "mimetype": "text/x-python",
   "name": "python",
   "nbconvert_exporter": "python",
   "pygments_lexer": "ipython3",
   "version": "3.7.12"
  },
  "orig_nbformat": 4
 },
 "nbformat": 4,
 "nbformat_minor": 2
}
