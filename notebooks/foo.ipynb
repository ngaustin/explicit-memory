{
 "cells": [
  {
   "cell_type": "code",
   "execution_count": 1,
   "metadata": {},
   "outputs": [],
   "source": [
    "import sys\n",
    "import os\n",
    "os.chdir(os.path.join(sys.path[0], '..'))\n",
    "os.environ['LOGLEVEL'] = \"ERROR\""
   ]
  },
  {
   "cell_type": "code",
   "execution_count": 11,
   "metadata": {},
   "outputs": [
    {
     "name": "stdout",
     "output_type": "stream",
     "text": [
      "capacity: 2, policy: {'forget': 'oldest', 'answer': 'latest'}, rewards: 18, acc: 0.017578125\n",
      "capacity: 4, policy: {'forget': 'oldest', 'answer': 'latest'}, rewards: 47, acc: 0.0458984375\n",
      "capacity: 8, policy: {'forget': 'oldest', 'answer': 'latest'}, rewards: 71, acc: 0.0693359375\n",
      "capacity: 16, policy: {'forget': 'oldest', 'answer': 'latest'}, rewards: 146, acc: 0.142578125\n",
      "capacity: 32, policy: {'forget': 'oldest', 'answer': 'latest'}, rewards: 262, acc: 0.255859375\n",
      "capacity: 64, policy: {'forget': 'oldest', 'answer': 'latest'}, rewards: 387, acc: 0.3779296875\n",
      "capacity: 128, policy: {'forget': 'oldest', 'answer': 'latest'}, rewards: 602, acc: 0.587890625\n",
      "capacity: 256, policy: {'forget': 'oldest', 'answer': 'latest'}, rewards: 824, acc: 0.8046875\n",
      "capacity: 512, policy: {'forget': 'oldest', 'answer': 'latest'}, rewards: 988, acc: 0.96484375\n",
      "capacity: 1024, policy: {'forget': 'oldest', 'answer': 'latest'}, rewards: 1024, acc: 1.0\n",
      "capacity: 2, policy: {'forget': 'random', 'answer': 'latest'}, rewards: 17, acc: 0.0166015625\n",
      "capacity: 4, policy: {'forget': 'random', 'answer': 'latest'}, rewards: 40, acc: 0.0390625\n",
      "capacity: 8, policy: {'forget': 'random', 'answer': 'latest'}, rewards: 78, acc: 0.076171875\n",
      "capacity: 16, policy: {'forget': 'random', 'answer': 'latest'}, rewards: 125, acc: 0.1220703125\n",
      "capacity: 32, policy: {'forget': 'random', 'answer': 'latest'}, rewards: 228, acc: 0.22265625\n",
      "capacity: 64, policy: {'forget': 'random', 'answer': 'latest'}, rewards: 368, acc: 0.359375\n",
      "capacity: 128, policy: {'forget': 'random', 'answer': 'latest'}, rewards: 529, acc: 0.5166015625\n",
      "capacity: 256, policy: {'forget': 'random', 'answer': 'latest'}, rewards: 712, acc: 0.6953125\n",
      "capacity: 512, policy: {'forget': 'random', 'answer': 'latest'}, rewards: 941, acc: 0.9189453125\n",
      "capacity: 1024, policy: {'forget': 'random', 'answer': 'latest'}, rewards: 1024, acc: 1.0\n"
     ]
    }
   ],
   "source": [
    "from memory.environments import OQAGenerator\n",
    "from memory import EpisodicMemory\n",
    "import time\n",
    "\n",
    "max_history = 1024\n",
    "accs = []\n",
    "\n",
    "for policy in [\n",
    "    {\"forget\": \"oldest\", \"answer\": \"latest\"},\n",
    "    {\"forget\": \"random\", \"answer\": \"latest\"},\n",
    "]:\n",
    "\n",
    "    for capacity in [2,4,8,16,32,64,128,256,512,1024]:\n",
    "\n",
    "        oqag = OQAGenerator(max_history=max_history, commonsense_prob=0.5)\n",
    "        M_e = EpisodicMemory(capacity=capacity)\n",
    "        rewards = 0\n",
    "\n",
    "        for _ in range(max_history):\n",
    "            ob, question_answer = oqag.generate(generate_qa=True, recent_more_likely=True)\n",
    "            mem_epi = M_e.ob2epi(ob)\n",
    "            M_e.add(mem_epi)\n",
    "            if M_e.is_kinda_full:\n",
    "                if policy[\"forget\"].lower() == \"oldest\":\n",
    "                    M_e.forget_oldest()\n",
    "                elif policy[\"forget\"].lower() == \"random\":\n",
    "                    M_e.forget_random()\n",
    "                else:\n",
    "                    raise NotImplementedError\n",
    "\n",
    "            if policy[\"answer\"].lower() == \"latest\":\n",
    "                reward, _, _ = M_e.answer_latest(question_answer)\n",
    "            elif policy[\"answer\"].lower() == \"random\":\n",
    "                reward, _, _ = M_e.answer_random(question_answer)\n",
    "            else:\n",
    "                raise NotImplementedError\n",
    "\n",
    "            rewards += reward\n",
    "        print(f\"capacity: {capacity}, policy: {policy}, rewards: {rewards}, acc: {rewards / max_history}\")"
   ]
  },
  {
   "cell_type": "code",
   "execution_count": 12,
   "metadata": {},
   "outputs": [
    {
     "name": "stdout",
     "output_type": "stream",
     "text": [
      "capacity: 2, policy: {'forget': 'weakest', 'answer': 'strongest'}, rewards: 25, acc: 0.0244140625\n",
      "capacity: 4, policy: {'forget': 'weakest', 'answer': 'strongest'}, rewards: 58, acc: 0.056640625\n",
      "capacity: 8, policy: {'forget': 'weakest', 'answer': 'strongest'}, rewards: 57, acc: 0.0556640625\n",
      "capacity: 16, policy: {'forget': 'weakest', 'answer': 'strongest'}, rewards: 146, acc: 0.142578125\n",
      "capacity: 32, policy: {'forget': 'weakest', 'answer': 'strongest'}, rewards: 268, acc: 0.26171875\n",
      "capacity: 64, policy: {'forget': 'weakest', 'answer': 'strongest'}, rewards: 403, acc: 0.3935546875\n",
      "capacity: 128, policy: {'forget': 'weakest', 'answer': 'strongest'}, rewards: 497, acc: 0.4853515625\n",
      "capacity: 256, policy: {'forget': 'weakest', 'answer': 'strongest'}, rewards: 532, acc: 0.51953125\n",
      "capacity: 512, policy: {'forget': 'weakest', 'answer': 'strongest'}, rewards: 574, acc: 0.560546875\n",
      "capacity: 1024, policy: {'forget': 'weakest', 'answer': 'strongest'}, rewards: 558, acc: 0.544921875\n",
      "capacity: 2, policy: {'forget': 'random', 'answer': 'strongest'}, rewards: 35, acc: 0.0341796875\n",
      "capacity: 4, policy: {'forget': 'random', 'answer': 'strongest'}, rewards: 65, acc: 0.0634765625\n",
      "capacity: 8, policy: {'forget': 'random', 'answer': 'strongest'}, rewards: 110, acc: 0.107421875\n",
      "capacity: 16, policy: {'forget': 'random', 'answer': 'strongest'}, rewards: 157, acc: 0.1533203125\n",
      "capacity: 32, policy: {'forget': 'random', 'answer': 'strongest'}, rewards: 283, acc: 0.2763671875\n",
      "capacity: 64, policy: {'forget': 'random', 'answer': 'strongest'}, rewards: 374, acc: 0.365234375\n",
      "capacity: 128, policy: {'forget': 'random', 'answer': 'strongest'}, rewards: 495, acc: 0.4833984375\n",
      "capacity: 256, policy: {'forget': 'random', 'answer': 'strongest'}, rewards: 454, acc: 0.443359375\n",
      "capacity: 512, policy: {'forget': 'random', 'answer': 'strongest'}, rewards: 518, acc: 0.505859375\n",
      "capacity: 1024, policy: {'forget': 'random', 'answer': 'strongest'}, rewards: 571, acc: 0.5576171875\n"
     ]
    }
   ],
   "source": [
    "from memory import SemanticMemory\n",
    "\n",
    "max_history = 1024\n",
    "\n",
    "for policy in [\n",
    "    {\"forget\": \"weakest\", \"answer\": \"strongest\"},\n",
    "    {\"forget\": \"random\", \"answer\": \"strongest\"},\n",
    "]:\n",
    "\n",
    "    for capacity in [2,4,8,16,32,64,128,256,512,1024]:\n",
    "\n",
    "        oqag = OQAGenerator(max_history=max_history, commonsense_prob=0.5)\n",
    "        M_s = SemanticMemory(capacity=capacity)\n",
    "        rewards = 0\n",
    "\n",
    "        for _ in range(max_history):\n",
    "            ob, question_answer = oqag.generate(generate_qa=True, recent_more_likely=True)\n",
    "            mem_sem = M_s.ob2sem(ob)\n",
    "            if not M_s.is_frozen:\n",
    "                M_s.add(mem_sem)\n",
    "                if M_s.is_kinda_full and (not M_s.is_frozen):\n",
    "                    if policy[\"forget\"].lower() == \"weakest\":\n",
    "                        M_s.forget_weakest()\n",
    "                    elif policy[\"forget\"].lower() == \"random\":\n",
    "                        M_s.forget_random()\n",
    "                    else:\n",
    "                        raise NotImplementedError\n",
    "\n",
    "            question = M_s.eq2sq(question_answer)\n",
    "\n",
    "            if policy[\"answer\"].lower() == \"strongest\":\n",
    "                reward, _, _ = M_s.answer_strongest(question)\n",
    "            elif policy[\"answer\"].lower() == \"random\":\n",
    "                reward, _, _ = M_s.answer_random(question)\n",
    "            else:\n",
    "                raise NotImplementedError\n",
    "\n",
    "            rewards += reward\n",
    "\n",
    "\n",
    "\n",
    "        print(f\"capacity: {capacity}, policy: {policy}, rewards: {rewards}, acc: {rewards / max_history}\")"
   ]
  },
  {
   "cell_type": "code",
   "execution_count": 13,
   "metadata": {},
   "outputs": [],
   "source": [
    "from train_RL import DQN"
   ]
  },
  {
   "cell_type": "code",
   "execution_count": 14,
   "metadata": {},
   "outputs": [],
   "source": [
    "net = DQN(129, 6, 129)"
   ]
  },
  {
   "cell_type": "code",
   "execution_count": 15,
   "metadata": {},
   "outputs": [],
   "source": [
    "import torch\n",
    "foo = torch.randn(4,129,6)"
   ]
  },
  {
   "cell_type": "code",
   "execution_count": 28,
   "metadata": {},
   "outputs": [
    {
     "data": {
      "text/plain": [
       "torch.Size([4, 129, 1])"
      ]
     },
     "execution_count": 28,
     "metadata": {},
     "output_type": "execute_result"
    }
   ],
   "source": [
    "bar = net.LinearRow2(net.LinearRow1(net.LinearRow1(foo)))\n",
    "bar.shape"
   ]
  },
  {
   "cell_type": "code",
   "execution_count": 35,
   "metadata": {},
   "outputs": [
    {
     "data": {
      "text/plain": [
       "torch.Size([4, 129])"
      ]
     },
     "execution_count": 35,
     "metadata": {},
     "output_type": "execute_result"
    }
   ],
   "source": [
    "net.LinearCol2(bar.view(-1, 129)).shape"
   ]
  },
  {
   "cell_type": "code",
   "execution_count": 17,
   "metadata": {},
   "outputs": [
    {
     "data": {
      "text/plain": [
       "torch.Size([4, 129])"
      ]
     },
     "execution_count": 17,
     "metadata": {},
     "output_type": "execute_result"
    }
   ],
   "source": [
    "net(foo).shape"
   ]
  }
 ],
 "metadata": {
  "interpreter": {
   "hash": "7808f786822013b9d5984aa54e12ef6bec326a79c76c0a75cd22ab652610adbd"
  },
  "kernelspec": {
   "display_name": "Python 3.7.12 64-bit ('explicit-memory': virtualenv)",
   "language": "python",
   "name": "python3"
  },
  "language_info": {
   "codemirror_mode": {
    "name": "ipython",
    "version": 3
   },
   "file_extension": ".py",
   "mimetype": "text/x-python",
   "name": "python",
   "nbconvert_exporter": "python",
   "pygments_lexer": "ipython3",
   "version": "3.7.12"
  },
  "orig_nbformat": 4
 },
 "nbformat": 4,
 "nbformat_minor": 2
}
