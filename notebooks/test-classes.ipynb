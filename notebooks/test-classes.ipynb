{
 "cells": [
  {
   "cell_type": "code",
   "execution_count": 1,
   "metadata": {},
   "outputs": [
    {
     "name": "stdout",
     "output_type": "stream",
     "text": [
      "/home/tk/repos/explicit-memory\n",
      "env: LOGLEVEL=ERROR\n"
     ]
    }
   ],
   "source": [
    "%cd ..\n",
    "%env LOGLEVEL=ERROR"
   ]
  },
  {
   "cell_type": "code",
   "execution_count": 4,
   "metadata": {},
   "outputs": [],
   "source": [
    "from memory import Memory, SemanticMemory, EpisodicMemory\n",
    "from memory.environments import MemorySpace, OQAGenerator\n",
    "import numpy as np"
   ]
  },
  {
   "cell_type": "code",
   "execution_count": 5,
   "metadata": {},
   "outputs": [
    {
     "data": {
      "application/vnd.jupyter.widget-view+json": {
       "model_id": "162d8fd4657a402a83aa074db5aea2e9",
       "version_major": 2,
       "version_minor": 0
      },
      "text/plain": [
       "  0%|          | 0/6 [00:00<?, ?it/s]"
      ]
     },
     "metadata": {},
     "output_type": "display_data"
    },
    {
     "name": "stdout",
     "output_type": "stream",
     "text": [
      "episodic_memory_manage\n"
     ]
    },
    {
     "data": {
      "application/vnd.jupyter.widget-view+json": {
       "model_id": "8f43a86c882745fba101e0dbd397ba66",
       "version_major": 2,
       "version_minor": 0
      },
      "text/plain": [
       "  0%|          | 0/100 [00:00<?, ?it/s]"
      ]
     },
     "metadata": {},
     "output_type": "display_data"
    },
    {
     "ename": "AssertionError",
     "evalue": "",
     "output_type": "error",
     "traceback": [
      "\u001b[0;31m---------------------------------------------------------------------------\u001b[0m",
      "\u001b[0;31mAssertionError\u001b[0m                            Traceback (most recent call last)",
      "\u001b[0;32m/tmp/ipykernel_1314710/3981488560.py\u001b[0m in \u001b[0;36m<module>\u001b[0;34m\u001b[0m\n\u001b[1;32m     34\u001b[0m \u001b[0;34m\u001b[0m\u001b[0m\n\u001b[1;32m     35\u001b[0m         \u001b[0;32mfor\u001b[0m \u001b[0m__\u001b[0m \u001b[0;32min\u001b[0m \u001b[0mrange\u001b[0m\u001b[0;34m(\u001b[0m\u001b[0mNUM_INNER_LOOP\u001b[0m\u001b[0;34m)\u001b[0m\u001b[0;34m:\u001b[0m\u001b[0;34m\u001b[0m\u001b[0;34m\u001b[0m\u001b[0m\n\u001b[0;32m---> 36\u001b[0;31m             \u001b[0msample\u001b[0m \u001b[0;34m=\u001b[0m \u001b[0mmemspace\u001b[0m\u001b[0;34m.\u001b[0m\u001b[0msample\u001b[0m\u001b[0;34m(\u001b[0m\u001b[0;34m)\u001b[0m\u001b[0;34m\u001b[0m\u001b[0;34m\u001b[0m\u001b[0m\n\u001b[0m\u001b[1;32m     37\u001b[0m             assert memspace.contains(\n\u001b[1;32m     38\u001b[0m                 \u001b[0msample\u001b[0m\u001b[0;34m\u001b[0m\u001b[0;34m\u001b[0m\u001b[0m\n",
      "\u001b[0;32m~/repos/explicit-memory/memory/environments.py\u001b[0m in \u001b[0;36msample\u001b[0;34m(self)\u001b[0m\n\u001b[1;32m    800\u001b[0m                 \u001b[0mmem_epi\u001b[0m \u001b[0;34m=\u001b[0m \u001b[0mself\u001b[0m\u001b[0;34m.\u001b[0m\u001b[0mM_e\u001b[0m\u001b[0;34m.\u001b[0m\u001b[0mob2epi\u001b[0m\u001b[0;34m(\u001b[0m\u001b[0mob\u001b[0m\u001b[0;34m)\u001b[0m\u001b[0;34m\u001b[0m\u001b[0;34m\u001b[0m\u001b[0m\n\u001b[1;32m    801\u001b[0m                 \u001b[0mself\u001b[0m\u001b[0;34m.\u001b[0m\u001b[0mM_e\u001b[0m\u001b[0;34m.\u001b[0m\u001b[0madd\u001b[0m\u001b[0;34m(\u001b[0m\u001b[0mmem_epi\u001b[0m\u001b[0;34m)\u001b[0m\u001b[0;34m\u001b[0m\u001b[0;34m\u001b[0m\u001b[0m\n\u001b[0;32m--> 802\u001b[0;31m             \u001b[0mqa\u001b[0m \u001b[0;34m=\u001b[0m \u001b[0mself\u001b[0m\u001b[0;34m.\u001b[0m\u001b[0moqag\u001b[0m\u001b[0;34m.\u001b[0m\u001b[0mgenerate_question_answer\u001b[0m\u001b[0;34m(\u001b[0m\u001b[0;34m)\u001b[0m\u001b[0;34m\u001b[0m\u001b[0;34m\u001b[0m\u001b[0m\n\u001b[0m\u001b[1;32m    803\u001b[0m             \u001b[0mqa_epi\u001b[0m \u001b[0;34m=\u001b[0m \u001b[0mqa\u001b[0m\u001b[0;34m\u001b[0m\u001b[0;34m\u001b[0m\u001b[0m\n\u001b[1;32m    804\u001b[0m \u001b[0;34m\u001b[0m\u001b[0m\n",
      "\u001b[0;32m~/repos/explicit-memory/memory/environments.py\u001b[0m in \u001b[0;36mgenerate_question_answer\u001b[0;34m(self)\u001b[0m\n\u001b[1;32m    269\u001b[0m \u001b[0;34m\u001b[0m\u001b[0m\n\u001b[1;32m    270\u001b[0m         \"\"\"\n\u001b[0;32m--> 271\u001b[0;31m         \u001b[0;32massert\u001b[0m \u001b[0mlen\u001b[0m\u001b[0;34m(\u001b[0m\u001b[0mself\u001b[0m\u001b[0;34m.\u001b[0m\u001b[0mhistory\u001b[0m\u001b[0;34m)\u001b[0m \u001b[0;34m!=\u001b[0m \u001b[0;36m0\u001b[0m\u001b[0;34m\u001b[0m\u001b[0;34m\u001b[0m\u001b[0m\n\u001b[0m\u001b[1;32m    272\u001b[0m         \u001b[0mlogging\u001b[0m\u001b[0;34m.\u001b[0m\u001b[0mdebug\u001b[0m\u001b[0;34m(\u001b[0m\u001b[0;34m\"Generating a question and answer based on the history ...\"\u001b[0m\u001b[0;34m)\u001b[0m\u001b[0;34m\u001b[0m\u001b[0;34m\u001b[0m\u001b[0m\n\u001b[1;32m    273\u001b[0m         \u001b[0mheads_covered\u001b[0m \u001b[0;34m=\u001b[0m \u001b[0;34m[\u001b[0m\u001b[0;34m]\u001b[0m\u001b[0;34m\u001b[0m\u001b[0;34m\u001b[0m\u001b[0m\n",
      "\u001b[0;31mAssertionError\u001b[0m: "
     ]
    }
   ],
   "source": [
    "import random\n",
    "from tqdm.notebook import tqdm\n",
    "\n",
    "NUM_OUTER_LOOP = 100\n",
    "NUM_INNER_LOOP = 1000\n",
    "EPISOIC_MAX = 4\n",
    "SEMANTIC_MAX = 4\n",
    "HISTORY_MAX = 8\n",
    "\n",
    "\n",
    "for space_type in tqdm(\n",
    "    [\n",
    "        \"episodic_memory_manage\",\n",
    "        \"episodic_question_answer\",\n",
    "        \"semantic_memory_manage\",\n",
    "        \"semantic_question_answer\",\n",
    "        \"episodic_to_semantic\",\n",
    "        \"episodic_semantic_question_answer\",\n",
    "    ]\n",
    "):\n",
    "    print(space_type)\n",
    "    for _ in tqdm(range(NUM_OUTER_LOOP)):\n",
    "        capacity = {\n",
    "            \"episodic\": random.randint(1, EPISOIC_MAX),\n",
    "            \"semantic\": random.randint(1, SEMANTIC_MAX),\n",
    "        }\n",
    "        if space_type in [\"episodic_memory_manage\", \"episodic_question_answer\"]:\n",
    "            capacity[\"semantic\"] = 0\n",
    "        elif space_type in [\"semantic_memory_manage\", \"semantic_question_answer\"]:\n",
    "            capacity[\"episodic\"] = 0\n",
    "        memspace = MemorySpace(\n",
    "            capacity=capacity, space_type=space_type, max_history=HISTORY_MAX\n",
    "        )\n",
    "\n",
    "        for __ in range(NUM_INNER_LOOP):\n",
    "            sample = memspace.sample()\n",
    "            assert memspace.contains(\n",
    "                sample\n",
    "            ), f\"{'space_type: ' + space_type:<40} {'capacity: ' + str(capacity):<40}\"\n",
    "\n",
    "            if space_type == \"episodic_memory_manage\":\n",
    "                foo = memspace.numbers_to_episodic_memories(sample)\n",
    "                bar = memspace.M_e.entries.copy()\n",
    "                assert len(foo) == len(bar)\n",
    "\n",
    "                for foo_, bar_ in zip(foo, bar):\n",
    "                    assert foo_[0] == bar_[0]\n",
    "                    assert foo_[1] == bar_[1]\n",
    "                    assert foo_[2] == bar_[2]\n",
    "                    assert abs(foo_[3] - bar_[3]) < 1\n",
    "\n",
    "            elif space_type == \"episodic_question_answer\":\n",
    "                foo = memspace.numbers_to_episodic_memories(sample[:-1, :])\n",
    "                qa = memspace.numbers_to_episodic_question_answer(\n",
    "                    sample[-1, :].reshape(1, -1)\n",
    "                )\n",
    "                bar = memspace.M_e.entries.copy()\n",
    "                assert len(foo) == len(bar)\n",
    "                assert memspace.is_correct_question_answer(\"episodic\", qa)\n",
    "\n",
    "                for foo_, bar_ in zip(foo, bar):\n",
    "                    assert foo_[0] == bar_[0]\n",
    "                    assert foo_[1] == bar_[1]\n",
    "                    assert foo_[2] == bar_[2]\n",
    "                    assert abs(foo_[3] - bar_[3]) < 1\n",
    "\n",
    "            elif space_type == \"semantic_memory_manage\":\n",
    "                foo = memspace.numbers_to_semantic_memories(sample)\n",
    "                bar = memspace.M_s.entries.copy()\n",
    "                assert len(foo) == len(bar)\n",
    "\n",
    "                for foo_, bar_ in zip(foo, bar):\n",
    "                    assert foo_[0] == bar_[0]\n",
    "                    assert foo_[1] == bar_[1]\n",
    "                    assert foo_[2] == bar_[2]\n",
    "                    assert foo_[3] == bar_[3]\n",
    "\n",
    "            elif space_type == \"semantic_question_answer\":\n",
    "                foo = memspace.numbers_to_semantic_memories(sample[:-1, :])\n",
    "                qa = memspace.numbers_to_semantic_question_answer(\n",
    "                    sample[-1, :].reshape(1, -1)\n",
    "                )\n",
    "                bar = memspace.M_s.entries.copy()\n",
    "                assert len(foo) == len(bar)\n",
    "                assert memspace.is_correct_question_answer(\"semantic\", qa)\n",
    "\n",
    "                for foo_, bar_ in zip(foo, bar):\n",
    "                    assert foo_[0] == bar_[0]\n",
    "                    assert foo_[1] == bar_[1]\n",
    "                    assert foo_[2] == bar_[2]\n",
    "                    assert foo_[3] == bar_[3]\n",
    "\n",
    "            elif space_type == \"episodic_to_semantic\":\n",
    "                foo = memspace.numbers_to_episodic_memories(sample)\n",
    "                bar = memspace.M_e.entries.copy()\n",
    "                assert len(foo) == len(bar)\n",
    "\n",
    "                for foo_, bar_ in zip(foo, bar):\n",
    "                    assert foo_[0] == bar_[0]\n",
    "                    assert foo_[1] == bar_[1]\n",
    "                    assert foo_[2] == bar_[2]\n",
    "                    assert abs(foo_[3] - bar_[3]) < 1\n",
    "\n",
    "            elif space_type == \"episodic_semantic_question_answer\":\n",
    "                qa = memspace.numbers_to_episodic_question_answer(\n",
    "                    sample[-1, :].reshape(1, -1)\n",
    "                )\n",
    "                assert memspace.is_correct_question_answer(\"episodic\", qa)\n",
    "\n",
    "                episodic_memories = []\n",
    "                semantic_memories = []\n",
    "                for row in sample[:-1, :]:\n",
    "                    if (\n",
    "                        memspace.oqag.number2string(row[0])\n",
    "                        == memspace.oqag.number2string(row[1])\n",
    "                        == memspace.oqag.number2string(row[2])\n",
    "                        == memspace.oqag.number2string(row[3])\n",
    "                        == memspace.oqag.number2string(row[4])\n",
    "                        == memspace.oqag.number2string(row[5])\n",
    "                        == \"<pad>\"\n",
    "                    ):\n",
    "                        continue\n",
    "                    else:\n",
    "                        if (\n",
    "                            memspace.oqag.number2string(row[0])\n",
    "                            == memspace.oqag.number2string(row[3])\n",
    "                            == \"<pad>\"\n",
    "                        ):\n",
    "                            semantic_memories.append(row)\n",
    "                        else:\n",
    "                            episodic_memories.append(row)\n",
    "\n",
    "                episodic_memories = np.array(episodic_memories)\n",
    "                semantic_memories = np.array(semantic_memories)\n",
    "\n",
    "                foo = memspace.numbers_to_episodic_memories(episodic_memories)\n",
    "                bar = memspace.M_e.entries.copy()\n",
    "                assert len(foo) == len(bar)\n",
    "\n",
    "                for foo_, bar_ in zip(foo, bar):\n",
    "                    assert foo_[0] == bar_[0]\n",
    "                    assert foo_[1] == bar_[1]\n",
    "                    assert foo_[2] == bar_[2]\n",
    "                    assert abs(foo_[3] - bar_[3]) < 1\n",
    "\n",
    "                foo = memspace.numbers_to_semantic_memories(semantic_memories)\n",
    "                bar = memspace.M_s.entries.copy()\n",
    "                assert len(foo) == len(bar)\n",
    "\n",
    "                for foo_, bar_ in zip(foo, bar):\n",
    "                    assert foo_[0] == bar_[0]\n",
    "                    assert foo_[1] == bar_[1]\n",
    "                    assert foo_[2] == bar_[2]\n",
    "                    assert foo_[3] == bar_[3]\n"
   ]
  },
  {
   "cell_type": "code",
   "execution_count": 12,
   "metadata": {},
   "outputs": [
    {
     "data": {
      "text/plain": [
       "{   '_frozen': False,\n",
       "    'capacity': 3,\n",
       "    'entries': [   [   \"Jennifer's \"\n",
       "                       'clock',\n",
       "                       'AtLocation',\n",
       "                       \"Jennifer's \"\n",
       "                       'desk',\n",
       "                       158301.8235898018],\n",
       "                   [   \"James's \"\n",
       "                       'bench',\n",
       "                       'AtLocation',\n",
       "                       \"James's \"\n",
       "                       'closet',\n",
       "                       158301.82362484932],\n",
       "                   [   \"Michael's \"\n",
       "                       'bowl',\n",
       "                       'AtLocation',\n",
       "                       \"Michael's \"\n",
       "                       'garage',\n",
       "                       158301.8236477375]],\n",
       "    'type': 'episodic'}"
      ]
     },
     "execution_count": 12,
     "metadata": {},
     "output_type": "execute_result"
    }
   ],
   "source": [
    "memspace.M_e"
   ]
  },
  {
   "cell_type": "code",
   "execution_count": 13,
   "metadata": {},
   "outputs": [
    {
     "data": {
      "text/plain": [
       "{   '_frozen': False,\n",
       "    'capacity': 3,\n",
       "    'entries': [   [   'sandwich',\n",
       "                       'AtLocation',\n",
       "                       'sky',\n",
       "                       1]],\n",
       "    'type': 'semantic'}"
      ]
     },
     "execution_count": 13,
     "metadata": {},
     "output_type": "execute_result"
    }
   ],
   "source": [
    "memspace.M_s"
   ]
  }
 ],
 "metadata": {
  "interpreter": {
   "hash": "7808f786822013b9d5984aa54e12ef6bec326a79c76c0a75cd22ab652610adbd"
  },
  "kernelspec": {
   "display_name": "Python 3.7.12 64-bit ('explicit-memory': virtualenv)",
   "name": "python3"
  },
  "language_info": {
   "codemirror_mode": {
    "name": "ipython",
    "version": 3
   },
   "file_extension": ".py",
   "mimetype": "text/x-python",
   "name": "python",
   "nbconvert_exporter": "python",
   "pygments_lexer": "ipython3",
   "version": "3.7.12"
  },
  "orig_nbformat": 4
 },
 "nbformat": 4,
 "nbformat_minor": 2
}
