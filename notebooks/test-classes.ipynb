{
 "cells": [
  {
   "cell_type": "code",
   "execution_count": 1,
   "metadata": {},
   "outputs": [
    {
     "name": "stdout",
     "output_type": "stream",
     "text": [
      "/home/tk/repos/explicit-memory\n",
      "env: LOGLEVEL=INFO\n"
     ]
    }
   ],
   "source": [
    "%cd ..\n",
    "%env LOGLEVEL=INFO"
   ]
  },
  {
   "cell_type": "markdown",
   "metadata": {},
   "source": [
    "## to test\n",
    "\n",
    "### both:\n",
    "\n",
    "* forget\n",
    "* is_empty\n",
    "* is_full\n",
    "* is_frozen\n",
    "* freeze\n",
    "* get_duplicate_heads\n",
    "* forget_random\n",
    "* answer_random\n",
    "* add\n",
    "\n",
    "### episodic:\n",
    "\n",
    "* increase_capacity\n",
    "* decrease_capacity\n",
    "* get_oldest_memory\n",
    "* get_latest_memory\n",
    "* forget_oldest\n",
    "* answer_latest\n",
    "* ob2epi\n",
    "* get_similar\n",
    "\n",
    "### semantic:\n",
    "\n",
    "* pretrain_semantic\n",
    "* get_weakest_memory\n",
    "* get_strongest_memory\n",
    "* forget_weakest\n",
    "* answer_strongest\n",
    "* ob2sem\n",
    "* eq2sq\n",
    "* clean_memories\n",
    "* add"
   ]
  },
  {
   "cell_type": "code",
   "execution_count": 2,
   "metadata": {},
   "outputs": [
    {
     "ename": "ModuleNotFoundError",
     "evalue": "No module named 'memory'",
     "output_type": "error",
     "traceback": [
      "\u001b[0;31m---------------------------------------------------------------------------\u001b[0m",
      "\u001b[0;31mModuleNotFoundError\u001b[0m                       Traceback (most recent call last)",
      "\u001b[0;32m/tmp/ipykernel_446996/1268326252.py\u001b[0m in \u001b[0;36m<module>\u001b[0;34m\u001b[0m\n\u001b[0;32m----> 1\u001b[0;31m \u001b[0;32mfrom\u001b[0m \u001b[0mmemory\u001b[0m \u001b[0;32mimport\u001b[0m \u001b[0mSemanticMemory\u001b[0m\u001b[0;34m,\u001b[0m \u001b[0mEpisodicMemory\u001b[0m\u001b[0;34m\u001b[0m\u001b[0;34m\u001b[0m\u001b[0m\n\u001b[0m\u001b[1;32m      2\u001b[0m \u001b[0;32mfrom\u001b[0m \u001b[0mmemory\u001b[0m\u001b[0;34m.\u001b[0m\u001b[0menvironments\u001b[0m \u001b[0;32mimport\u001b[0m \u001b[0mMemorySpace\u001b[0m\u001b[0;34m,\u001b[0m \u001b[0mOQAGenerator\u001b[0m\u001b[0;34m\u001b[0m\u001b[0;34m\u001b[0m\u001b[0m\n",
      "\u001b[0;31mModuleNotFoundError\u001b[0m: No module named 'memory'"
     ]
    }
   ],
   "source": [
    "from memory import SemanticMemory, EpisodicMemory\n",
    "from memory.environments import MemorySpace, OQAGenerator"
   ]
  },
  {
   "cell_type": "code",
   "execution_count": 3,
   "metadata": {},
   "outputs": [
    {
     "ename": "NameError",
     "evalue": "name 'OQAGenerator' is not defined",
     "output_type": "error",
     "traceback": [
      "\u001b[0;31m---------------------------------------------------------------------------\u001b[0m",
      "\u001b[0;31mNameError\u001b[0m                                 Traceback (most recent call last)",
      "\u001b[0;32m/tmp/ipykernel_446996/2535818008.py\u001b[0m in \u001b[0;36m<module>\u001b[0;34m\u001b[0m\n\u001b[0;32m----> 1\u001b[0;31m \u001b[0mfoo\u001b[0m \u001b[0;34m=\u001b[0m \u001b[0mOQAGenerator\u001b[0m\u001b[0;34m(\u001b[0m\u001b[0;34m)\u001b[0m\u001b[0;34m\u001b[0m\u001b[0;34m\u001b[0m\u001b[0m\n\u001b[0m\u001b[1;32m      2\u001b[0m \u001b[0mfoo\u001b[0m\u001b[0;34m.\u001b[0m\u001b[0mstring2number\u001b[0m\u001b[0;34m(\u001b[0m\u001b[0;34m'room'\u001b[0m\u001b[0;34m)\u001b[0m\u001b[0;34m\u001b[0m\u001b[0;34m\u001b[0m\u001b[0m\n",
      "\u001b[0;31mNameError\u001b[0m: name 'OQAGenerator' is not defined"
     ]
    }
   ],
   "source": [
    "foo = OQAGenerator()\n",
    "foo.string2number('room')"
   ]
  },
  {
   "cell_type": "code",
   "execution_count": 4,
   "metadata": {},
   "outputs": [
    {
     "name": "stderr",
     "output_type": "stream",
     "text": [
      "2021-11-20 16:39:55.170 DEBUG environments - __init__: Creating an Observation-Question-Answer generator object ...\n",
      "2021-11-20 16:39:55.170 DEBUG environments - load_semantic_knowledge: loading the semantic knowledge from ./data/semantic-knowledge.json...\n",
      "2021-11-20 16:39:55.171 DEBUG utils - read_json: reading json ./data/semantic-knowledge.json ...\n",
      "2021-11-20 16:39:55.172 INFO environments - load_semantic_knowledge: semantic knowledge successfully loaded from ./data/semantic-knowledge.json!\n",
      "2021-11-20 16:39:55.172 DEBUG environments - read_names: Reading ./data/top-human-names ...\n",
      "2021-11-20 16:39:55.173 INFO environments - read_names: Reading ./data/top-human-names complete! There are 20 names in total\n",
      "2021-11-20 16:39:55.173 INFO environments - __init__: An Observation-Question-Answer generator object is generated!\n",
      "2021-11-20 16:39:55.173 DEBUG memory - __init__: instantiating a episodic memory object with size 100 ...\n",
      "2021-11-20 16:39:55.174 DEBUG memory - __init__: episodic memory object with size 100 instantiated!\n",
      "2021-11-20 16:39:55.174 DEBUG memory - __init__: instantiating a semantic memory object with size 0 ...\n",
      "2021-11-20 16:39:55.175 DEBUG memory - __init__: semantic memory object with size 0 instantiated!\n"
     ]
    }
   ],
   "source": [
    "ms = MemorySpace(capacity={'episodic': 100, 'semantic': 0}, space_type='episodic_to_semantic')\n"
   ]
  },
  {
   "cell_type": "code",
   "execution_count": 5,
   "metadata": {},
   "outputs": [
    {
     "name": "stderr",
     "output_type": "stream",
     "text": [
      "2021-11-20 16:39:56.634 DEBUG environments - reset: Reseting the history of length 0...\n",
      "2021-11-20 16:39:56.636 INFO environments - reset: Reseting the history is done!\n",
      "2021-11-20 16:39:56.636 WARNING memory - forget_all: EVERYTHING IN THE MEMORY SYSTEM WILL BE FORGOTTEN!\n",
      "2021-11-20 16:39:56.637 WARNING memory - forget_all: EVERYTHING IN THE MEMORY SYSTEM WILL BE FORGOTTEN!\n",
      "2021-11-20 16:39:56.637 DEBUG environments - generate_observation: Generating an observation ...\n",
      "2021-11-20 16:39:56.638 DEBUG environments - generate_observation: Generating a NON common location for bottle ...\n",
      "2021-11-20 16:39:56.638 INFO environments - generate_observation: A new observation generated: [\"Patricia's bottle\", 'AtLocation', \"Patricia's residence\", 1637422796.6384366]\n",
      "2021-11-20 16:39:56.638 DEBUG environments - add_observation_to_history: Adding observation [\"Patricia's bottle\", 'AtLocation', \"Patricia's residence\", 1637422796.6384366] to history ... This is needed to generate a question later.\n",
      "2021-11-20 16:39:56.639 INFO environments - add_observation_to_history: observation [\"Patricia's bottle\", 'AtLocation', \"Patricia's residence\", 1637422796.6384366] is added to history!\n",
      "2021-11-20 16:39:56.639 INFO environments - generate: The new observation is added to the history.\n",
      "2021-11-20 16:39:56.639 DEBUG memory - ob2epi: Turning an observation [\"Patricia's bottle\", 'AtLocation', \"Patricia's residence\", 1637422796.6384366] into a episodic memory ...\n",
      "2021-11-20 16:39:56.640 INFO memory - ob2epi: Observation [\"Patricia's bottle\", 'AtLocation', \"Patricia's residence\", 1637422796.6384366] is now a episodic memory [\"Patricia's bottle\", 'AtLocation', \"Patricia's residence\", 1637422796.6384366]\n",
      "2021-11-20 16:39:56.640 DEBUG memory - add: Adding a new memory entry [\"Patricia's bottle\", 'AtLocation', \"Patricia's residence\", 1637422796.6384366] ...\n",
      "2021-11-20 16:39:56.642 INFO memory - add: memory entry [\"Patricia's bottle\", 'AtLocation', \"Patricia's residence\", 1637422796.6384366] added. Now there are in total of 1 memories!\n",
      "2021-11-20 16:39:56.642 DEBUG environments - generate_observation: Generating an observation ...\n",
      "2021-11-20 16:39:56.643 DEBUG environments - generate_observation: Generating a common location for bear ...\n",
      "2021-11-20 16:39:56.643 INFO environments - generate_observation: A new observation generated: [\"Barbara's bear\", 'AtLocation', \"Barbara's countryside\", 1637422796.643448]\n",
      "2021-11-20 16:39:56.643 DEBUG environments - add_observation_to_history: Adding observation [\"Barbara's bear\", 'AtLocation', \"Barbara's countryside\", 1637422796.643448] to history ... This is needed to generate a question later.\n",
      "2021-11-20 16:39:56.644 INFO environments - add_observation_to_history: observation [\"Barbara's bear\", 'AtLocation', \"Barbara's countryside\", 1637422796.643448] is added to history!\n",
      "2021-11-20 16:39:56.644 INFO environments - generate: The new observation is added to the history.\n",
      "2021-11-20 16:39:56.645 DEBUG memory - ob2epi: Turning an observation [\"Barbara's bear\", 'AtLocation', \"Barbara's countryside\", 1637422796.643448] into a episodic memory ...\n",
      "2021-11-20 16:39:56.645 INFO memory - ob2epi: Observation [\"Barbara's bear\", 'AtLocation', \"Barbara's countryside\", 1637422796.643448] is now a episodic memory [\"Barbara's bear\", 'AtLocation', \"Barbara's countryside\", 1637422796.643448]\n",
      "2021-11-20 16:39:56.645 DEBUG memory - add: Adding a new memory entry [\"Barbara's bear\", 'AtLocation', \"Barbara's countryside\", 1637422796.643448] ...\n",
      "2021-11-20 16:39:56.646 INFO memory - add: memory entry [\"Barbara's bear\", 'AtLocation', \"Barbara's countryside\", 1637422796.643448] added. Now there are in total of 2 memories!\n",
      "2021-11-20 16:39:56.646 DEBUG environments - generate_observation: Generating an observation ...\n",
      "2021-11-20 16:39:56.646 DEBUG environments - generate_observation: Generating a common location for truck ...\n",
      "2021-11-20 16:39:56.647 INFO environments - generate_observation: A new observation generated: [\"Susan's truck\", 'AtLocation', \"Susan's garage\", 1637422796.6473289]\n",
      "2021-11-20 16:39:56.647 DEBUG environments - add_observation_to_history: Adding observation [\"Susan's truck\", 'AtLocation', \"Susan's garage\", 1637422796.6473289] to history ... This is needed to generate a question later.\n",
      "2021-11-20 16:39:56.648 INFO environments - add_observation_to_history: observation [\"Susan's truck\", 'AtLocation', \"Susan's garage\", 1637422796.6473289] is added to history!\n",
      "2021-11-20 16:39:56.648 INFO environments - generate: The new observation is added to the history.\n",
      "2021-11-20 16:39:56.648 DEBUG memory - ob2epi: Turning an observation [\"Susan's truck\", 'AtLocation', \"Susan's garage\", 1637422796.6473289] into a episodic memory ...\n",
      "2021-11-20 16:39:56.649 INFO memory - ob2epi: Observation [\"Susan's truck\", 'AtLocation', \"Susan's garage\", 1637422796.6473289] is now a episodic memory [\"Susan's truck\", 'AtLocation', \"Susan's garage\", 1637422796.6473289]\n",
      "2021-11-20 16:39:56.649 DEBUG memory - add: Adding a new memory entry [\"Susan's truck\", 'AtLocation', \"Susan's garage\", 1637422796.6473289] ...\n",
      "2021-11-20 16:39:56.649 INFO memory - add: memory entry [\"Susan's truck\", 'AtLocation', \"Susan's garage\", 1637422796.6473289] added. Now there are in total of 3 memories!\n",
      "2021-11-20 16:39:56.650 DEBUG environments - generate_observation: Generating an observation ...\n",
      "2021-11-20 16:39:56.650 DEBUG environments - generate_observation: Generating a NON common location for couch ...\n",
      "2021-11-20 16:39:56.650 INFO environments - generate_observation: A new observation generated: [\"John's couch\", 'AtLocation', \"John's parade\", 1637422796.6507533]\n",
      "2021-11-20 16:39:56.651 DEBUG environments - add_observation_to_history: Adding observation [\"John's couch\", 'AtLocation', \"John's parade\", 1637422796.6507533] to history ... This is needed to generate a question later.\n",
      "2021-11-20 16:39:56.651 INFO environments - add_observation_to_history: observation [\"John's couch\", 'AtLocation', \"John's parade\", 1637422796.6507533] is added to history!\n",
      "2021-11-20 16:39:56.651 INFO environments - generate: The new observation is added to the history.\n",
      "2021-11-20 16:39:56.651 DEBUG memory - ob2epi: Turning an observation [\"John's couch\", 'AtLocation', \"John's parade\", 1637422796.6507533] into a episodic memory ...\n",
      "2021-11-20 16:39:56.652 INFO memory - ob2epi: Observation [\"John's couch\", 'AtLocation', \"John's parade\", 1637422796.6507533] is now a episodic memory [\"John's couch\", 'AtLocation', \"John's parade\", 1637422796.6507533]\n",
      "2021-11-20 16:39:56.652 DEBUG memory - add: Adding a new memory entry [\"John's couch\", 'AtLocation', \"John's parade\", 1637422796.6507533] ...\n",
      "2021-11-20 16:39:56.652 INFO memory - add: memory entry [\"John's couch\", 'AtLocation', \"John's parade\", 1637422796.6507533] added. Now there are in total of 4 memories!\n",
      "2021-11-20 16:39:56.653 DEBUG environments - generate_question_answer: Generating a question and answer based on the history ...\n",
      "2021-11-20 16:39:56.653 INFO environments - generate_question_answer: Generated question and answer is [\"Susan's truck\", 'AtLocation', \"Susan's garage\"]\n",
      "2021-11-20 16:39:56.653 DEBUG environments - generate_observation: Generating an observation ...\n",
      "2021-11-20 16:39:56.654 DEBUG environments - generate_observation: Generating a NON common location for bench ...\n",
      "2021-11-20 16:39:56.654 INFO environments - generate_observation: A new observation generated: [\"Robert's bench\", 'AtLocation', \"Robert's street\", 1637422796.6543148]\n",
      "2021-11-20 16:39:56.654 DEBUG environments - add_observation_to_history: Adding observation [\"Robert's bench\", 'AtLocation', \"Robert's street\", 1637422796.6543148] to history ... This is needed to generate a question later.\n",
      "2021-11-20 16:39:56.654 INFO environments - add_observation_to_history: observation [\"Robert's bench\", 'AtLocation', \"Robert's street\", 1637422796.6543148] is added to history!\n",
      "2021-11-20 16:39:56.655 INFO environments - generate: The new observation is added to the history.\n",
      "2021-11-20 16:39:56.655 DEBUG memory - ob2sem: Turning an observation [\"Robert's bench\", 'AtLocation', \"Robert's street\", 1637422796.6543148] into a semantic memory ...\n",
      "2021-11-20 16:39:56.655 INFO memory - ob2sem: Observation [\"Robert's bench\", 'AtLocation', \"Robert's street\", 1637422796.6543148] is now a semantic memory ['bench', 'AtLocation', 'street', 1]\n",
      "2021-11-20 16:39:56.655 DEBUG memory - add: Adding a new memory entry ['bench', 'AtLocation', 'street', 1] ...\n",
      "2021-11-20 16:39:56.656 INFO memory - add: memory entry ['bench', 'AtLocation', 'street', 1] added. Now there are in total of 1 memories!\n",
      "2021-11-20 16:39:56.656 DEBUG memory - clean_memories: finding if duplicate memories exist ...\n",
      "2021-11-20 16:39:56.656 DEBUG memory - clean_memories: There are in total of 1 semantic memories before cleaning\n",
      "2021-11-20 16:39:56.657 DEBUG memory - clean_memories: There are now in total of 1 semantic memories after cleaning\n",
      "2021-11-20 16:39:56.657 DEBUG environments - generate_question_answer: Generating a question and answer based on the history ...\n",
      "2021-11-20 16:39:56.657 INFO environments - generate_question_answer: Generated question and answer is [\"Patricia's bottle\", 'AtLocation', \"Patricia's residence\"]\n",
      "2021-11-20 16:39:56.657 DEBUG memory - is_question_valid: Checking if the question [\"Patricia's bottle\", 'AtLocation', \"Patricia's residence\"] is valid ..\n",
      "2021-11-20 16:39:56.658 INFO memory - is_question_valid: [\"Patricia's bottle\", 'AtLocation', \"Patricia's residence\"] is a valid question.\n",
      "2021-11-20 16:39:56.658 DEBUG memory - eq2sq: Turning an episodic question [\"Patricia's bottle\", 'AtLocation', \"Patricia's residence\"] into a semantic question ...\n",
      "2021-11-20 16:39:56.658 INFO memory - eq2sq: An episodic question [\"Patricia's bottle\", 'AtLocation', \"Patricia's residence\"] is now a semantic question ['bottle', 'AtLocation', 'residence']\n"
     ]
    }
   ],
   "source": [
    "foo = ms.sample()"
   ]
  },
  {
   "cell_type": "code",
   "execution_count": 6,
   "metadata": {},
   "outputs": [
    {
     "data": {
      "text/plain": [
       "{'episodic_memory_system': [[\"Patricia's bottle\",\n",
       "   'AtLocation',\n",
       "   \"Patricia's residence\",\n",
       "   1637422796.6384366],\n",
       "  [\"Barbara's bear\", 'AtLocation', \"Barbara's countryside\", 1637422796.643448],\n",
       "  [\"Susan's truck\", 'AtLocation', \"Susan's garage\", 1637422796.6473289],\n",
       "  [\"John's couch\", 'AtLocation', \"John's parade\", 1637422796.6507533]],\n",
       " 'episodic_question_answer': None,\n",
       " 'semantic_memory_system': None,\n",
       " 'semantic_question_answer': None}"
      ]
     },
     "execution_count": 6,
     "metadata": {},
     "output_type": "execute_result"
    }
   ],
   "source": [
    "foo"
   ]
  },
  {
   "cell_type": "code",
   "execution_count": 6,
   "metadata": {},
   "outputs": [
    {
     "name": "stderr",
     "output_type": "stream",
     "text": [
      "2021-11-20 16:13:59.128 DEBUG memory - __init__: instantiating a episodic memory object with size 100 ...\n",
      "2021-11-20 16:13:59.129 DEBUG memory - __init__: episodic memory object with size 100 instantiated!\n",
      "2021-11-20 16:13:59.130 DEBUG memory - __init__: instantiating a semantic memory object with size 100 ...\n",
      "2021-11-20 16:13:59.130 DEBUG memory - __init__: semantic memory object with size 100 instantiated!\n"
     ]
    }
   ],
   "source": [
    "M_e = EpisodicMemory(100)\n",
    "M_s = SemanticMemory(100)"
   ]
  },
  {
   "cell_type": "code",
   "execution_count": 4,
   "metadata": {},
   "outputs": [
    {
     "name": "stderr",
     "output_type": "stream",
     "text": [
      "2021-11-14 20:22:31.661 DEBUG memory - add: Adding a new memory entry [\"Tae's laptop!!!\", 'AtLocation', \"Tae's desk\", 12] ...\n",
      "2021-11-14 20:22:31.662 INFO memory - add: memory entry [\"Tae's laptop!!!\", 'AtLocation', \"Tae's desk\", 12] added. Now there are in total of 1 memories!\n"
     ]
    }
   ],
   "source": [
    "M_e.add([\"Tae's laptop!!!\", \"AtLocation\", \"Tae's desk\", 12])"
   ]
  },
  {
   "cell_type": "code",
   "execution_count": 5,
   "metadata": {},
   "outputs": [
    {
     "name": "stderr",
     "output_type": "stream",
     "text": [
      "2021-11-14 20:22:32.645 DEBUG memory - add: Adding a new memory entry [\"Tae's laptop\", 'AtLocation', \"Tae's desk\", 7] ...\n",
      "2021-11-14 20:22:32.646 INFO memory - add: memory entry [\"Tae's laptop\", 'AtLocation', \"Tae's desk\", 7] added. Now there are in total of 2 memories!\n",
      "2021-11-14 20:22:32.647 DEBUG memory - add: Adding a new memory entry [\"Tae's laptop\", 'AtLocation', \"Tae's desk\", 10] ...\n",
      "2021-11-14 20:22:32.647 INFO memory - add: memory entry [\"Tae's laptop\", 'AtLocation', \"Tae's desk\", 10] added. Now there are in total of 3 memories!\n",
      "2021-11-14 20:22:32.648 DEBUG memory - add: Adding a new memory entry [\"Tae's laptop!!!\", 'AtLocation', \"Tae's desk\", 12] ...\n",
      "2021-11-14 20:22:32.648 INFO memory - add: memory entry [\"Tae's laptop!!!\", 'AtLocation', \"Tae's desk\", 12] added. Now there are in total of 4 memories!\n",
      "2021-11-14 20:22:32.649 DEBUG memory - add: Adding a new memory entry [\"Tae's laptop\", 'AtLocation', \"Tae's desk\", 10] ...\n",
      "2021-11-14 20:22:32.649 INFO memory - add: memory entry [\"Tae's laptop\", 'AtLocation', \"Tae's desk\", 10] added. Now there are in total of 5 memories!\n",
      "2021-11-14 20:22:32.650 DEBUG memory - add: Adding a new memory entry [\"Tae's bullshit\", 'AtLocation', \"Tae's desk\", 5] ...\n",
      "2021-11-14 20:22:32.650 INFO memory - add: memory entry [\"Tae's bullshit\", 'AtLocation', \"Tae's desk\", 5] added. Now there are in total of 6 memories!\n"
     ]
    }
   ],
   "source": [
    "M_e.add([\"Tae's laptop\", \"AtLocation\", \"Tae's desk\", 7])\n",
    "M_e.add([\"Tae's laptop\", \"AtLocation\", \"Tae's desk\", 10])\n",
    "M_e.add([\"Tae's laptop!!!\", \"AtLocation\", \"Tae's desk\", 12])\n",
    "M_e.add([\"Tae's laptop\", \"AtLocation\", \"Tae's desk\", 10])\n",
    "M_e.add([\"Tae's bullshit\", \"AtLocation\", \"Tae's desk\", 5])\n"
   ]
  },
  {
   "cell_type": "code",
   "execution_count": 6,
   "metadata": {},
   "outputs": [
    {
     "name": "stderr",
     "output_type": "stream",
     "text": [
      "2021-11-14 20:22:33.635 DEBUG memory - pretrain_semantic: Populating the semantic memory system with prior knowledge ...\n",
      "2021-11-14 20:22:33.635 DEBUG utils - read_json: reading json ./data/semantic-knowledge.json ...\n",
      "2021-11-14 20:22:33.636 DEBUG memory - pretrain_semantic: adding ['person', 'AtLocation', 'building', 9223372036854775807] to the semantic memory system ...\n",
      "2021-11-14 20:22:33.637 DEBUG memory - add: Adding a new memory entry ['person', 'AtLocation', 'building', 9223372036854775807] ...\n",
      "2021-11-14 20:22:33.637 INFO memory - add: memory entry ['person', 'AtLocation', 'building', 9223372036854775807] added. Now there are in total of 1 memories!\n",
      "2021-11-14 20:22:33.638 DEBUG memory - clean_memories: finding if duplicate memories exist ...\n",
      "2021-11-14 20:22:33.638 DEBUG memory - clean_memories: There are in total of 1 semantic memories before cleaning\n",
      "2021-11-14 20:22:33.638 DEBUG memory - clean_memories: There are now in total of 1 semantic memories after cleaning\n",
      "2021-11-14 20:22:33.639 DEBUG memory - pretrain_semantic: adding ['bicycle', 'AtLocation', 'garage', 9223372036854775807] to the semantic memory system ...\n",
      "2021-11-14 20:22:33.639 DEBUG memory - add: Adding a new memory entry ['bicycle', 'AtLocation', 'garage', 9223372036854775807] ...\n",
      "2021-11-14 20:22:33.639 INFO memory - add: memory entry ['bicycle', 'AtLocation', 'garage', 9223372036854775807] added. Now there are in total of 2 memories!\n",
      "2021-11-14 20:22:33.640 DEBUG memory - clean_memories: finding if duplicate memories exist ...\n",
      "2021-11-14 20:22:33.640 DEBUG memory - clean_memories: There are in total of 2 semantic memories before cleaning\n",
      "2021-11-14 20:22:33.640 DEBUG memory - clean_memories: There are now in total of 2 semantic memories after cleaning\n",
      "2021-11-14 20:22:33.641 DEBUG memory - pretrain_semantic: adding ['car', 'AtLocation', 'city', 9223372036854775807] to the semantic memory system ...\n",
      "2021-11-14 20:22:33.641 DEBUG memory - add: Adding a new memory entry ['car', 'AtLocation', 'city', 9223372036854775807] ...\n",
      "2021-11-14 20:22:33.641 INFO memory - add: memory entry ['car', 'AtLocation', 'city', 9223372036854775807] added. Now there are in total of 3 memories!\n",
      "2021-11-14 20:22:33.642 DEBUG memory - clean_memories: finding if duplicate memories exist ...\n",
      "2021-11-14 20:22:33.642 DEBUG memory - clean_memories: There are in total of 3 semantic memories before cleaning\n",
      "2021-11-14 20:22:33.642 DEBUG memory - clean_memories: There are now in total of 3 semantic memories after cleaning\n",
      "2021-11-14 20:22:33.643 DEBUG memory - pretrain_semantic: adding ['motorcycle', 'AtLocation', 'garage', 9223372036854775807] to the semantic memory system ...\n",
      "2021-11-14 20:22:33.645 DEBUG memory - add: Adding a new memory entry ['motorcycle', 'AtLocation', 'garage', 9223372036854775807] ...\n",
      "2021-11-14 20:22:33.645 INFO memory - add: memory entry ['motorcycle', 'AtLocation', 'garage', 9223372036854775807] added. Now there are in total of 4 memories!\n",
      "2021-11-14 20:22:33.645 DEBUG memory - clean_memories: finding if duplicate memories exist ...\n",
      "2021-11-14 20:22:33.646 DEBUG memory - clean_memories: There are in total of 4 semantic memories before cleaning\n",
      "2021-11-14 20:22:33.646 DEBUG memory - clean_memories: There are now in total of 4 semantic memories after cleaning\n",
      "2021-11-14 20:22:33.646 DEBUG memory - pretrain_semantic: adding ['airplane', 'AtLocation', 'sky', 9223372036854775807] to the semantic memory system ...\n",
      "2021-11-14 20:22:33.647 DEBUG memory - add: Adding a new memory entry ['airplane', 'AtLocation', 'sky', 9223372036854775807] ...\n",
      "2021-11-14 20:22:33.647 INFO memory - add: memory entry ['airplane', 'AtLocation', 'sky', 9223372036854775807] added. Now there are in total of 5 memories!\n",
      "2021-11-14 20:22:33.648 DEBUG memory - clean_memories: finding if duplicate memories exist ...\n",
      "2021-11-14 20:22:33.648 DEBUG memory - clean_memories: There are in total of 5 semantic memories before cleaning\n",
      "2021-11-14 20:22:33.648 DEBUG memory - clean_memories: There are now in total of 5 semantic memories after cleaning\n",
      "2021-11-14 20:22:33.649 DEBUG memory - pretrain_semantic: adding ['bus', 'AtLocation', 'city', 9223372036854775807] to the semantic memory system ...\n",
      "2021-11-14 20:22:33.649 DEBUG memory - add: Adding a new memory entry ['bus', 'AtLocation', 'city', 9223372036854775807] ...\n",
      "2021-11-14 20:22:33.649 INFO memory - add: memory entry ['bus', 'AtLocation', 'city', 9223372036854775807] added. Now there are in total of 6 memories!\n",
      "2021-11-14 20:22:33.650 DEBUG memory - clean_memories: finding if duplicate memories exist ...\n",
      "2021-11-14 20:22:33.650 DEBUG memory - clean_memories: There are in total of 6 semantic memories before cleaning\n",
      "2021-11-14 20:22:33.652 DEBUG memory - clean_memories: There are now in total of 6 semantic memories after cleaning\n",
      "2021-11-14 20:22:33.652 DEBUG memory - pretrain_semantic: adding ['truck', 'AtLocation', 'garage', 9223372036854775807] to the semantic memory system ...\n",
      "2021-11-14 20:22:33.653 DEBUG memory - add: Adding a new memory entry ['truck', 'AtLocation', 'garage', 9223372036854775807] ...\n",
      "2021-11-14 20:22:33.653 INFO memory - add: memory entry ['truck', 'AtLocation', 'garage', 9223372036854775807] added. Now there are in total of 7 memories!\n",
      "2021-11-14 20:22:33.654 DEBUG memory - clean_memories: finding if duplicate memories exist ...\n",
      "2021-11-14 20:22:33.654 DEBUG memory - clean_memories: There are in total of 7 semantic memories before cleaning\n",
      "2021-11-14 20:22:33.654 DEBUG memory - clean_memories: There are now in total of 7 semantic memories after cleaning\n",
      "2021-11-14 20:22:33.655 DEBUG memory - pretrain_semantic: adding ['boat', 'AtLocation', 'water', 9223372036854775807] to the semantic memory system ...\n",
      "2021-11-14 20:22:33.655 DEBUG memory - add: Adding a new memory entry ['boat', 'AtLocation', 'water', 9223372036854775807] ...\n",
      "2021-11-14 20:22:33.655 INFO memory - add: memory entry ['boat', 'AtLocation', 'water', 9223372036854775807] added. Now there are in total of 8 memories!\n",
      "2021-11-14 20:22:33.656 DEBUG memory - clean_memories: finding if duplicate memories exist ...\n",
      "2021-11-14 20:22:33.657 DEBUG memory - clean_memories: There are in total of 8 semantic memories before cleaning\n",
      "2021-11-14 20:22:33.657 DEBUG memory - clean_memories: There are now in total of 8 semantic memories after cleaning\n",
      "2021-11-14 20:22:33.657 DEBUG memory - pretrain_semantic: adding ['bench', 'AtLocation', 'garden', 9223372036854775807] to the semantic memory system ...\n",
      "2021-11-14 20:22:33.658 DEBUG memory - add: Adding a new memory entry ['bench', 'AtLocation', 'garden', 9223372036854775807] ...\n",
      "2021-11-14 20:22:33.658 INFO memory - add: memory entry ['bench', 'AtLocation', 'garden', 9223372036854775807] added. Now there are in total of 9 memories!\n",
      "2021-11-14 20:22:33.658 DEBUG memory - clean_memories: finding if duplicate memories exist ...\n",
      "2021-11-14 20:22:33.659 DEBUG memory - clean_memories: There are in total of 9 semantic memories before cleaning\n",
      "2021-11-14 20:22:33.659 DEBUG memory - clean_memories: There are now in total of 9 semantic memories after cleaning\n",
      "2021-11-14 20:22:33.660 DEBUG memory - pretrain_semantic: adding ['bird', 'AtLocation', 'tree', 9223372036854775807] to the semantic memory system ...\n",
      "2021-11-14 20:22:33.660 DEBUG memory - add: Adding a new memory entry ['bird', 'AtLocation', 'tree', 9223372036854775807] ...\n",
      "2021-11-14 20:22:33.660 INFO memory - add: memory entry ['bird', 'AtLocation', 'tree', 9223372036854775807] added. Now there are in total of 10 memories!\n",
      "2021-11-14 20:22:33.661 DEBUG memory - clean_memories: finding if duplicate memories exist ...\n",
      "2021-11-14 20:22:33.661 DEBUG memory - clean_memories: There are in total of 10 semantic memories before cleaning\n",
      "2021-11-14 20:22:33.662 DEBUG memory - clean_memories: There are now in total of 10 semantic memories after cleaning\n",
      "2021-11-14 20:22:33.662 DEBUG memory - pretrain_semantic: adding ['cat', 'AtLocation', 'lap', 9223372036854775807] to the semantic memory system ...\n",
      "2021-11-14 20:22:33.663 DEBUG memory - add: Adding a new memory entry ['cat', 'AtLocation', 'lap', 9223372036854775807] ...\n",
      "2021-11-14 20:22:33.663 INFO memory - add: memory entry ['cat', 'AtLocation', 'lap', 9223372036854775807] added. Now there are in total of 11 memories!\n",
      "2021-11-14 20:22:33.664 DEBUG memory - clean_memories: finding if duplicate memories exist ...\n",
      "2021-11-14 20:22:33.664 DEBUG memory - clean_memories: There are in total of 11 semantic memories before cleaning\n",
      "2021-11-14 20:22:33.665 DEBUG memory - clean_memories: There are now in total of 11 semantic memories after cleaning\n",
      "2021-11-14 20:22:33.665 DEBUG memory - pretrain_semantic: adding ['dog', 'AtLocation', 'table', 9223372036854775807] to the semantic memory system ...\n",
      "2021-11-14 20:22:33.666 DEBUG memory - add: Adding a new memory entry ['dog', 'AtLocation', 'table', 9223372036854775807] ...\n",
      "2021-11-14 20:22:33.666 INFO memory - add: memory entry ['dog', 'AtLocation', 'table', 9223372036854775807] added. Now there are in total of 12 memories!\n",
      "2021-11-14 20:22:33.666 DEBUG memory - clean_memories: finding if duplicate memories exist ...\n",
      "2021-11-14 20:22:33.667 DEBUG memory - clean_memories: There are in total of 12 semantic memories before cleaning\n",
      "2021-11-14 20:22:33.669 DEBUG memory - clean_memories: There are now in total of 12 semantic memories after cleaning\n",
      "2021-11-14 20:22:33.670 DEBUG memory - pretrain_semantic: adding ['horse', 'AtLocation', 'circus', 9223372036854775807] to the semantic memory system ...\n",
      "2021-11-14 20:22:33.670 DEBUG memory - add: Adding a new memory entry ['horse', 'AtLocation', 'circus', 9223372036854775807] ...\n",
      "2021-11-14 20:22:33.670 INFO memory - add: memory entry ['horse', 'AtLocation', 'circus', 9223372036854775807] added. Now there are in total of 13 memories!\n",
      "2021-11-14 20:22:33.671 DEBUG memory - clean_memories: finding if duplicate memories exist ...\n",
      "2021-11-14 20:22:33.671 DEBUG memory - clean_memories: There are in total of 13 semantic memories before cleaning\n",
      "2021-11-14 20:22:33.671 DEBUG memory - clean_memories: There are now in total of 13 semantic memories after cleaning\n",
      "2021-11-14 20:22:33.672 DEBUG memory - pretrain_semantic: adding ['sheep', 'AtLocation', 'farm', 9223372036854775807] to the semantic memory system ...\n",
      "2021-11-14 20:22:33.672 DEBUG memory - add: Adding a new memory entry ['sheep', 'AtLocation', 'farm', 9223372036854775807] ...\n",
      "2021-11-14 20:22:33.672 INFO memory - add: memory entry ['sheep', 'AtLocation', 'farm', 9223372036854775807] added. Now there are in total of 14 memories!\n",
      "2021-11-14 20:22:33.672 DEBUG memory - clean_memories: finding if duplicate memories exist ...\n",
      "2021-11-14 20:22:33.673 DEBUG memory - clean_memories: There are in total of 14 semantic memories before cleaning\n",
      "2021-11-14 20:22:33.673 DEBUG memory - clean_memories: There are now in total of 14 semantic memories after cleaning\n",
      "2021-11-14 20:22:33.674 DEBUG memory - pretrain_semantic: adding ['cow', 'AtLocation', 'countryside', 9223372036854775807] to the semantic memory system ...\n",
      "2021-11-14 20:22:33.674 DEBUG memory - add: Adding a new memory entry ['cow', 'AtLocation', 'countryside', 9223372036854775807] ...\n",
      "2021-11-14 20:22:33.674 INFO memory - add: memory entry ['cow', 'AtLocation', 'countryside', 9223372036854775807] added. Now there are in total of 15 memories!\n",
      "2021-11-14 20:22:33.674 DEBUG memory - clean_memories: finding if duplicate memories exist ...\n",
      "2021-11-14 20:22:33.675 DEBUG memory - clean_memories: There are in total of 15 semantic memories before cleaning\n",
      "2021-11-14 20:22:33.675 DEBUG memory - clean_memories: There are now in total of 15 semantic memories after cleaning\n",
      "2021-11-14 20:22:33.676 DEBUG memory - pretrain_semantic: adding ['elephant', 'AtLocation', 'circus', 9223372036854775807] to the semantic memory system ...\n",
      "2021-11-14 20:22:33.678 DEBUG memory - add: Adding a new memory entry ['elephant', 'AtLocation', 'circus', 9223372036854775807] ...\n",
      "2021-11-14 20:22:33.678 INFO memory - add: memory entry ['elephant', 'AtLocation', 'circus', 9223372036854775807] added. Now there are in total of 16 memories!\n",
      "2021-11-14 20:22:33.679 DEBUG memory - clean_memories: finding if duplicate memories exist ...\n",
      "2021-11-14 20:22:33.679 DEBUG memory - clean_memories: There are in total of 16 semantic memories before cleaning\n",
      "2021-11-14 20:22:33.680 DEBUG memory - clean_memories: There are now in total of 16 semantic memories after cleaning\n",
      "2021-11-14 20:22:33.680 DEBUG memory - pretrain_semantic: adding ['bear', 'AtLocation', 'park', 9223372036854775807] to the semantic memory system ...\n",
      "2021-11-14 20:22:33.681 DEBUG memory - add: Adding a new memory entry ['bear', 'AtLocation', 'park', 9223372036854775807] ...\n",
      "2021-11-14 20:22:33.681 INFO memory - add: memory entry ['bear', 'AtLocation', 'park', 9223372036854775807] added. Now there are in total of 17 memories!\n",
      "2021-11-14 20:22:33.682 DEBUG memory - clean_memories: finding if duplicate memories exist ...\n",
      "2021-11-14 20:22:33.682 DEBUG memory - clean_memories: There are in total of 17 semantic memories before cleaning\n",
      "2021-11-14 20:22:33.683 DEBUG memory - clean_memories: There are now in total of 17 semantic memories after cleaning\n",
      "2021-11-14 20:22:33.683 DEBUG memory - pretrain_semantic: adding ['umbrella', 'AtLocation', 'closet', 9223372036854775807] to the semantic memory system ...\n",
      "2021-11-14 20:22:33.684 DEBUG memory - add: Adding a new memory entry ['umbrella', 'AtLocation', 'closet', 9223372036854775807] ...\n",
      "2021-11-14 20:22:33.684 INFO memory - add: memory entry ['umbrella', 'AtLocation', 'closet', 9223372036854775807] added. Now there are in total of 18 memories!\n",
      "2021-11-14 20:22:33.685 DEBUG memory - clean_memories: finding if duplicate memories exist ...\n",
      "2021-11-14 20:22:33.685 DEBUG memory - clean_memories: There are in total of 18 semantic memories before cleaning\n",
      "2021-11-14 20:22:33.686 DEBUG memory - clean_memories: There are now in total of 18 semantic memories after cleaning\n",
      "2021-11-14 20:22:33.686 DEBUG memory - pretrain_semantic: adding ['suitcase', 'AtLocation', 'airplane', 9223372036854775807] to the semantic memory system ...\n",
      "2021-11-14 20:22:33.688 DEBUG memory - add: Adding a new memory entry ['suitcase', 'AtLocation', 'airplane', 9223372036854775807] ...\n",
      "2021-11-14 20:22:33.688 INFO memory - add: memory entry ['suitcase', 'AtLocation', 'airplane', 9223372036854775807] added. Now there are in total of 19 memories!\n",
      "2021-11-14 20:22:33.689 DEBUG memory - clean_memories: finding if duplicate memories exist ...\n",
      "2021-11-14 20:22:33.689 DEBUG memory - clean_memories: There are in total of 19 semantic memories before cleaning\n",
      "2021-11-14 20:22:33.690 DEBUG memory - clean_memories: There are now in total of 19 semantic memories after cleaning\n",
      "2021-11-14 20:22:33.690 DEBUG memory - pretrain_semantic: adding ['bottle', 'AtLocation', 'store', 9223372036854775807] to the semantic memory system ...\n",
      "2021-11-14 20:22:33.690 DEBUG memory - add: Adding a new memory entry ['bottle', 'AtLocation', 'store', 9223372036854775807] ...\n",
      "2021-11-14 20:22:33.691 INFO memory - add: memory entry ['bottle', 'AtLocation', 'store', 9223372036854775807] added. Now there are in total of 20 memories!\n",
      "2021-11-14 20:22:33.691 DEBUG memory - clean_memories: finding if duplicate memories exist ...\n",
      "2021-11-14 20:22:33.691 DEBUG memory - clean_memories: There are in total of 20 semantic memories before cleaning\n",
      "2021-11-14 20:22:33.692 DEBUG memory - clean_memories: There are now in total of 20 semantic memories after cleaning\n",
      "2021-11-14 20:22:33.692 DEBUG memory - pretrain_semantic: adding ['cup', 'AtLocation', 'table', 9223372036854775807] to the semantic memory system ...\n",
      "2021-11-14 20:22:33.692 DEBUG memory - add: Adding a new memory entry ['cup', 'AtLocation', 'table', 9223372036854775807] ...\n",
      "2021-11-14 20:22:33.692 INFO memory - add: memory entry ['cup', 'AtLocation', 'table', 9223372036854775807] added. Now there are in total of 21 memories!\n",
      "2021-11-14 20:22:33.693 DEBUG memory - clean_memories: finding if duplicate memories exist ...\n",
      "2021-11-14 20:22:33.693 DEBUG memory - clean_memories: There are in total of 21 semantic memories before cleaning\n",
      "2021-11-14 20:22:33.693 DEBUG memory - clean_memories: There are now in total of 21 semantic memories after cleaning\n",
      "2021-11-14 20:22:33.694 DEBUG memory - pretrain_semantic: adding ['knife', 'AtLocation', 'kitchen', 9223372036854775807] to the semantic memory system ...\n",
      "2021-11-14 20:22:33.694 DEBUG memory - add: Adding a new memory entry ['knife', 'AtLocation', 'kitchen', 9223372036854775807] ...\n",
      "2021-11-14 20:22:33.694 INFO memory - add: memory entry ['knife', 'AtLocation', 'kitchen', 9223372036854775807] added. Now there are in total of 22 memories!\n",
      "2021-11-14 20:22:33.694 DEBUG memory - clean_memories: finding if duplicate memories exist ...\n",
      "2021-11-14 20:22:33.695 DEBUG memory - clean_memories: There are in total of 22 semantic memories before cleaning\n",
      "2021-11-14 20:22:33.695 DEBUG memory - clean_memories: There are now in total of 22 semantic memories after cleaning\n",
      "2021-11-14 20:22:33.695 DEBUG memory - pretrain_semantic: adding ['spoon', 'AtLocation', 'bowl', 9223372036854775807] to the semantic memory system ...\n",
      "2021-11-14 20:22:33.696 DEBUG memory - add: Adding a new memory entry ['spoon', 'AtLocation', 'bowl', 9223372036854775807] ...\n",
      "2021-11-14 20:22:33.696 INFO memory - add: memory entry ['spoon', 'AtLocation', 'bowl', 9223372036854775807] added. Now there are in total of 23 memories!\n",
      "2021-11-14 20:22:33.697 DEBUG memory - clean_memories: finding if duplicate memories exist ...\n",
      "2021-11-14 20:22:33.697 DEBUG memory - clean_memories: There are in total of 23 semantic memories before cleaning\n",
      "2021-11-14 20:22:33.698 DEBUG memory - clean_memories: There are now in total of 23 semantic memories after cleaning\n",
      "2021-11-14 20:22:33.698 DEBUG memory - pretrain_semantic: adding ['bowl', 'AtLocation', 'cupboard', 9223372036854775807] to the semantic memory system ...\n",
      "2021-11-14 20:22:33.699 DEBUG memory - add: Adding a new memory entry ['bowl', 'AtLocation', 'cupboard', 9223372036854775807] ...\n",
      "2021-11-14 20:22:33.699 INFO memory - add: memory entry ['bowl', 'AtLocation', 'cupboard', 9223372036854775807] added. Now there are in total of 24 memories!\n",
      "2021-11-14 20:22:33.700 DEBUG memory - clean_memories: finding if duplicate memories exist ...\n",
      "2021-11-14 20:22:33.700 DEBUG memory - clean_memories: There are in total of 24 semantic memories before cleaning\n",
      "2021-11-14 20:22:33.701 DEBUG memory - clean_memories: There are now in total of 24 semantic memories after cleaning\n",
      "2021-11-14 20:22:33.701 DEBUG memory - pretrain_semantic: adding ['banana', 'AtLocation', 'pantry', 9223372036854775807] to the semantic memory system ...\n",
      "2021-11-14 20:22:33.701 DEBUG memory - add: Adding a new memory entry ['banana', 'AtLocation', 'pantry', 9223372036854775807] ...\n",
      "2021-11-14 20:22:33.702 INFO memory - add: memory entry ['banana', 'AtLocation', 'pantry', 9223372036854775807] added. Now there are in total of 25 memories!\n",
      "2021-11-14 20:22:33.702 DEBUG memory - clean_memories: finding if duplicate memories exist ...\n",
      "2021-11-14 20:22:33.703 DEBUG memory - clean_memories: There are in total of 25 semantic memories before cleaning\n",
      "2021-11-14 20:22:33.703 DEBUG memory - clean_memories: There are now in total of 25 semantic memories after cleaning\n",
      "2021-11-14 20:22:33.704 DEBUG memory - pretrain_semantic: adding ['apple', 'AtLocation', 'refrigerator', 9223372036854775807] to the semantic memory system ...\n",
      "2021-11-14 20:22:33.704 DEBUG memory - add: Adding a new memory entry ['apple', 'AtLocation', 'refrigerator', 9223372036854775807] ...\n",
      "2021-11-14 20:22:33.710 INFO memory - add: memory entry ['apple', 'AtLocation', 'refrigerator', 9223372036854775807] added. Now there are in total of 26 memories!\n",
      "2021-11-14 20:22:33.711 DEBUG memory - clean_memories: finding if duplicate memories exist ...\n",
      "2021-11-14 20:22:33.711 DEBUG memory - clean_memories: There are in total of 26 semantic memories before cleaning\n",
      "2021-11-14 20:22:33.712 DEBUG memory - clean_memories: There are now in total of 26 semantic memories after cleaning\n",
      "2021-11-14 20:22:33.712 DEBUG memory - pretrain_semantic: adding ['sandwich', 'AtLocation', 'plate', 9223372036854775807] to the semantic memory system ...\n",
      "2021-11-14 20:22:33.713 DEBUG memory - add: Adding a new memory entry ['sandwich', 'AtLocation', 'plate', 9223372036854775807] ...\n",
      "2021-11-14 20:22:33.713 INFO memory - add: memory entry ['sandwich', 'AtLocation', 'plate', 9223372036854775807] added. Now there are in total of 27 memories!\n",
      "2021-11-14 20:22:33.714 DEBUG memory - clean_memories: finding if duplicate memories exist ...\n",
      "2021-11-14 20:22:33.714 DEBUG memory - clean_memories: There are in total of 27 semantic memories before cleaning\n",
      "2021-11-14 20:22:33.714 DEBUG memory - clean_memories: There are now in total of 27 semantic memories after cleaning\n",
      "2021-11-14 20:22:33.715 DEBUG memory - pretrain_semantic: adding ['broccoli', 'AtLocation', 'plate', 9223372036854775807] to the semantic memory system ...\n",
      "2021-11-14 20:22:33.715 DEBUG memory - add: Adding a new memory entry ['broccoli', 'AtLocation', 'plate', 9223372036854775807] ...\n",
      "2021-11-14 20:22:33.716 INFO memory - add: memory entry ['broccoli', 'AtLocation', 'plate', 9223372036854775807] added. Now there are in total of 28 memories!\n",
      "2021-11-14 20:22:33.717 DEBUG memory - clean_memories: finding if duplicate memories exist ...\n",
      "2021-11-14 20:22:33.718 DEBUG memory - clean_memories: There are in total of 28 semantic memories before cleaning\n",
      "2021-11-14 20:22:33.718 DEBUG memory - clean_memories: There are now in total of 28 semantic memories after cleaning\n",
      "2021-11-14 20:22:33.718 DEBUG memory - pretrain_semantic: adding ['pizza', 'AtLocation', 'oven', 9223372036854775807] to the semantic memory system ...\n",
      "2021-11-14 20:22:33.719 DEBUG memory - add: Adding a new memory entry ['pizza', 'AtLocation', 'oven', 9223372036854775807] ...\n",
      "2021-11-14 20:22:33.719 INFO memory - add: memory entry ['pizza', 'AtLocation', 'oven', 9223372036854775807] added. Now there are in total of 29 memories!\n",
      "2021-11-14 20:22:33.719 DEBUG memory - clean_memories: finding if duplicate memories exist ...\n",
      "2021-11-14 20:22:33.719 DEBUG memory - clean_memories: There are in total of 29 semantic memories before cleaning\n",
      "2021-11-14 20:22:33.720 DEBUG memory - clean_memories: There are now in total of 29 semantic memories after cleaning\n",
      "2021-11-14 20:22:33.720 DEBUG memory - pretrain_semantic: adding ['cake', 'AtLocation', 'bakery', 9223372036854775807] to the semantic memory system ...\n",
      "2021-11-14 20:22:33.721 DEBUG memory - add: Adding a new memory entry ['cake', 'AtLocation', 'bakery', 9223372036854775807] ...\n",
      "2021-11-14 20:22:33.721 INFO memory - add: memory entry ['cake', 'AtLocation', 'bakery', 9223372036854775807] added. Now there are in total of 30 memories!\n",
      "2021-11-14 20:22:33.721 DEBUG memory - clean_memories: finding if duplicate memories exist ...\n",
      "2021-11-14 20:22:33.722 DEBUG memory - clean_memories: There are in total of 30 semantic memories before cleaning\n",
      "2021-11-14 20:22:33.722 DEBUG memory - clean_memories: There are now in total of 30 semantic memories after cleaning\n",
      "2021-11-14 20:22:33.722 DEBUG memory - pretrain_semantic: adding ['chair', 'AtLocation', 'office', 9223372036854775807] to the semantic memory system ...\n",
      "2021-11-14 20:22:33.723 DEBUG memory - add: Adding a new memory entry ['chair', 'AtLocation', 'office', 9223372036854775807] ...\n",
      "2021-11-14 20:22:33.723 INFO memory - add: memory entry ['chair', 'AtLocation', 'office', 9223372036854775807] added. Now there are in total of 31 memories!\n",
      "2021-11-14 20:22:33.727 DEBUG memory - clean_memories: finding if duplicate memories exist ...\n",
      "2021-11-14 20:22:33.727 DEBUG memory - clean_memories: There are in total of 31 semantic memories before cleaning\n",
      "2021-11-14 20:22:33.727 DEBUG memory - clean_memories: There are now in total of 31 semantic memories after cleaning\n",
      "2021-11-14 20:22:33.728 DEBUG memory - pretrain_semantic: adding ['couch', 'AtLocation', 'house', 9223372036854775807] to the semantic memory system ...\n",
      "2021-11-14 20:22:33.729 DEBUG memory - add: Adding a new memory entry ['couch', 'AtLocation', 'house', 9223372036854775807] ...\n",
      "2021-11-14 20:22:33.729 INFO memory - add: memory entry ['couch', 'AtLocation', 'house', 9223372036854775807] added. Now there are in total of 32 memories!\n",
      "2021-11-14 20:22:33.730 DEBUG memory - clean_memories: finding if duplicate memories exist ...\n",
      "2021-11-14 20:22:33.731 DEBUG memory - clean_memories: There are in total of 32 semantic memories before cleaning\n",
      "2021-11-14 20:22:33.733 DEBUG memory - clean_memories: There are now in total of 32 semantic memories after cleaning\n",
      "2021-11-14 20:22:33.733 DEBUG memory - pretrain_semantic: adding ['bed', 'AtLocation', 'house', 9223372036854775807] to the semantic memory system ...\n",
      "2021-11-14 20:22:33.734 DEBUG memory - add: Adding a new memory entry ['bed', 'AtLocation', 'house', 9223372036854775807] ...\n",
      "2021-11-14 20:22:33.734 INFO memory - add: memory entry ['bed', 'AtLocation', 'house', 9223372036854775807] added. Now there are in total of 33 memories!\n",
      "2021-11-14 20:22:33.735 DEBUG memory - clean_memories: finding if duplicate memories exist ...\n",
      "2021-11-14 20:22:33.736 DEBUG memory - clean_memories: There are in total of 33 semantic memories before cleaning\n",
      "2021-11-14 20:22:33.736 DEBUG memory - clean_memories: There are now in total of 33 semantic memories after cleaning\n",
      "2021-11-14 20:22:33.737 DEBUG memory - pretrain_semantic: adding ['toilet', 'AtLocation', 'bathroom', 9223372036854775807] to the semantic memory system ...\n",
      "2021-11-14 20:22:33.737 DEBUG memory - add: Adding a new memory entry ['toilet', 'AtLocation', 'bathroom', 9223372036854775807] ...\n",
      "2021-11-14 20:22:33.738 INFO memory - add: memory entry ['toilet', 'AtLocation', 'bathroom', 9223372036854775807] added. Now there are in total of 34 memories!\n",
      "2021-11-14 20:22:33.739 DEBUG memory - clean_memories: finding if duplicate memories exist ...\n",
      "2021-11-14 20:22:33.740 DEBUG memory - clean_memories: There are in total of 34 semantic memories before cleaning\n",
      "2021-11-14 20:22:33.740 DEBUG memory - clean_memories: There are now in total of 34 semantic memories after cleaning\n",
      "2021-11-14 20:22:33.741 DEBUG memory - pretrain_semantic: adding ['laptop', 'AtLocation', 'desk', 9223372036854775807] to the semantic memory system ...\n",
      "2021-11-14 20:22:33.741 DEBUG memory - add: Adding a new memory entry ['laptop', 'AtLocation', 'desk', 9223372036854775807] ...\n",
      "2021-11-14 20:22:33.742 INFO memory - add: memory entry ['laptop', 'AtLocation', 'desk', 9223372036854775807] added. Now there are in total of 35 memories!\n",
      "2021-11-14 20:22:33.742 DEBUG memory - clean_memories: finding if duplicate memories exist ...\n",
      "2021-11-14 20:22:33.743 DEBUG memory - clean_memories: There are in total of 35 semantic memories before cleaning\n",
      "2021-11-14 20:22:33.743 DEBUG memory - clean_memories: There are now in total of 35 semantic memories after cleaning\n",
      "2021-11-14 20:22:33.747 DEBUG memory - pretrain_semantic: adding ['mouse', 'AtLocation', 'garage', 9223372036854775807] to the semantic memory system ...\n",
      "2021-11-14 20:22:33.747 DEBUG memory - add: Adding a new memory entry ['mouse', 'AtLocation', 'garage', 9223372036854775807] ...\n",
      "2021-11-14 20:22:33.748 INFO memory - add: memory entry ['mouse', 'AtLocation', 'garage', 9223372036854775807] added. Now there are in total of 36 memories!\n",
      "2021-11-14 20:22:33.749 DEBUG memory - clean_memories: finding if duplicate memories exist ...\n",
      "2021-11-14 20:22:33.749 DEBUG memory - clean_memories: There are in total of 36 semantic memories before cleaning\n",
      "2021-11-14 20:22:33.750 DEBUG memory - clean_memories: There are now in total of 36 semantic memories after cleaning\n",
      "2021-11-14 20:22:33.750 DEBUG memory - pretrain_semantic: adding ['keyboard', 'AtLocation', 'desk', 9223372036854775807] to the semantic memory system ...\n",
      "2021-11-14 20:22:33.751 DEBUG memory - add: Adding a new memory entry ['keyboard', 'AtLocation', 'desk', 9223372036854775807] ...\n",
      "2021-11-14 20:22:33.751 INFO memory - add: memory entry ['keyboard', 'AtLocation', 'desk', 9223372036854775807] added. Now there are in total of 37 memories!\n",
      "2021-11-14 20:22:33.752 DEBUG memory - clean_memories: finding if duplicate memories exist ...\n",
      "2021-11-14 20:22:33.753 DEBUG memory - clean_memories: There are in total of 37 semantic memories before cleaning\n",
      "2021-11-14 20:22:33.753 DEBUG memory - clean_memories: There are now in total of 37 semantic memories after cleaning\n",
      "2021-11-14 20:22:33.754 DEBUG memory - pretrain_semantic: adding ['microwave', 'AtLocation', 'apartment', 9223372036854775807] to the semantic memory system ...\n",
      "2021-11-14 20:22:33.754 DEBUG memory - add: Adding a new memory entry ['microwave', 'AtLocation', 'apartment', 9223372036854775807] ...\n",
      "2021-11-14 20:22:33.755 INFO memory - add: memory entry ['microwave', 'AtLocation', 'apartment', 9223372036854775807] added. Now there are in total of 38 memories!\n",
      "2021-11-14 20:22:33.755 DEBUG memory - clean_memories: finding if duplicate memories exist ...\n",
      "2021-11-14 20:22:33.756 DEBUG memory - clean_memories: There are in total of 38 semantic memories before cleaning\n",
      "2021-11-14 20:22:33.756 DEBUG memory - clean_memories: There are now in total of 38 semantic memories after cleaning\n",
      "2021-11-14 20:22:33.757 DEBUG memory - pretrain_semantic: adding ['oven', 'AtLocation', 'home', 9223372036854775807] to the semantic memory system ...\n",
      "2021-11-14 20:22:33.757 DEBUG memory - add: Adding a new memory entry ['oven', 'AtLocation', 'home', 9223372036854775807] ...\n",
      "2021-11-14 20:22:33.758 INFO memory - add: memory entry ['oven', 'AtLocation', 'home', 9223372036854775807] added. Now there are in total of 39 memories!\n",
      "2021-11-14 20:22:33.758 DEBUG memory - clean_memories: finding if duplicate memories exist ...\n",
      "2021-11-14 20:22:33.759 DEBUG memory - clean_memories: There are in total of 39 semantic memories before cleaning\n",
      "2021-11-14 20:22:33.759 DEBUG memory - clean_memories: There are now in total of 39 semantic memories after cleaning\n",
      "2021-11-14 20:22:33.760 DEBUG memory - pretrain_semantic: adding ['sink', 'AtLocation', 'kitchen', 9223372036854775807] to the semantic memory system ...\n",
      "2021-11-14 20:22:33.760 DEBUG memory - add: Adding a new memory entry ['sink', 'AtLocation', 'kitchen', 9223372036854775807] ...\n",
      "2021-11-14 20:22:33.761 INFO memory - add: memory entry ['sink', 'AtLocation', 'kitchen', 9223372036854775807] added. Now there are in total of 40 memories!\n",
      "2021-11-14 20:22:33.761 DEBUG memory - clean_memories: finding if duplicate memories exist ...\n",
      "2021-11-14 20:22:33.762 DEBUG memory - clean_memories: There are in total of 40 semantic memories before cleaning\n",
      "2021-11-14 20:22:33.763 DEBUG memory - clean_memories: There are now in total of 40 semantic memories after cleaning\n",
      "2021-11-14 20:22:33.763 DEBUG memory - pretrain_semantic: adding ['refrigerator', 'AtLocation', 'garage', 9223372036854775807] to the semantic memory system ...\n",
      "2021-11-14 20:22:33.764 DEBUG memory - add: Adding a new memory entry ['refrigerator', 'AtLocation', 'garage', 9223372036854775807] ...\n",
      "2021-11-14 20:22:33.764 INFO memory - add: memory entry ['refrigerator', 'AtLocation', 'garage', 9223372036854775807] added. Now there are in total of 41 memories!\n",
      "2021-11-14 20:22:33.765 DEBUG memory - clean_memories: finding if duplicate memories exist ...\n",
      "2021-11-14 20:22:33.765 DEBUG memory - clean_memories: There are in total of 41 semantic memories before cleaning\n",
      "2021-11-14 20:22:33.766 DEBUG memory - clean_memories: There are now in total of 41 semantic memories after cleaning\n",
      "2021-11-14 20:22:33.766 DEBUG memory - pretrain_semantic: adding ['book', 'AtLocation', 'classroom', 9223372036854775807] to the semantic memory system ...\n",
      "2021-11-14 20:22:33.767 DEBUG memory - add: Adding a new memory entry ['book', 'AtLocation', 'classroom', 9223372036854775807] ...\n",
      "2021-11-14 20:22:33.767 INFO memory - add: memory entry ['book', 'AtLocation', 'classroom', 9223372036854775807] added. Now there are in total of 42 memories!\n",
      "2021-11-14 20:22:33.767 DEBUG memory - clean_memories: finding if duplicate memories exist ...\n",
      "2021-11-14 20:22:33.768 DEBUG memory - clean_memories: There are in total of 42 semantic memories before cleaning\n",
      "2021-11-14 20:22:33.768 DEBUG memory - clean_memories: There are now in total of 42 semantic memories after cleaning\n",
      "2021-11-14 20:22:33.769 DEBUG memory - pretrain_semantic: adding ['clock', 'AtLocation', 'desk', 9223372036854775807] to the semantic memory system ...\n",
      "2021-11-14 20:22:33.769 DEBUG memory - add: Adding a new memory entry ['clock', 'AtLocation', 'desk', 9223372036854775807] ...\n",
      "2021-11-14 20:22:33.770 INFO memory - add: memory entry ['clock', 'AtLocation', 'desk', 9223372036854775807] added. Now there are in total of 43 memories!\n",
      "2021-11-14 20:22:33.770 DEBUG memory - clean_memories: finding if duplicate memories exist ...\n",
      "2021-11-14 20:22:33.770 DEBUG memory - clean_memories: There are in total of 43 semantic memories before cleaning\n",
      "2021-11-14 20:22:33.771 DEBUG memory - clean_memories: There are now in total of 43 semantic memories after cleaning\n",
      "2021-11-14 20:22:33.772 DEBUG memory - pretrain_semantic: adding ['vase', 'AtLocation', 'table', 9223372036854775807] to the semantic memory system ...\n",
      "2021-11-14 20:22:33.772 DEBUG memory - add: Adding a new memory entry ['vase', 'AtLocation', 'table', 9223372036854775807] ...\n",
      "2021-11-14 20:22:33.772 INFO memory - add: memory entry ['vase', 'AtLocation', 'table', 9223372036854775807] added. Now there are in total of 44 memories!\n",
      "2021-11-14 20:22:33.773 DEBUG memory - clean_memories: finding if duplicate memories exist ...\n",
      "2021-11-14 20:22:33.773 DEBUG memory - clean_memories: There are in total of 44 semantic memories before cleaning\n",
      "2021-11-14 20:22:33.777 DEBUG memory - clean_memories: There are now in total of 44 semantic memories after cleaning\n",
      "2021-11-14 20:22:33.777 DEBUG memory - pretrain_semantic: adding ['scissors', 'AtLocation', 'desk', 9223372036854775807] to the semantic memory system ...\n",
      "2021-11-14 20:22:33.777 DEBUG memory - add: Adding a new memory entry ['scissors', 'AtLocation', 'desk', 9223372036854775807] ...\n",
      "2021-11-14 20:22:33.778 INFO memory - add: memory entry ['scissors', 'AtLocation', 'desk', 9223372036854775807] added. Now there are in total of 45 memories!\n",
      "2021-11-14 20:22:33.778 DEBUG memory - clean_memories: finding if duplicate memories exist ...\n",
      "2021-11-14 20:22:33.779 DEBUG memory - clean_memories: There are in total of 45 semantic memories before cleaning\n",
      "2021-11-14 20:22:33.779 DEBUG memory - clean_memories: There are now in total of 45 semantic memories after cleaning\n",
      "2021-11-14 20:22:33.780 DEBUG memory - pretrain_semantic: adding ['toothbrush', 'AtLocation', 'suitcase', 9223372036854775807] to the semantic memory system ...\n",
      "2021-11-14 20:22:33.780 DEBUG memory - add: Adding a new memory entry ['toothbrush', 'AtLocation', 'suitcase', 9223372036854775807] ...\n",
      "2021-11-14 20:22:33.780 INFO memory - add: memory entry ['toothbrush', 'AtLocation', 'suitcase', 9223372036854775807] added. Now there are in total of 46 memories!\n",
      "2021-11-14 20:22:33.781 DEBUG memory - clean_memories: finding if duplicate memories exist ...\n",
      "2021-11-14 20:22:33.781 DEBUG memory - clean_memories: There are in total of 46 semantic memories before cleaning\n",
      "2021-11-14 20:22:33.782 DEBUG memory - clean_memories: There are now in total of 46 semantic memories after cleaning\n",
      "2021-11-14 20:22:33.782 DEBUG memory - decrease_capacity: Decreasing the memory capacity by 54 ...\n",
      "2021-11-14 20:22:33.782 INFO memory - decrease_capacity: The memory capacity has been decreased by 54 and now it's 46!\n",
      "2021-11-14 20:22:33.783 INFO memory - pretrain_semantic: The semantic memory system is frozen!\n",
      "2021-11-14 20:22:33.783 INFO memory - pretrain_semantic: The semantic memory is pretrained and frozen. The remaining space 54 will be returned. Now the capacity of the semantic memory system is 46\n"
     ]
    },
    {
     "data": {
      "text/plain": [
       "54"
      ]
     },
     "execution_count": 6,
     "metadata": {},
     "output_type": "execute_result"
    }
   ],
   "source": [
    "M_s.pretrain_semantic('./data/semantic-knowledge.json')"
   ]
  },
  {
   "cell_type": "code",
   "execution_count": 7,
   "metadata": {},
   "outputs": [
    {
     "data": {
      "text/plain": [
       "46"
      ]
     },
     "execution_count": 7,
     "metadata": {},
     "output_type": "execute_result"
    }
   ],
   "source": [
    "M_s.capacity"
   ]
  },
  {
   "cell_type": "code",
   "execution_count": 8,
   "metadata": {},
   "outputs": [
    {
     "name": "stderr",
     "output_type": "stream",
     "text": [
      "2021-11-14 20:22:35.798 DEBUG memory - increase_capacity: Increasing the memory capacity by 54 ...\n",
      "2021-11-14 20:22:35.799 INFO memory - increase_capacity: The memory capacity has been increased by 54 and now it's 59!\n"
     ]
    }
   ],
   "source": [
    "M_e.increase_capacity(54)"
   ]
  },
  {
   "cell_type": "code",
   "execution_count": 9,
   "metadata": {},
   "outputs": [],
   "source": [
    "M_s.unfreeze()"
   ]
  },
  {
   "cell_type": "code",
   "execution_count": 10,
   "metadata": {},
   "outputs": [
    {
     "name": "stderr",
     "output_type": "stream",
     "text": [
      "2021-11-14 20:22:38.815 DEBUG memory - forget_weakest: forgetting the weakest memory ...\n",
      "2021-11-14 20:22:38.819 DEBUG memory - get_weakest_memory: No entries were specified. We'll use the memory system.\n",
      "2021-11-14 20:22:38.821 INFO memory - get_weakest_memory: ['clock', 'AtLocation', 'desk', 9223372036854775807] is the weakest memory in the entries.\n",
      "2021-11-14 20:22:38.822 DEBUG memory - forget: Forgetting ['clock', 'AtLocation', 'desk', 9223372036854775807] ...\n",
      "2021-11-14 20:22:38.824 INFO memory - forget: ['clock', 'AtLocation', 'desk', 9223372036854775807] forgotten!\n",
      "2021-11-14 20:22:38.826 INFO memory - forget_weakest: ['clock', 'AtLocation', 'desk', 9223372036854775807] is forgotten!\n"
     ]
    },
    {
     "data": {
      "text/plain": [
       "(45, 46)"
      ]
     },
     "execution_count": 10,
     "metadata": {},
     "output_type": "execute_result"
    }
   ],
   "source": [
    "M_s.forget_weakest()\n",
    "M_s.size, M_s.capacity"
   ]
  },
  {
   "cell_type": "code",
   "execution_count": 11,
   "metadata": {},
   "outputs": [
    {
     "name": "stderr",
     "output_type": "stream",
     "text": [
      "2021-11-14 20:22:39.630 DEBUG memory - add: Adding a new memory entry ['Laptop', 'AtLocation', 'bar', 1] ...\n",
      "2021-11-14 20:22:39.632 INFO memory - add: memory entry ['Laptop', 'AtLocation', 'bar', 1] added. Now there are in total of 46 memories!\n",
      "2021-11-14 20:22:39.633 DEBUG memory - clean_memories: finding if duplicate memories exist ...\n",
      "2021-11-14 20:22:39.634 DEBUG memory - clean_memories: There are in total of 46 semantic memories before cleaning\n",
      "2021-11-14 20:22:39.635 DEBUG memory - clean_memories: There are now in total of 46 semantic memories after cleaning\n"
     ]
    }
   ],
   "source": [
    "M_s.add([\"Laptop\",\"AtLocation\",\"bar\", 1])"
   ]
  },
  {
   "cell_type": "code",
   "execution_count": 12,
   "metadata": {},
   "outputs": [
    {
     "name": "stderr",
     "output_type": "stream",
     "text": [
      "2021-11-14 20:22:40.034 DEBUG memory - add: Adding a new memory entry ['Laptop', 'AtLocation', 'bar', 1] ...\n",
      "2021-11-14 20:22:40.037 INFO memory - add: memory entry ['Laptop', 'AtLocation', 'bar', 1] added. Now there are in total of 47 memories!\n",
      "2021-11-14 20:22:40.042 DEBUG memory - clean_memories: finding if duplicate memories exist ...\n",
      "2021-11-14 20:22:40.044 DEBUG memory - clean_memories: There are in total of 47 semantic memories before cleaning\n",
      "2021-11-14 20:22:40.046 DEBUG memory - clean_memories: There are now in total of 46 semantic memories after cleaning\n",
      "2021-11-14 20:22:40.049 DEBUG memory - add: Adding a new memory entry ['Laptop', 'AtLocation', 'club', 1] ...\n",
      "2021-11-14 20:22:40.051 INFO memory - add: memory entry ['Laptop', 'AtLocation', 'club', 1] added. Now there are in total of 47 memories!\n",
      "2021-11-14 20:22:40.053 DEBUG memory - clean_memories: finding if duplicate memories exist ...\n",
      "2021-11-14 20:22:40.061 DEBUG memory - clean_memories: There are in total of 47 semantic memories before cleaning\n",
      "2021-11-14 20:22:40.063 DEBUG memory - clean_memories: There are now in total of 47 semantic memories after cleaning\n"
     ]
    }
   ],
   "source": [
    "M_s.add([\"Laptop\",\"AtLocation\",\"bar\", 1])\n",
    "M_s.add([\"Laptop\",\"AtLocation\",\"club\", 1])"
   ]
  },
  {
   "cell_type": "code",
   "execution_count": 13,
   "metadata": {},
   "outputs": [
    {
     "name": "stderr",
     "output_type": "stream",
     "text": [
      "2021-11-14 20:22:41.247 DEBUG memory - get_duplicate_heads: No entries were specified. We'll use the memory system.\n",
      "2021-11-14 20:22:41.249 DEBUG memory - get_duplicate_heads: finding if duplicate heads exist ...\n",
      "2021-11-14 20:22:41.250 INFO memory - get_duplicate_heads: ['Laptop', 'AtLocation', 'club', 1] has the same head Laptop !!!\n",
      "2021-11-14 20:22:41.252 INFO memory - get_duplicate_heads: ['Laptop', 'AtLocation', 'bar', 2] has the same head Laptop !!!\n",
      "2021-11-14 20:22:41.253 INFO memory - get_duplicate_heads: 2 duplicates were found!\n"
     ]
    },
    {
     "data": {
      "text/plain": [
       "[['Laptop', 'AtLocation', 'club', 1], ['Laptop', 'AtLocation', 'bar', 2]]"
      ]
     },
     "execution_count": 13,
     "metadata": {},
     "output_type": "execute_result"
    }
   ],
   "source": [
    "M_s.get_duplicate_heads(\"Laptop\")"
   ]
  },
  {
   "cell_type": "code",
   "execution_count": 17,
   "metadata": {},
   "outputs": [
    {
     "data": {
      "text/plain": [
       "[[\"Tae's laptop!!!\", 'AtLocation', \"Tae's desk\", 12],\n",
       " [\"Tae's laptop\", 'AtLocation', \"Tae's desk\", 7],\n",
       " [\"Tae's laptop\", 'AtLocation', \"Tae's desk\", 10],\n",
       " [\"Tae's laptop!!!\", 'AtLocation', \"Tae's desk\", 12],\n",
       " [\"Tae's laptop\", 'AtLocation', \"Tae's desk\", 10],\n",
       " [\"Tae's bullshit\", 'AtLocation', \"Tae's desk\", 5]]"
      ]
     },
     "execution_count": 17,
     "metadata": {},
     "output_type": "execute_result"
    }
   ],
   "source": [
    "M_e.entries"
   ]
  },
  {
   "cell_type": "code",
   "execution_count": 23,
   "metadata": {},
   "outputs": [
    {
     "data": {
      "text/plain": [
       "[['bicycle', 'AtLocation', 'garage', 9223372036854775807],\n",
       " ['bowl', 'AtLocation', 'cupboard', 9223372036854775807],\n",
       " ['bottle', 'AtLocation', 'store', 9223372036854775807],\n",
       " ['bed', 'AtLocation', 'house', 9223372036854775807],\n",
       " ['vase', 'AtLocation', 'table', 9223372036854775807],\n",
       " ['toothbrush', 'AtLocation', 'suitcase', 9223372036854775807],\n",
       " ['bench', 'AtLocation', 'garden', 9223372036854775807],\n",
       " ['sheep', 'AtLocation', 'farm', 9223372036854775807],\n",
       " ['bird', 'AtLocation', 'tree', 9223372036854775807],\n",
       " ['broccoli', 'AtLocation', 'plate', 9223372036854775807],\n",
       " ['couch', 'AtLocation', 'house', 9223372036854775807],\n",
       " ['sink', 'AtLocation', 'kitchen', 9223372036854775807],\n",
       " ['motorcycle', 'AtLocation', 'garage', 9223372036854775807],\n",
       " ['person', 'AtLocation', 'building', 9223372036854775807],\n",
       " ['microwave', 'AtLocation', 'apartment', 9223372036854775807],\n",
       " ['truck', 'AtLocation', 'garage', 9223372036854775807],\n",
       " ['cow', 'AtLocation', 'countryside', 9223372036854775807],\n",
       " ['umbrella', 'AtLocation', 'closet', 9223372036854775807],\n",
       " ['cup', 'AtLocation', 'table', 9223372036854775807],\n",
       " ['sandwich', 'AtLocation', 'plate', 9223372036854775807],\n",
       " ['oven', 'AtLocation', 'home', 9223372036854775807],\n",
       " ['banana', 'AtLocation', 'pantry', 9223372036854775807],\n",
       " ['refrigerator', 'AtLocation', 'garage', 9223372036854775807],\n",
       " ['bus', 'AtLocation', 'city', 9223372036854775807],\n",
       " ['knife', 'AtLocation', 'kitchen', 9223372036854775807],\n",
       " ['cake', 'AtLocation', 'bakery', 9223372036854775807],\n",
       " ['suitcase', 'AtLocation', 'airplane', 9223372036854775807],\n",
       " ['pizza', 'AtLocation', 'oven', 9223372036854775807],\n",
       " ['Laptop', 'AtLocation', 'club', 1],\n",
       " ['elephant', 'AtLocation', 'circus', 9223372036854775807],\n",
       " ['keyboard', 'AtLocation', 'desk', 9223372036854775807],\n",
       " ['toilet', 'AtLocation', 'bathroom', 9223372036854775807],\n",
       " ['car', 'AtLocation', 'city', 9223372036854775807],\n",
       " ['boat', 'AtLocation', 'water', 9223372036854775807],\n",
       " ['spoon', 'AtLocation', 'bowl', 9223372036854775807],\n",
       " ['dog', 'AtLocation', 'table', 9223372036854775807],\n",
       " ['scissors', 'AtLocation', 'desk', 9223372036854775807],\n",
       " ['cat', 'AtLocation', 'lap', 9223372036854775807],\n",
       " ['Laptop', 'AtLocation', 'bar', 2],\n",
       " ['laptop', 'AtLocation', 'desk', 9223372036854775807],\n",
       " ['apple', 'AtLocation', 'refrigerator', 9223372036854775807],\n",
       " ['bear', 'AtLocation', 'park', 9223372036854775807],\n",
       " ['mouse', 'AtLocation', 'garage', 9223372036854775807],\n",
       " ['book', 'AtLocation', 'classroom', 9223372036854775807],\n",
       " ['horse', 'AtLocation', 'circus', 9223372036854775807],\n",
       " ['chair', 'AtLocation', 'office', 9223372036854775807],\n",
       " ['airplane', 'AtLocation', 'sky', 9223372036854775807]]"
      ]
     },
     "execution_count": 23,
     "metadata": {},
     "output_type": "execute_result"
    }
   ],
   "source": [
    "M_s.entries"
   ]
  },
  {
   "cell_type": "code",
   "execution_count": 25,
   "metadata": {},
   "outputs": [
    {
     "name": "stderr",
     "output_type": "stream",
     "text": [
      "2021-11-14 20:23:41.595 DEBUG memory - is_answerable: Check if a relevant memory is in the system to answer the given question: ['bear baewr', 'AtLocation', 'fuck you'] ...\n"
     ]
    },
    {
     "ename": "AssertionError",
     "evalue": "",
     "output_type": "error",
     "traceback": [
      "\u001b[0;31m---------------------------------------------------------------------------\u001b[0m",
      "\u001b[0;31mAssertionError\u001b[0m                            Traceback (most recent call last)",
      "\u001b[0;32m/tmp/ipykernel_1078938/1255883282.py\u001b[0m in \u001b[0;36m<module>\u001b[0;34m\u001b[0m\n\u001b[0;32m----> 1\u001b[0;31m \u001b[0mM_s\u001b[0m\u001b[0;34m.\u001b[0m\u001b[0mis_answerable\u001b[0m\u001b[0;34m(\u001b[0m\u001b[0;34m[\u001b[0m\u001b[0;34m\"bear baewr\"\u001b[0m\u001b[0;34m,\u001b[0m \u001b[0;34m\"AtLocation\"\u001b[0m\u001b[0;34m,\u001b[0m \u001b[0;34m\"fuck you\"\u001b[0m\u001b[0;34m]\u001b[0m\u001b[0;34m)\u001b[0m\u001b[0;34m\u001b[0m\u001b[0;34m\u001b[0m\u001b[0m\n\u001b[0m",
      "\u001b[0;32m~/repos/explicit-memory/memory.py\u001b[0m in \u001b[0;36mis_answerable\u001b[0;34m(self, question)\u001b[0m\n\u001b[1;32m     61\u001b[0m         \u001b[0;32mfor\u001b[0m \u001b[0mmem\u001b[0m \u001b[0;32min\u001b[0m \u001b[0mself\u001b[0m\u001b[0;34m.\u001b[0m\u001b[0mentries\u001b[0m\u001b[0;34m:\u001b[0m\u001b[0;34m\u001b[0m\u001b[0;34m\u001b[0m\u001b[0m\n\u001b[1;32m     62\u001b[0m             \u001b[0mhead\u001b[0m \u001b[0;34m=\u001b[0m \u001b[0mmem\u001b[0m\u001b[0;34m[\u001b[0m\u001b[0;36m0\u001b[0m\u001b[0;34m]\u001b[0m\u001b[0;34m\u001b[0m\u001b[0;34m\u001b[0m\u001b[0m\n\u001b[0;32m---> 63\u001b[0;31m             \u001b[0;32massert\u001b[0m \u001b[0mlen\u001b[0m\u001b[0;34m(\u001b[0m\u001b[0mquestion_head\u001b[0m\u001b[0;34m.\u001b[0m\u001b[0msplit\u001b[0m\u001b[0;34m(\u001b[0m\u001b[0;34m)\u001b[0m\u001b[0;34m)\u001b[0m \u001b[0;34m==\u001b[0m \u001b[0mlen\u001b[0m\u001b[0;34m(\u001b[0m\u001b[0mhead\u001b[0m\u001b[0;34m.\u001b[0m\u001b[0msplit\u001b[0m\u001b[0;34m(\u001b[0m\u001b[0;34m)\u001b[0m\u001b[0;34m)\u001b[0m\u001b[0;34m\u001b[0m\u001b[0;34m\u001b[0m\u001b[0m\n\u001b[0m\u001b[1;32m     64\u001b[0m             \u001b[0mrelation\u001b[0m \u001b[0;34m=\u001b[0m \u001b[0mmem\u001b[0m\u001b[0;34m[\u001b[0m\u001b[0;36m1\u001b[0m\u001b[0;34m]\u001b[0m\u001b[0;34m\u001b[0m\u001b[0;34m\u001b[0m\u001b[0m\n\u001b[1;32m     65\u001b[0m \u001b[0;34m\u001b[0m\u001b[0m\n",
      "\u001b[0;31mAssertionError\u001b[0m: "
     ]
    }
   ],
   "source": [
    "M_s.is_answerable([\"bear baewr\", \"AtLocation\", \"fuck you\"])"
   ]
  }
 ],
 "metadata": {
  "interpreter": {
   "hash": "7808f786822013b9d5984aa54e12ef6bec326a79c76c0a75cd22ab652610adbd"
  },
  "kernelspec": {
   "display_name": "Python 3.7.12 64-bit ('explicit-memory': virtualenv)",
   "name": "python3"
  },
  "language_info": {
   "codemirror_mode": {
    "name": "ipython",
    "version": 3
   },
   "file_extension": ".py",
   "mimetype": "text/x-python",
   "name": "python",
   "nbconvert_exporter": "python",
   "pygments_lexer": "ipython3",
   "version": "3.7.12"
  },
  "orig_nbformat": 4
 },
 "nbformat": 4,
 "nbformat_minor": 2
}
