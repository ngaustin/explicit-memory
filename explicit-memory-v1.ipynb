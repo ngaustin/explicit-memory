{
 "cells": [
  {
   "cell_type": "code",
   "execution_count": 1,
   "metadata": {},
   "outputs": [
    {
     "name": "stderr",
     "output_type": "stream",
     "text": [
      "/home/tk/.virtualenvs/dev-python3.8/lib/python3.8/site-packages/gym/utils/passive_env_checker.py:174: UserWarning: \u001b[33mWARN: Future gym versions will require that `Env.reset` can be passed a `seed` instead of using `Env.seed` for resetting the environment random number generator.\u001b[0m\n",
      "  logger.warn(\n",
      "/home/tk/.virtualenvs/dev-python3.8/lib/python3.8/site-packages/gym/utils/passive_env_checker.py:187: UserWarning: \u001b[33mWARN: Future gym versions will require that `Env.reset` can be passed `options` to allow the environment initialisation to be passed additional information.\u001b[0m\n",
      "  logger.warn(\n",
      "/home/tk/.virtualenvs/dev-python3.8/lib/python3.8/site-packages/gym/utils/passive_env_checker.py:133: UserWarning: \u001b[33mWARN: The obs returned by the `reset()` method should be an int or np.int64, actual type: <class 'dict'>\u001b[0m\n",
      "  logger.warn(f\"{pre} should be an int or np.int64, actual type: {type(obs)}\")\n",
      "/home/tk/.virtualenvs/dev-python3.8/lib/python3.8/site-packages/gym/utils/passive_env_checker.py:165: UserWarning: \u001b[33mWARN: The obs returned by the `reset()` method is not within the observation space.\u001b[0m\n",
      "  logger.warn(f\"{pre} is not within the observation space.\")\n",
      "/home/tk/.virtualenvs/dev-python3.8/lib/python3.8/site-packages/gym/utils/passive_env_checker.py:219: DeprecationWarning: \u001b[33mWARN: Core environment is written in old step API which returns one bool instead of two. It is recommended to rewrite the environment with new step API. \u001b[0m\n",
      "  logger.deprecation(\n",
      "/home/tk/.virtualenvs/dev-python3.8/lib/python3.8/site-packages/gym/utils/passive_env_checker.py:133: UserWarning: \u001b[33mWARN: The obs returned by the `step()` method should be an int or np.int64, actual type: <class 'dict'>\u001b[0m\n",
      "  logger.warn(f\"{pre} should be an int or np.int64, actual type: {type(obs)}\")\n",
      "/home/tk/.virtualenvs/dev-python3.8/lib/python3.8/site-packages/gym/utils/passive_env_checker.py:165: UserWarning: \u001b[33mWARN: The obs returned by the `step()` method is not within the observation space.\u001b[0m\n",
      "  logger.warn(f\"{pre} is not within the observation space.\")\n"
     ]
    },
    {
     "name": "stdout",
     "output_type": "stream",
     "text": [
      "capacity=2, strategy=episodic,\tpre_sem=False,\trewards_mean=-11.0, rewards_std=4.266\n",
      "capacity=2, strategy=semantic,\tpre_sem=False,\trewards_mean=-8.8, rewards_std=2.993\n",
      "capacity=2, strategy=random,\tpre_sem=False,\trewards_mean=-10.0, rewards_std=3.521\n",
      "capacity=2, strategy=pre_sem,\tpre_sem=True,\trewards_mean=-10.0, rewards_std=3.347\n",
      "\n",
      "capacity=4, strategy=episodic,\tpre_sem=False,\trewards_mean=-9.8, rewards_std=3.894\n",
      "capacity=4, strategy=semantic,\tpre_sem=False,\trewards_mean=-7.2, rewards_std=4.02\n",
      "capacity=4, strategy=random,\tpre_sem=False,\trewards_mean=-9.4, rewards_std=3.169\n",
      "capacity=4, strategy=pre_sem,\tpre_sem=True,\trewards_mean=-9.2, rewards_std=4.118\n",
      "\n",
      "capacity=8, strategy=episodic,\tpre_sem=False,\trewards_mean=-8.8, rewards_std=3.816\n",
      "capacity=8, strategy=semantic,\tpre_sem=False,\trewards_mean=-4.2, rewards_std=4.094\n",
      "capacity=8, strategy=random,\tpre_sem=False,\trewards_mean=-7.6, rewards_std=3.441\n",
      "capacity=8, strategy=pre_sem,\tpre_sem=True,\trewards_mean=-7.0, rewards_std=4.494\n",
      "\n",
      "capacity=16, strategy=episodic,\tpre_sem=False,\trewards_mean=-6.4, rewards_std=3.499\n",
      "capacity=16, strategy=semantic,\tpre_sem=False,\trewards_mean=2.4, rewards_std=5.2\n",
      "capacity=16, strategy=random,\tpre_sem=False,\trewards_mean=-3.2, rewards_std=4.167\n",
      "capacity=16, strategy=pre_sem,\tpre_sem=True,\trewards_mean=-3.0, rewards_std=5.196\n",
      "\n",
      "capacity=32, strategy=episodic,\tpre_sem=False,\trewards_mean=-3.2, rewards_std=4.445\n",
      "capacity=32, strategy=semantic,\tpre_sem=False,\trewards_mean=3.4, rewards_std=5.333\n",
      "capacity=32, strategy=random,\tpre_sem=False,\trewards_mean=-2.2, rewards_std=4.686\n",
      "capacity=32, strategy=pre_sem,\tpre_sem=True,\trewards_mean=7.2, rewards_std=3.919\n",
      "\n",
      "capacity=64, strategy=episodic,\tpre_sem=False,\trewards_mean=-1.2, rewards_std=4.578\n",
      "capacity=64, strategy=semantic,\tpre_sem=False,\trewards_mean=2.8, rewards_std=4.707\n",
      "capacity=64, strategy=random,\tpre_sem=False,\trewards_mean=-1.4, rewards_std=4.862\n",
      "capacity=64, strategy=pre_sem,\tpre_sem=True,\trewards_mean=6.8, rewards_std=3.763\n",
      "\n"
     ]
    }
   ],
   "source": [
    "import logging\n",
    "\n",
    "logger = logging.getLogger()\n",
    "logger.disabled = True\n",
    "\n",
    "from room_env.utils import print_handcrafted\n",
    "\n",
    "\n",
    "print_handcrafted(\n",
    "    env=\"RoomEnv-v2\",\n",
    "    des_size=\"l\",\n",
    "    seeds=[0, 1, 2, 3, 4, 5, 6, 7, 8, 9],\n",
    "    question_prob=0.1,\n",
    "    policies={\n",
    "        \"memory_management\": \"rl\",\n",
    "        \"question_answer\": \"episodic_semantic\",\n",
    "        \"encoding\": \"argmax\",\n",
    "    },\n",
    "    capacities=[2, 4, 8, 16, 32, 64],\n",
    "    allow_random_human=False,\n",
    "    allow_random_question=True,\n",
    "    varying_rewards=False,\n",
    "    check_resources=True,\n",
    ")"
   ]
  },
  {
   "cell_type": "code",
   "execution_count": null,
   "metadata": {},
   "outputs": [],
   "source": [
    "from glob import glob\n",
    "import numpy as np\n",
    "\n",
    "paths = glob(\"./training_results_AMD/*/test_debug*\")\n",
    "categories = sorted(\n",
    "    list(set([path.split(\"/\")[-2].split(\"-seed\")[0] for path in paths]))\n",
    ")\n",
    "categories = [foo for foo in categories if \"-gamma=0.99-\" not in foo]\n",
    "\n",
    "foo = [\n",
    "    (\n",
    "        category,\n",
    "        np.mean(\n",
    "            [\n",
    "                float(path.split(\"/\")[-1].split(\"-mean=\")[-1].split(\"-std=\")[0])\n",
    "                for path in paths\n",
    "                if category in path\n",
    "            ]\n",
    "        )\n",
    "        .round(3)\n",
    "        .item(),\n",
    "    )\n",
    "    for category in categories\n",
    "]\n",
    "foo"
   ]
  },
  {
   "cell_type": "code",
   "execution_count": null,
   "metadata": {},
   "outputs": [],
   "source": [
    "import logging\n",
    "\n",
    "logger = logging.getLogger()\n",
    "logger.disabled = True\n",
    "\n",
    "from glob import glob\n",
    "import os\n",
    "from utils import read_yaml\n",
    "\n",
    "# des_size=l-capacity=2-pretrain=True-gpus=0-seed=0\n",
    "\n",
    "for path in glob(\"./training_results_AMD/*/*/version*/test_debug-*\"):\n",
    "    dir_name_old = \"/\".join(path.split(\"/\")[:-1])\n",
    "    hparams_path = os.path.join(dir_name_old, \"hparams.yaml\")\n",
    "    hparams = read_yaml(hparams_path)\n",
    "    des_size = hparams[\"des_size\"]\n",
    "    capacity = hparams[\"capacity\"]\n",
    "    capacity = capacity[\"episodic\"] + capacity[\"semantic\"]\n",
    "    allow_random_human = hparams[\"allow_random_human\"]\n",
    "    allow_random_question = hparams[\"allow_random_question\"]\n",
    "    pretrain_semantic = hparams[\"pretrain_semantic\"]\n",
    "    varying_rewards = hparams[\"varying_rewards\"]\n",
    "    gamma = hparams[\"gamma\"]\n",
    "    gpus = hparams[\"gpus\"]\n",
    "    seed = hparams[\"seed\"]\n",
    "    dir_name_new = (\n",
    "        f\"./training_results_AMD/des_size={des_size}-capacity={capacity}-\"\n",
    "        f\"allow_random_human={allow_random_human}-allow_random_question={allow_random_question}-\"\n",
    "        f\"pretrain={pretrain_semantic}-varying_rewards={varying_rewards}-gamma={gamma}-\"\n",
    "        f\"gpus={gpus}-seed={seed}\"\n",
    "    )\n",
    "    print(dir_name_old, dir_name_new)\n",
    "    os.rename(dir_name_old, dir_name_new)"
   ]
  },
  {
   "cell_type": "code",
   "execution_count": null,
   "metadata": {},
   "outputs": [],
   "source": [
    "import logging\n",
    "\n",
    "logger = logging.getLogger()\n",
    "logger.disabled = True\n",
    "import room_env\n",
    "from room_env import utils"
   ]
  },
  {
   "cell_type": "code",
   "execution_count": null,
   "metadata": {},
   "outputs": [],
   "source": [
    "for allow_random_human in [True, False]:\n",
    "    for allow_random_question in [True, False]:\n",
    "\n",
    "        print(\n",
    "            f\"allow_random_human: {allow_random_human}, allow_random_question: {allow_random_question}\"\n",
    "        )\n",
    "\n",
    "        utils.print_handcrafted(\n",
    "            env=\"RoomEnv-v2\",\n",
    "            des_size=\"l\",\n",
    "            seeds=[0, 1, 2, 3, 4, 5, 6, 7, 8, 9],\n",
    "            question_prob=0.1,\n",
    "            policies={\n",
    "                \"memory_management\": \"rl\",\n",
    "                \"question_answer\": \"episodic_semantic\",\n",
    "                \"encoding\": \"argmax\",\n",
    "            },\n",
    "            capacities=[32],\n",
    "            allow_random_human=allow_random_human,\n",
    "            allow_random_question=allow_random_question,\n",
    "            varying_rewards=False,\n",
    "        )"
   ]
  },
  {
   "cell_type": "code",
   "execution_count": null,
   "metadata": {},
   "outputs": [],
   "source": [
    "from copy import deepcopy\n",
    "from glob import glob\n",
    "from utils import read_yaml, read_json, write_yaml\n",
    "\n",
    "foo = read_yaml(\"./train.yaml\")\n",
    "\n",
    "for capacity in [2, 4, 8, 16, 32, 64]:\n",
    "    for pretrain_semantic in [True, False]:\n",
    "        for seed in [0, 1, 2, 3, 4]:\n",
    "            foo = deepcopy(foo)\n",
    "            foo[\"pretrain_semantic\"] = pretrain_semantic\n",
    "            foo[\"capacity\"] = {\n",
    "                \"episodic\": capacity // 2,\n",
    "                \"semantic\": capacity // 2,\n",
    "                \"short\": 1,\n",
    "            }\n",
    "            foo[\"seed\"] = seed\n",
    "            write_yaml(foo, f\"{capacity}_{pretrain_semantic}_{seed}.yaml\")"
   ]
  },
  {
   "cell_type": "code",
   "execution_count": null,
   "metadata": {},
   "outputs": [],
   "source": [
    "from glob import glob\n",
    "import os\n",
    "import numpy as np\n",
    "from utils import read_yaml, read_json\n",
    "\n",
    "results_ = []\n",
    "for path in glob(\"./training_results_AMD/*/*/test_debug-*\"):\n",
    "    dir_name_old = \"/\".join(path.split(\"/\")[:-1])\n",
    "    hparams_path = os.path.join(dir_name_old, \"hparams.yaml\")\n",
    "    hparams = read_yaml(hparams_path)\n",
    "    des_size = hparams[\"des_size\"]\n",
    "    capacity = hparams[\"capacity\"]\n",
    "    capacity = capacity[\"episodic\"] + capacity[\"semantic\"]\n",
    "    pretrain_semantic = hparams[\"pretrain_semantic\"]\n",
    "    gpus = hparams[\"gpus\"]\n",
    "    seed = hparams[\"seed\"]\n",
    "\n",
    "    test_mean = float(path.split(\"test_debug-mean=\")[-1].split(\"-std\")[0])\n",
    "    results_.append((des_size, capacity, pretrain_semantic, seed, test_mean))\n",
    "\n",
    "results = {}\n",
    "for capacity in [2, 4, 8, 16, 32, 64]:\n",
    "    for pretrain_semantic in [False, True]:\n",
    "        results[f\"capacity={capacity}_pretrain_semantic={pretrain_semantic}\"] = round(\n",
    "            np.mean(\n",
    "                [\n",
    "                    foo[-1]\n",
    "                    for foo in results_\n",
    "                    if foo[1] == capacity and foo[2] == pretrain_semantic\n",
    "                ]\n",
    "            ),\n",
    "            3,\n",
    "        ).item(), round(\n",
    "            np.std(\n",
    "                [\n",
    "                    foo[-1]\n",
    "                    for foo in results_\n",
    "                    if foo[1] == capacity and foo[2] == pretrain_semantic\n",
    "                ]\n",
    "            ).item(),\n",
    "            3,\n",
    "        )\n",
    "results"
   ]
  },
  {
   "cell_type": "code",
   "execution_count": null,
   "metadata": {},
   "outputs": [],
   "source": [
    "import logging\n",
    "\n",
    "logger = logging.getLogger()\n",
    "logger.disabled = True\n",
    "\n",
    "from room_env.utils import print_handcrafted\n",
    "\n",
    "print_handcrafted(\n",
    "    env=\"RoomEnv-v2\",\n",
    "    des_size=\"l\",\n",
    "    seeds=[0, 1, 2, 3, 4, 5, 6, 7, 8, 9],\n",
    "    question_prob=0.1,\n",
    "    policies={\n",
    "        \"memory_management\": \"rl\",\n",
    "        \"question_answer\": \"episodic_semantic\",\n",
    "        \"encoding\": \"argmax\",\n",
    "    },\n",
    "    capacities=[2, 4, 8, 16, 32, 64],\n",
    ")"
   ]
  },
  {
   "cell_type": "code",
   "execution_count": null,
   "metadata": {},
   "outputs": [],
   "source": []
  },
  {
   "cell_type": "code",
   "execution_count": null,
   "metadata": {},
   "outputs": [],
   "source": [
    "path"
   ]
  },
  {
   "cell_type": "code",
   "execution_count": null,
   "metadata": {},
   "outputs": [],
   "source": [
    "hparams[\"allow_random_human\"]"
   ]
  },
  {
   "cell_type": "code",
   "execution_count": null,
   "metadata": {},
   "outputs": [],
   "source": [
    "import gym\n",
    "import room_env\n",
    "\n",
    "capacity = 32\n",
    "env = gym.make(\n",
    "    \"RoomEnv-v2\",\n",
    "    des_size=\"l\",\n",
    "    seed=0,\n",
    "    policies={\n",
    "        \"memory_management\": \"rl\",\n",
    "        \"question_answer\": \"episodic_semantic\",\n",
    "        \"encoding\": \"argmax\",\n",
    "    },\n",
    "    capacity={\"episodic\": capacity // 2, \"semantic\": capacity // 2},\n",
    "    question_prob=0.1,\n",
    "    observation_params=\"perfect\",\n",
    "    allow_random_human=True,\n",
    "    allow_random_question=True,\n",
    "    pretrain_semantic=False,\n",
    "    check_resources=False,\n",
    ")\n",
    "state, info = env.reset()"
   ]
  },
  {
   "cell_type": "markdown",
   "metadata": {},
   "source": [
    "# Plotting\n"
   ]
  },
  {
   "cell_type": "markdown",
   "metadata": {},
   "source": [
    "## Average sum of rewards per episode, validation (5 random runs)\n"
   ]
  },
  {
   "cell_type": "code",
   "execution_count": null,
   "metadata": {},
   "outputs": [],
   "source": [
    "from plotting import plot_training_validation_results\n",
    "\n",
    "plot_training_validation_results(\n",
    "    data_dir=\"./data/\",\n",
    "    kind=\"val_total_reward_mean\",\n",
    "    capacity=32,\n",
    "    save_dir=\"./figures/\",\n",
    "    ymin=64,\n",
    "    ymax=128,\n",
    "    ylog=False,\n",
    "    xlabel=\"Step\",\n",
    "    figsize=(10, 10),\n",
    "    legend_loc=\"lower right\",\n",
    ")"
   ]
  },
  {
   "cell_type": "markdown",
   "metadata": {},
   "source": [
    "## Average training loss (5 random runs)\n"
   ]
  },
  {
   "cell_type": "code",
   "execution_count": null,
   "metadata": {},
   "outputs": [],
   "source": [
    "plot_training_validation_results(\n",
    "    data_dir=\"./data/\",\n",
    "    kind=\"train_loss\",\n",
    "    capacity=32,\n",
    "    save_dir=\"./figures/\",\n",
    "    ymin=None,\n",
    "    ymax=None,\n",
    "    ylog=True,\n",
    "    xlabel=\"Step\",\n",
    "    figsize=(10, 10),\n",
    "    legend_loc=\"upper right\",\n",
    ")"
   ]
  },
  {
   "cell_type": "markdown",
   "metadata": {},
   "source": [
    "## Average sum of rewards per episode, test (5 random runs), capacity=32\n"
   ]
  },
  {
   "cell_type": "code",
   "execution_count": null,
   "metadata": {},
   "outputs": [],
   "source": [
    "from plotting import plot_test_results\n",
    "\n",
    "plot_test_results()"
   ]
  },
  {
   "cell_type": "markdown",
   "metadata": {},
   "source": [
    "## Average sum of rewards per episode, test (5 random runs), capacity=32, all sizes\n"
   ]
  },
  {
   "cell_type": "code",
   "execution_count": null,
   "metadata": {},
   "outputs": [],
   "source": [
    "from plotting import plot_test_results_all_capacities\n",
    "import matplotlib.pyplot as plt\n",
    "\n",
    "plot_test_results_all_capacities()"
   ]
  },
  {
   "cell_type": "markdown",
   "metadata": {},
   "source": [
    "## Load the q values\n"
   ]
  },
  {
   "cell_type": "code",
   "execution_count": null,
   "metadata": {},
   "outputs": [],
   "source": [
    "from utils import read_json\n",
    "\n",
    "test_debug_scratch_path = \"./models/des_size=l-capacity=32-pretrain=False-gpus=0-seed=1/test_debug-mean=115.0-std=3.225.json\"\n",
    "\n",
    "test_debug_scratch = read_json(test_debug_scratch_path)[\"0\"]\n",
    "\n",
    "test_debug_pretrained_path = \"./models/des_size=l-capacity=32-pretrain=True-gpus=0-seed=2/test_debug-mean=117.5-std=2.54.json\"\n",
    "test_debug_pretrained = read_json(test_debug_pretrained_path)[\"0\"]\n",
    "\n",
    "for step in [86]:\n",
    "    print(f\"STEP: {step}\")\n",
    "    print()\n",
    "    print(f\"SCRATCH: {test_debug_scratch[step]}\")\n",
    "    print()\n",
    "    print(f\"PRETRAINED: {test_debug_pretrained[step]}\")\n",
    "    print()\n",
    "    print(\n",
    "        \"----------------------------------------------------------------------------\"\n",
    "    )"
   ]
  },
  {
   "cell_type": "markdown",
   "metadata": {},
   "source": [
    "## Load the trained models and visualize the t-SNE-reduced embeddings.\n"
   ]
  },
  {
   "cell_type": "code",
   "execution_count": null,
   "metadata": {},
   "outputs": [],
   "source": [
    "from plotting import UnderstandModel\n",
    "\n",
    "um = UnderstandModel()\n",
    "\n",
    "um.compute_reduction(\n",
    "    tsne_params={\n",
    "        \"n_components\": 2,\n",
    "        \"perplexity\": 5,\n",
    "        \"init\": \"pca\",\n",
    "        \"learning_rate\": \"auto\",\n",
    "    }\n",
    ")\n",
    "\n",
    "print(\n",
    "    len(um.indices[\"humans\"]),\n",
    "    len(um.indices[\"objects\"]),\n",
    "    len(um.indices[\"object_locations\"]),\n",
    ")\n",
    "\n",
    "for semantic in [\"scratch\", \"pretrained\"]:\n",
    "    for interest in [\"humans\", \"objects\", \"object_locations\"]:\n",
    "        um.plot_embeddings(semantic=semantic, interest=interest)"
   ]
  }
 ],
 "metadata": {
  "interpreter": {
   "hash": "c7c14ce45c674ffbe7e3a8bc18299264a1035542c780d18c0e8f0c585e044f28"
  },
  "kernelspec": {
   "display_name": "Python 3.8.12 ('dev-python3.8')",
   "language": "python",
   "name": "python3"
  },
  "language_info": {
   "codemirror_mode": {
    "name": "ipython",
    "version": 3
   },
   "file_extension": ".py",
   "mimetype": "text/x-python",
   "name": "python",
   "nbconvert_exporter": "python",
   "pygments_lexer": "ipython3",
   "version": "3.8.14"
  },
  "orig_nbformat": 4
 },
 "nbformat": 4,
 "nbformat_minor": 2
}
