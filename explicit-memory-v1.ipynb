{
 "cells": [
  {
   "cell_type": "code",
   "execution_count": 82,
   "metadata": {},
   "outputs": [],
   "source": [
    "from copy import deepcopy\n",
    "from glob import glob\n",
    "from utils import read_yaml, read_json, write_yaml\n",
    "\n",
    "foo = read_yaml(\"./train.yaml\")\n",
    "\n",
    "for capacity in [2, 4, 8, 16, 32, 64]:\n",
    "    for pretrain_semantic in [True, False]:\n",
    "        for seed in [0, 1, 2, 3, 4]:\n",
    "            foo = deepcopy(foo)\n",
    "            foo[\"pretrain_semantic\"] = pretrain_semantic\n",
    "            foo[\"capacity\"] = {\n",
    "                \"episodic\": capacity // 2,\n",
    "                \"semantic\": capacity // 2,\n",
    "                \"short\": 1,\n",
    "            }\n",
    "            foo[\"seed\"] = seed\n",
    "            write_yaml(foo, f\"{capacity}_{pretrain_semantic}_{seed}.yaml\")\n"
   ]
  },
  {
   "cell_type": "code",
   "execution_count": 1,
   "metadata": {},
   "outputs": [
    {
     "data": {
      "text/plain": [
       "{'capacity=2_pretrain_semantic=False': (-54.821, 6.35),\n",
       " 'capacity=2_pretrain_semantic=True': (-62.357, 9.042),\n",
       " 'capacity=4_pretrain_semantic=False': (-46.625, 4.526),\n",
       " 'capacity=4_pretrain_semantic=True': (-46.245, 6.818),\n",
       " 'capacity=8_pretrain_semantic=False': (-19.292, 10.413),\n",
       " 'capacity=8_pretrain_semantic=True': (-21.65, 7.268),\n",
       " 'capacity=16_pretrain_semantic=False': (24.252, 6.438),\n",
       " 'capacity=16_pretrain_semantic=True': (14.194, 11.754),\n",
       " 'capacity=32_pretrain_semantic=False': (51.839, 6.16),\n",
       " 'capacity=32_pretrain_semantic=True': (70.289, 9.34),\n",
       " 'capacity=64_pretrain_semantic=False': (77.515, 17.593),\n",
       " 'capacity=64_pretrain_semantic=True': (78.726, 10.394)}"
      ]
     },
     "execution_count": 1,
     "metadata": {},
     "output_type": "execute_result"
    }
   ],
   "source": [
    "from glob import glob\n",
    "import os\n",
    "import numpy as np\n",
    "from utils import read_yaml, read_json\n",
    "\n",
    "results_ = []\n",
    "for path in glob(\"./lightning_logs/*/test_debug-*\"):\n",
    "    dir_name_old = \"/\".join(path.split(\"/\")[:-1])\n",
    "    hparams_path = os.path.join(dir_name_old, \"hparams.yaml\")\n",
    "    hparams = read_yaml(hparams_path)\n",
    "    des_size = hparams[\"des_size\"]\n",
    "    capacity = hparams[\"capacity\"]\n",
    "    capacity = capacity[\"episodic\"] + capacity[\"semantic\"]\n",
    "    pretrain_semantic = hparams[\"pretrain_semantic\"]\n",
    "    gpus = hparams[\"gpus\"]\n",
    "    seed = hparams[\"seed\"]\n",
    "\n",
    "    test_mean = float(path.split(\"test_debug-mean=\")[-1].split(\"-std\")[0])\n",
    "    results_.append((des_size, capacity, pretrain_semantic, seed, test_mean))\n",
    "\n",
    "results = {}\n",
    "for capacity in [2, 4, 8, 16, 32, 64]:\n",
    "    for pretrain_semantic in [False, True]:\n",
    "        results[f\"capacity={capacity}_pretrain_semantic={pretrain_semantic}\"] = round(np.mean(\n",
    "            [\n",
    "                foo[-1]\n",
    "                for foo in results_\n",
    "                if foo[1] == capacity and foo[2] == pretrain_semantic\n",
    "            ]\n",
    "        ), 3).item(), round(np.std(\n",
    "            [\n",
    "                foo[-1]\n",
    "                for foo in results_\n",
    "                if foo[1] == capacity and foo[2] == pretrain_semantic\n",
    "            ]\n",
    "        ).item(), 3)\n",
    "results\n"
   ]
  },
  {
   "cell_type": "code",
   "execution_count": 2,
   "metadata": {},
   "outputs": [
    {
     "name": "stdout",
     "output_type": "stream",
     "text": [
      "capacity=2, strategy=episodic,\tpre_sem=False,\trewards_mean=-87, rewards_std=13\n",
      "capacity=2, strategy=semantic,\tpre_sem=False,\trewards_mean=-79, rewards_std=16\n",
      "capacity=2, strategy=random,\tpre_sem=False,\trewards_mean=-84, rewards_std=17\n",
      "capacity=2, strategy=pre_sem,\tpre_sem=True,\trewards_mean=-72, rewards_std=21\n",
      "\n",
      "capacity=4, strategy=episodic,\tpre_sem=False,\trewards_mean=-85, rewards_std=15\n",
      "capacity=4, strategy=semantic,\tpre_sem=False,\trewards_mean=-47, rewards_std=18\n",
      "capacity=4, strategy=random,\tpre_sem=False,\trewards_mean=-74, rewards_std=14\n",
      "capacity=4, strategy=pre_sem,\tpre_sem=True,\trewards_mean=-63, rewards_std=28\n",
      "\n",
      "capacity=8, strategy=episodic,\tpre_sem=False,\trewards_mean=-77, rewards_std=16\n",
      "capacity=8, strategy=semantic,\tpre_sem=False,\trewards_mean=-29, rewards_std=27\n",
      "capacity=8, strategy=random,\tpre_sem=False,\trewards_mean=-64, rewards_std=22\n",
      "capacity=8, strategy=pre_sem,\tpre_sem=True,\trewards_mean=-53, rewards_std=33\n",
      "\n",
      "capacity=16, strategy=episodic,\tpre_sem=False,\trewards_mean=-58, rewards_std=17\n",
      "capacity=16, strategy=semantic,\tpre_sem=False,\trewards_mean=7, rewards_std=32\n",
      "capacity=16, strategy=random,\tpre_sem=False,\trewards_mean=-23, rewards_std=19\n",
      "capacity=16, strategy=pre_sem,\tpre_sem=True,\trewards_mean=-4, rewards_std=43\n",
      "\n",
      "capacity=32, strategy=episodic,\tpre_sem=False,\trewards_mean=-16, rewards_std=25\n",
      "capacity=32, strategy=semantic,\tpre_sem=False,\trewards_mean=21, rewards_std=29\n",
      "capacity=32, strategy=random,\tpre_sem=False,\trewards_mean=-16, rewards_std=19\n",
      "capacity=32, strategy=pre_sem,\tpre_sem=True,\trewards_mean=57, rewards_std=28\n",
      "\n",
      "capacity=64, strategy=episodic,\tpre_sem=False,\trewards_mean=0, rewards_std=25\n",
      "capacity=64, strategy=semantic,\tpre_sem=False,\trewards_mean=22, rewards_std=29\n",
      "capacity=64, strategy=random,\tpre_sem=False,\trewards_mean=-11, rewards_std=13\n",
      "capacity=64, strategy=pre_sem,\tpre_sem=True,\trewards_mean=61, rewards_std=28\n",
      "\n"
     ]
    }
   ],
   "source": [
    "import logging\n",
    "\n",
    "logger = logging.getLogger()\n",
    "logger.disabled = True\n",
    "\n",
    "from room_env.utils import print_handcrafted\n",
    "\n",
    "print_handcrafted(\n",
    "    env=\"RoomEnv-v2\",\n",
    "    des_size=\"l\",\n",
    "    seeds=[0, 1, 2, 3, 4, 5, 6, 7, 8, 9],\n",
    "    question_prob=0.1,\n",
    "    policies={\n",
    "        \"memory_management\": \"rl\",\n",
    "        \"question_answer\": \"episodic_semantic\",\n",
    "        \"encoding\": \"argmax\",\n",
    "    },\n",
    "    capacities=[2, 4, 8, 16, 32, 64],\n",
    ")"
   ]
  },
  {
   "cell_type": "code",
   "execution_count": null,
   "metadata": {},
   "outputs": [],
   "source": [
    "from glob import glob\n",
    "import os\n",
    "from utils import read_yaml\n",
    "\n",
    "# des_size=l-capacity=2-pretrain=True-gpus=0-seed=0\n",
    "\n",
    "for path in glob(\"./lightning_logs/version*/test_debug-*\"):\n",
    "    dir_name_old = \"/\".join(path.split(\"/\")[:-1])\n",
    "    hparams_path = os.path.join(dir_name_old, \"hparams.yaml\")\n",
    "    hparams = read_yaml(hparams_path)\n",
    "    des_size = hparams[\"des_size\"]\n",
    "    capacity = hparams[\"capacity\"]\n",
    "    capacity = capacity[\"episodic\"] + capacity[\"semantic\"]\n",
    "    pretrain_semantic = hparams[\"pretrain_semantic\"]\n",
    "    gpus = hparams[\"gpus\"]\n",
    "    seed = hparams[\"seed\"]\n",
    "    dir_name_new = f\"des_size={des_size}-capacity={capacity}-pretrain={pretrain_semantic}-gpus={gpus}-seed={seed}\"\n",
    "    print(dir_name_old, dir_name_new)\n",
    "    os.rename(dir_name_old, dir_name_new)\n"
   ]
  },
  {
   "cell_type": "code",
   "execution_count": null,
   "metadata": {},
   "outputs": [],
   "source": [
    "import gym\n",
    "import room_env\n",
    "\n",
    "capacity = 32\n",
    "env = gym.make(\n",
    "    \"RoomEnv-v2\",\n",
    "    des_size=\"l\",\n",
    "    seed=0,\n",
    "    policies={\n",
    "        \"memory_management\": \"rl\",\n",
    "        \"question_answer\": \"episodic_semantic\",\n",
    "        \"encoding\": \"argmax\",\n",
    "    },\n",
    "    capacity={\"episodic\": capacity // 2, \"semantic\": capacity // 2},\n",
    "    question_prob=0.1,\n",
    "    observation_params=\"perfect\",\n",
    "    allow_random_human=True,\n",
    "    allow_random_question=True,\n",
    "    pretrain_semantic=False,\n",
    "    check_resources=False,\n",
    ")\n",
    "state = env.reset()\n"
   ]
  },
  {
   "cell_type": "markdown",
   "metadata": {},
   "source": [
    "# Plotting\n"
   ]
  },
  {
   "cell_type": "markdown",
   "metadata": {},
   "source": [
    "## Average sum of rewards per episode, validation (5 random runs)\n"
   ]
  },
  {
   "cell_type": "code",
   "execution_count": null,
   "metadata": {},
   "outputs": [],
   "source": [
    "from memory.plotting import plot_training_validation_results\n",
    "\n",
    "plot_training_validation_results(\n",
    "    data_dir=\"./data/\",\n",
    "    kind=\"val_total_reward_mean\",\n",
    "    capacity=32,\n",
    "    save_dir=\"./figures/\",\n",
    "    ymin=64,\n",
    "    ymax=128,\n",
    "    ylog=False,\n",
    "    xlabel=\"Step\",\n",
    "    figsize=(10, 10),\n",
    "    legend_loc=\"lower right\",\n",
    ")"
   ]
  },
  {
   "cell_type": "markdown",
   "metadata": {},
   "source": [
    "## Average training loss (5 random runs)\n"
   ]
  },
  {
   "cell_type": "code",
   "execution_count": null,
   "metadata": {},
   "outputs": [],
   "source": [
    "plot_training_validation_results(\n",
    "    data_dir=\"./data/\",\n",
    "    kind=\"train_loss\",\n",
    "    capacity=32,\n",
    "    save_dir=\"./figures/\",\n",
    "    ymin=None,\n",
    "    ymax=None,\n",
    "    ylog=True,\n",
    "    xlabel=\"Step\",\n",
    "    figsize=(10, 10),\n",
    "    legend_loc=\"upper right\",\n",
    ")"
   ]
  },
  {
   "cell_type": "markdown",
   "metadata": {},
   "source": [
    "## Average sum of rewards per episode, test (5 random runs), capacity=32\n"
   ]
  },
  {
   "cell_type": "code",
   "execution_count": null,
   "metadata": {},
   "outputs": [],
   "source": [
    "from memory.plotting import plot_test_results\n",
    "\n",
    "plot_test_results()"
   ]
  },
  {
   "cell_type": "markdown",
   "metadata": {},
   "source": [
    "## Average sum of rewards per episode, test (5 random runs), capacity=32, all sizes\n"
   ]
  },
  {
   "cell_type": "code",
   "execution_count": null,
   "metadata": {},
   "outputs": [],
   "source": [
    "from memory.plotting import plot_test_results_all_capacities\n",
    "import matplotlib.pyplot as plt\n",
    "\n",
    "plot_test_results_all_capacities()"
   ]
  },
  {
   "cell_type": "markdown",
   "metadata": {},
   "source": [
    "## Load the q values\n"
   ]
  },
  {
   "cell_type": "code",
   "execution_count": null,
   "metadata": {},
   "outputs": [],
   "source": [
    "from memory.utils import read_json\n",
    "\n",
    "test_debug_scratch_path = \"./models/des_size=l-capacity=32-pretrain=False-gpus=0-seed=1/test_debug-mean=115.0-std=3.225.json\"\n",
    "\n",
    "test_debug_scratch = read_json(test_debug_scratch_path)[\"0\"]\n",
    "\n",
    "test_debug_pretrained_path = \"./models/des_size=l-capacity=32-pretrain=True-gpus=0-seed=2/test_debug-mean=117.5-std=2.54.json\"\n",
    "test_debug_pretrained = read_json(test_debug_pretrained_path)[\"0\"]\n",
    "\n",
    "for step in [86]:\n",
    "    print(f\"STEP: {step}\")\n",
    "    print()\n",
    "    print(f\"SCRATCH: {test_debug_scratch[step]}\")\n",
    "    print()\n",
    "    print(f\"PRETRAINED: {test_debug_pretrained[step]}\")\n",
    "    print()\n",
    "    print(\n",
    "        \"----------------------------------------------------------------------------\"\n",
    "    )"
   ]
  },
  {
   "cell_type": "markdown",
   "metadata": {},
   "source": [
    "## Load the trained models and visualize the t-SNE-reduced embeddings.\n"
   ]
  },
  {
   "cell_type": "code",
   "execution_count": null,
   "metadata": {},
   "outputs": [],
   "source": [
    "from memory.plotting import UnderstandModel\n",
    "\n",
    "um = UnderstandModel()\n",
    "\n",
    "um.compute_reduction(\n",
    "    tsne_params={\n",
    "        \"n_components\": 2,\n",
    "        \"perplexity\": 5,\n",
    "        \"init\": \"pca\",\n",
    "        \"learning_rate\": \"auto\",\n",
    "    }\n",
    ")\n",
    "\n",
    "print(\n",
    "    len(um.indices[\"humans\"]),\n",
    "    len(um.indices[\"objects\"]),\n",
    "    len(um.indices[\"object_locations\"]),\n",
    ")\n",
    "\n",
    "for semantic in [\"scratch\", \"pretrained\"]:\n",
    "    for interest in [\"humans\", \"objects\", \"object_locations\"]:\n",
    "        um.plot_embeddings(semantic=semantic, interest=interest)"
   ]
  }
 ],
 "metadata": {
  "interpreter": {
   "hash": "c7c14ce45c674ffbe7e3a8bc18299264a1035542c780d18c0e8f0c585e044f28"
  },
  "kernelspec": {
   "display_name": "Python 3.8.12 ('dev-python3.8')",
   "language": "python",
   "name": "python3"
  },
  "language_info": {
   "codemirror_mode": {
    "name": "ipython",
    "version": 3
   },
   "file_extension": ".py",
   "mimetype": "text/x-python",
   "name": "python",
   "nbconvert_exporter": "python",
   "pygments_lexer": "ipython3",
   "version": "3.8.14"
  },
  "orig_nbformat": 4
 },
 "nbformat": 4,
 "nbformat_minor": 2
}
